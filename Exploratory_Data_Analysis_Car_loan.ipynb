{
 "cells": [
  {
   "cell_type": "markdown",
   "id": "d4c44606",
   "metadata": {},
   "source": [
    "### Problem Statement\n",
    "Assume that You work for a financial institution that provides car loans to customers. The organization has collected a dataset containing information about various car loan applications they've received over the past year.\n",
    "\n",
    "The customers are approaching to a finance company for a car loan. In order to better understand the factors influencing car loan approval/amount requested, perform exploratory data analysis on the dataset and prepare the data for Model building.\n",
    "\n",
    "The dataset contains the following features:\n",
    "Cust id, Amount.Requested, Amount.Funded.By.Investors to company, Interest.Rate, Loan duration, Family income, credit score, employment length, owning a two wheeler, age band & debt to income ratio"
   ]
  },
  {
   "cell_type": "code",
   "execution_count": 1,
   "id": "9cfe26b4",
   "metadata": {},
   "outputs": [],
   "source": [
    "import pyforest\n",
    "import missingno as ms\n",
    "import warnings\n",
    "warnings.filterwarnings('ignore')"
   ]
  },
  {
   "cell_type": "code",
   "execution_count": 2,
   "id": "eb499956",
   "metadata": {},
   "outputs": [
    {
     "data": {
      "application/javascript": [
       "\n",
       "        if (window._pyforest_update_imports_cell) { window._pyforest_update_imports_cell('import pandas as pd'); }\n",
       "    "
      ],
      "text/plain": [
       "<IPython.core.display.Javascript object>"
      ]
     },
     "metadata": {},
     "output_type": "display_data"
    }
   ],
   "source": [
    "path=pd.read_excel('car_loan.xlsx',sheet_name=[0,1])"
   ]
  },
  {
   "cell_type": "code",
   "execution_count": 3,
   "id": "5b88c3bc",
   "metadata": {},
   "outputs": [],
   "source": [
    "x=path[0]"
   ]
  },
  {
   "cell_type": "code",
   "execution_count": 4,
   "id": "41beddcb",
   "metadata": {},
   "outputs": [],
   "source": [
    "y=path[1]"
   ]
  },
  {
   "cell_type": "code",
   "execution_count": 5,
   "id": "00e77159",
   "metadata": {},
   "outputs": [
    {
     "data": {
      "application/javascript": [
       "\n",
       "        if (window._pyforest_update_imports_cell) { window._pyforest_update_imports_cell('import pandas as pd'); }\n",
       "    "
      ],
      "text/plain": [
       "<IPython.core.display.Javascript object>"
      ]
     },
     "metadata": {},
     "output_type": "display_data"
    }
   ],
   "source": [
    "z=pd.read_csv('age_band.csv')"
   ]
  },
  {
   "cell_type": "code",
   "execution_count": 6,
   "id": "eee10885",
   "metadata": {},
   "outputs": [
    {
     "data": {
      "text/html": [
       "<div>\n",
       "<style scoped>\n",
       "    .dataframe tbody tr th:only-of-type {\n",
       "        vertical-align: middle;\n",
       "    }\n",
       "\n",
       "    .dataframe tbody tr th {\n",
       "        vertical-align: top;\n",
       "    }\n",
       "\n",
       "    .dataframe thead th {\n",
       "        text-align: right;\n",
       "    }\n",
       "</style>\n",
       "<table border=\"1\" class=\"dataframe\">\n",
       "  <thead>\n",
       "    <tr style=\"text-align: right;\">\n",
       "      <th></th>\n",
       "      <th>cust.ID</th>\n",
       "      <th>Amount.Requested for loan</th>\n",
       "      <th>Amount.Funded.By.Investors to bank</th>\n",
       "      <th>Interest.Rate</th>\n",
       "      <th>Loan duration</th>\n",
       "    </tr>\n",
       "  </thead>\n",
       "  <tbody>\n",
       "    <tr>\n",
       "      <th>0</th>\n",
       "      <td>84563.0</td>\n",
       "      <td>8000</td>\n",
       "      <td>8000</td>\n",
       "      <td>7.62#</td>\n",
       "      <td>36 months</td>\n",
       "    </tr>\n",
       "    <tr>\n",
       "      <th>1</th>\n",
       "      <td>78765.0</td>\n",
       "      <td>9000</td>\n",
       "      <td>9000</td>\n",
       "      <td>10.16#</td>\n",
       "      <td>36 months</td>\n",
       "    </tr>\n",
       "    <tr>\n",
       "      <th>2</th>\n",
       "      <td>24590.0</td>\n",
       "      <td>13000</td>\n",
       "      <td>12975</td>\n",
       "      <td>9.99#</td>\n",
       "      <td>60 months</td>\n",
       "    </tr>\n",
       "    <tr>\n",
       "      <th>3</th>\n",
       "      <td>9061.0</td>\n",
       "      <td>10000</td>\n",
       "      <td>10000</td>\n",
       "      <td>14.22#</td>\n",
       "      <td>36 months</td>\n",
       "    </tr>\n",
       "    <tr>\n",
       "      <th>4</th>\n",
       "      <td>47011.0</td>\n",
       "      <td>3600</td>\n",
       "      <td>3600</td>\n",
       "      <td>13.67#</td>\n",
       "      <td>36 months</td>\n",
       "    </tr>\n",
       "    <tr>\n",
       "      <th>...</th>\n",
       "      <td>...</td>\n",
       "      <td>...</td>\n",
       "      <td>...</td>\n",
       "      <td>...</td>\n",
       "      <td>...</td>\n",
       "    </tr>\n",
       "    <tr>\n",
       "      <th>2181</th>\n",
       "      <td>101795.0</td>\n",
       "      <td>10000</td>\n",
       "      <td>550</td>\n",
       "      <td>10.59#</td>\n",
       "      <td>36 months</td>\n",
       "    </tr>\n",
       "    <tr>\n",
       "      <th>2182</th>\n",
       "      <td>84805.0</td>\n",
       "      <td>13225</td>\n",
       "      <td>13225</td>\n",
       "      <td>15.31#</td>\n",
       "      <td>36 months</td>\n",
       "    </tr>\n",
       "    <tr>\n",
       "      <th>2183</th>\n",
       "      <td>101548.0</td>\n",
       "      <td>10000</td>\n",
       "      <td>525</td>\n",
       "      <td>14.7#</td>\n",
       "      <td>36 months</td>\n",
       "    </tr>\n",
       "    <tr>\n",
       "      <th>2184</th>\n",
       "      <td>3209.0</td>\n",
       "      <td>12000</td>\n",
       "      <td>11725</td>\n",
       "      <td>9.63#</td>\n",
       "      <td>36 months</td>\n",
       "    </tr>\n",
       "    <tr>\n",
       "      <th>2185</th>\n",
       "      <td>42828.0</td>\n",
       "      <td>16000</td>\n",
       "      <td>16000</td>\n",
       "      <td>8.9#</td>\n",
       "      <td>36 months</td>\n",
       "    </tr>\n",
       "  </tbody>\n",
       "</table>\n",
       "<p>2186 rows × 5 columns</p>\n",
       "</div>"
      ],
      "text/plain": [
       "       cust.ID Amount.Requested for loan Amount.Funded.By.Investors to bank  \\\n",
       "0      84563.0                      8000                               8000   \n",
       "1      78765.0                      9000                               9000   \n",
       "2      24590.0                     13000                              12975   \n",
       "3       9061.0                     10000                              10000   \n",
       "4      47011.0                      3600                               3600   \n",
       "...        ...                       ...                                ...   \n",
       "2181  101795.0                     10000                                550   \n",
       "2182   84805.0                     13225                              13225   \n",
       "2183  101548.0                     10000                                525   \n",
       "2184    3209.0                     12000                              11725   \n",
       "2185   42828.0                     16000                              16000   \n",
       "\n",
       "     Interest.Rate Loan duration  \n",
       "0            7.62#     36 months  \n",
       "1           10.16#     36 months  \n",
       "2            9.99#     60 months  \n",
       "3           14.22#     36 months  \n",
       "4           13.67#     36 months  \n",
       "...            ...           ...  \n",
       "2181        10.59#     36 months  \n",
       "2182        15.31#     36 months  \n",
       "2183         14.7#     36 months  \n",
       "2184         9.63#     36 months  \n",
       "2185          8.9#     36 months  \n",
       "\n",
       "[2186 rows x 5 columns]"
      ]
     },
     "execution_count": 6,
     "metadata": {},
     "output_type": "execute_result"
    }
   ],
   "source": [
    "x"
   ]
  },
  {
   "cell_type": "code",
   "execution_count": 7,
   "id": "bb1884a1",
   "metadata": {},
   "outputs": [
    {
     "data": {
      "text/html": [
       "<div>\n",
       "<style scoped>\n",
       "    .dataframe tbody tr th:only-of-type {\n",
       "        vertical-align: middle;\n",
       "    }\n",
       "\n",
       "    .dataframe tbody tr th {\n",
       "        vertical-align: top;\n",
       "    }\n",
       "\n",
       "    .dataframe thead th {\n",
       "        text-align: right;\n",
       "    }\n",
       "</style>\n",
       "<table border=\"1\" class=\"dataframe\">\n",
       "  <thead>\n",
       "    <tr style=\"text-align: right;\">\n",
       "      <th></th>\n",
       "      <th>cust.ID</th>\n",
       "      <th>Family_incomeIncome</th>\n",
       "      <th>credit_score</th>\n",
       "      <th>Employment.Length</th>\n",
       "      <th>owning a two wheeler</th>\n",
       "    </tr>\n",
       "  </thead>\n",
       "  <tbody>\n",
       "    <tr>\n",
       "      <th>0</th>\n",
       "      <td>84563.0</td>\n",
       "      <td>3500</td>\n",
       "      <td>765-769</td>\n",
       "      <td>NaN</td>\n",
       "      <td>yes</td>\n",
       "    </tr>\n",
       "    <tr>\n",
       "      <th>1</th>\n",
       "      <td>78765.0</td>\n",
       "      <td>5166.67</td>\n",
       "      <td>710-714</td>\n",
       "      <td>10 + years</td>\n",
       "      <td>no</td>\n",
       "    </tr>\n",
       "    <tr>\n",
       "      <th>2</th>\n",
       "      <td>24590.0</td>\n",
       "      <td>10500</td>\n",
       "      <td>800-804</td>\n",
       "      <td>10+ years</td>\n",
       "      <td>yes</td>\n",
       "    </tr>\n",
       "    <tr>\n",
       "      <th>3</th>\n",
       "      <td>9061.0</td>\n",
       "      <td>2541.67</td>\n",
       "      <td>680-684</td>\n",
       "      <td>8 years</td>\n",
       "      <td>no</td>\n",
       "    </tr>\n",
       "    <tr>\n",
       "      <th>4</th>\n",
       "      <td>47011.0</td>\n",
       "      <td>5113</td>\n",
       "      <td>690-694</td>\n",
       "      <td>NaN</td>\n",
       "      <td>yes</td>\n",
       "    </tr>\n",
       "    <tr>\n",
       "      <th>...</th>\n",
       "      <td>...</td>\n",
       "      <td>...</td>\n",
       "      <td>...</td>\n",
       "      <td>...</td>\n",
       "      <td>...</td>\n",
       "    </tr>\n",
       "    <tr>\n",
       "      <th>2181</th>\n",
       "      <td>101795.0</td>\n",
       "      <td>2083.33</td>\n",
       "      <td>685-689</td>\n",
       "      <td>&lt; 1 year</td>\n",
       "      <td>no</td>\n",
       "    </tr>\n",
       "    <tr>\n",
       "      <th>2182</th>\n",
       "      <td>84805.0</td>\n",
       "      <td>5833.33</td>\n",
       "      <td>680-684</td>\n",
       "      <td>10+ years</td>\n",
       "      <td>yes</td>\n",
       "    </tr>\n",
       "    <tr>\n",
       "      <th>2183</th>\n",
       "      <td>101548.0</td>\n",
       "      <td>5416.67</td>\n",
       "      <td>645-649</td>\n",
       "      <td>&lt; 1 year</td>\n",
       "      <td>no</td>\n",
       "    </tr>\n",
       "    <tr>\n",
       "      <th>2184</th>\n",
       "      <td>3209.0</td>\n",
       "      <td>3000</td>\n",
       "      <td>750-754</td>\n",
       "      <td>&lt; 1 year</td>\n",
       "      <td>yes</td>\n",
       "    </tr>\n",
       "    <tr>\n",
       "      <th>2185</th>\n",
       "      <td>42828.0</td>\n",
       "      <td>5750</td>\n",
       "      <td>725-729</td>\n",
       "      <td>6 years</td>\n",
       "      <td>no</td>\n",
       "    </tr>\n",
       "  </tbody>\n",
       "</table>\n",
       "<p>2186 rows × 5 columns</p>\n",
       "</div>"
      ],
      "text/plain": [
       "       cust.ID Family_incomeIncome credit_score Employment.Length  \\\n",
       "0      84563.0                3500      765-769               NaN   \n",
       "1      78765.0             5166.67      710-714        10 + years   \n",
       "2      24590.0               10500      800-804         10+ years   \n",
       "3       9061.0             2541.67      680-684           8 years   \n",
       "4      47011.0                5113      690-694               NaN   \n",
       "...        ...                 ...          ...               ...   \n",
       "2181  101795.0             2083.33      685-689          < 1 year   \n",
       "2182   84805.0             5833.33      680-684         10+ years   \n",
       "2183  101548.0             5416.67      645-649          < 1 year   \n",
       "2184    3209.0                3000      750-754          < 1 year   \n",
       "2185   42828.0                5750      725-729           6 years   \n",
       "\n",
       "     owning a two wheeler  \n",
       "0                    yes   \n",
       "1                      no  \n",
       "2                    yes   \n",
       "3                      no  \n",
       "4                    yes   \n",
       "...                   ...  \n",
       "2181                   no  \n",
       "2182                 yes   \n",
       "2183                   no  \n",
       "2184                 yes   \n",
       "2185                   no  \n",
       "\n",
       "[2186 rows x 5 columns]"
      ]
     },
     "execution_count": 7,
     "metadata": {},
     "output_type": "execute_result"
    }
   ],
   "source": [
    "y"
   ]
  },
  {
   "cell_type": "code",
   "execution_count": 8,
   "id": "3be57263",
   "metadata": {},
   "outputs": [
    {
     "data": {
      "text/html": [
       "<div>\n",
       "<style scoped>\n",
       "    .dataframe tbody tr th:only-of-type {\n",
       "        vertical-align: middle;\n",
       "    }\n",
       "\n",
       "    .dataframe tbody tr th {\n",
       "        vertical-align: top;\n",
       "    }\n",
       "\n",
       "    .dataframe thead th {\n",
       "        text-align: right;\n",
       "    }\n",
       "</style>\n",
       "<table border=\"1\" class=\"dataframe\">\n",
       "  <thead>\n",
       "    <tr style=\"text-align: right;\">\n",
       "      <th></th>\n",
       "      <th>cust.ID\\tage-band \\tDebt.To.Income.Ratio</th>\n",
       "      <th>Unnamed: 1</th>\n",
       "    </tr>\n",
       "  </thead>\n",
       "  <tbody>\n",
       "    <tr>\n",
       "      <th>0</th>\n",
       "      <td>84563\\t25-39\\t0!</td>\n",
       "      <td>NaN</td>\n",
       "    </tr>\n",
       "    <tr>\n",
       "      <th>1</th>\n",
       "      <td>78765\\t25-40\\t13.76!</td>\n",
       "      <td>NaN</td>\n",
       "    </tr>\n",
       "    <tr>\n",
       "      <th>2</th>\n",
       "      <td>24590\\t25-41\\t8.77!</td>\n",
       "      <td>NaN</td>\n",
       "    </tr>\n",
       "    <tr>\n",
       "      <th>3</th>\n",
       "      <td>9061\\t25-42\\t12.24!</td>\n",
       "      <td>NaN</td>\n",
       "    </tr>\n",
       "    <tr>\n",
       "      <th>4</th>\n",
       "      <td>47011\\t25-43\\t16.41!</td>\n",
       "      <td>NaN</td>\n",
       "    </tr>\n",
       "    <tr>\n",
       "      <th>...</th>\n",
       "      <td>...</td>\n",
       "      <td>...</td>\n",
       "    </tr>\n",
       "    <tr>\n",
       "      <th>2181</th>\n",
       "      <td>101795\\t45-55\\t10.22!</td>\n",
       "      <td>NaN</td>\n",
       "    </tr>\n",
       "    <tr>\n",
       "      <th>2182</th>\n",
       "      <td>84805\\t45-55\\t27.07!</td>\n",
       "      <td>NaN</td>\n",
       "    </tr>\n",
       "    <tr>\n",
       "      <th>2183</th>\n",
       "      <td>101548\\t45-55\\t6.37!</td>\n",
       "      <td>NaN</td>\n",
       "    </tr>\n",
       "    <tr>\n",
       "      <th>2184</th>\n",
       "      <td>3209\\t45-55\\t15!</td>\n",
       "      <td>NaN</td>\n",
       "    </tr>\n",
       "    <tr>\n",
       "      <th>2185</th>\n",
       "      <td>42828\\t45-55\\t14.85!</td>\n",
       "      <td>NaN</td>\n",
       "    </tr>\n",
       "  </tbody>\n",
       "</table>\n",
       "<p>2186 rows × 2 columns</p>\n",
       "</div>"
      ],
      "text/plain": [
       "     cust.ID\\tage-band \\tDebt.To.Income.Ratio Unnamed: 1\n",
       "0                            84563\\t25-39\\t0!        NaN\n",
       "1                        78765\\t25-40\\t13.76!        NaN\n",
       "2                         24590\\t25-41\\t8.77!        NaN\n",
       "3                         9061\\t25-42\\t12.24!        NaN\n",
       "4                        47011\\t25-43\\t16.41!        NaN\n",
       "...                                       ...        ...\n",
       "2181                    101795\\t45-55\\t10.22!        NaN\n",
       "2182                     84805\\t45-55\\t27.07!        NaN\n",
       "2183                     101548\\t45-55\\t6.37!        NaN\n",
       "2184                         3209\\t45-55\\t15!        NaN\n",
       "2185                     42828\\t45-55\\t14.85!        NaN\n",
       "\n",
       "[2186 rows x 2 columns]"
      ]
     },
     "execution_count": 8,
     "metadata": {},
     "output_type": "execute_result"
    }
   ],
   "source": [
    "z"
   ]
  },
  {
   "cell_type": "code",
   "execution_count": 9,
   "id": "277d38d4",
   "metadata": {},
   "outputs": [],
   "source": [
    "z[['cust.ID','Age-Band','Debt To Income Ratio']]=z['cust.ID\\tage-band \\tDebt.To.Income.Ratio'].str.split('\\t',expand=True)\n",
    "del z['cust.ID\\tage-band \\tDebt.To.Income.Ratio']"
   ]
  },
  {
   "cell_type": "code",
   "execution_count": 10,
   "id": "bd38ec1b",
   "metadata": {},
   "outputs": [
    {
     "data": {
      "text/html": [
       "<div>\n",
       "<style scoped>\n",
       "    .dataframe tbody tr th:only-of-type {\n",
       "        vertical-align: middle;\n",
       "    }\n",
       "\n",
       "    .dataframe tbody tr th {\n",
       "        vertical-align: top;\n",
       "    }\n",
       "\n",
       "    .dataframe thead th {\n",
       "        text-align: right;\n",
       "    }\n",
       "</style>\n",
       "<table border=\"1\" class=\"dataframe\">\n",
       "  <thead>\n",
       "    <tr style=\"text-align: right;\">\n",
       "      <th></th>\n",
       "      <th>Unnamed: 1</th>\n",
       "      <th>cust.ID</th>\n",
       "      <th>Age-Band</th>\n",
       "      <th>Debt To Income Ratio</th>\n",
       "    </tr>\n",
       "  </thead>\n",
       "  <tbody>\n",
       "    <tr>\n",
       "      <th>0</th>\n",
       "      <td>NaN</td>\n",
       "      <td>84563</td>\n",
       "      <td>25-39</td>\n",
       "      <td>0!</td>\n",
       "    </tr>\n",
       "    <tr>\n",
       "      <th>1</th>\n",
       "      <td>NaN</td>\n",
       "      <td>78765</td>\n",
       "      <td>25-40</td>\n",
       "      <td>13.76!</td>\n",
       "    </tr>\n",
       "    <tr>\n",
       "      <th>2</th>\n",
       "      <td>NaN</td>\n",
       "      <td>24590</td>\n",
       "      <td>25-41</td>\n",
       "      <td>8.77!</td>\n",
       "    </tr>\n",
       "    <tr>\n",
       "      <th>3</th>\n",
       "      <td>NaN</td>\n",
       "      <td>9061</td>\n",
       "      <td>25-42</td>\n",
       "      <td>12.24!</td>\n",
       "    </tr>\n",
       "    <tr>\n",
       "      <th>4</th>\n",
       "      <td>NaN</td>\n",
       "      <td>47011</td>\n",
       "      <td>25-43</td>\n",
       "      <td>16.41!</td>\n",
       "    </tr>\n",
       "    <tr>\n",
       "      <th>...</th>\n",
       "      <td>...</td>\n",
       "      <td>...</td>\n",
       "      <td>...</td>\n",
       "      <td>...</td>\n",
       "    </tr>\n",
       "    <tr>\n",
       "      <th>2181</th>\n",
       "      <td>NaN</td>\n",
       "      <td>101795</td>\n",
       "      <td>45-55</td>\n",
       "      <td>10.22!</td>\n",
       "    </tr>\n",
       "    <tr>\n",
       "      <th>2182</th>\n",
       "      <td>NaN</td>\n",
       "      <td>84805</td>\n",
       "      <td>45-55</td>\n",
       "      <td>27.07!</td>\n",
       "    </tr>\n",
       "    <tr>\n",
       "      <th>2183</th>\n",
       "      <td>NaN</td>\n",
       "      <td>101548</td>\n",
       "      <td>45-55</td>\n",
       "      <td>6.37!</td>\n",
       "    </tr>\n",
       "    <tr>\n",
       "      <th>2184</th>\n",
       "      <td>NaN</td>\n",
       "      <td>3209</td>\n",
       "      <td>45-55</td>\n",
       "      <td>15!</td>\n",
       "    </tr>\n",
       "    <tr>\n",
       "      <th>2185</th>\n",
       "      <td>NaN</td>\n",
       "      <td>42828</td>\n",
       "      <td>45-55</td>\n",
       "      <td>14.85!</td>\n",
       "    </tr>\n",
       "  </tbody>\n",
       "</table>\n",
       "<p>2186 rows × 4 columns</p>\n",
       "</div>"
      ],
      "text/plain": [
       "     Unnamed: 1 cust.ID Age-Band Debt To Income Ratio\n",
       "0           NaN   84563    25-39                   0!\n",
       "1           NaN   78765    25-40               13.76!\n",
       "2           NaN   24590    25-41                8.77!\n",
       "3           NaN    9061    25-42               12.24!\n",
       "4           NaN   47011    25-43               16.41!\n",
       "...         ...     ...      ...                  ...\n",
       "2181        NaN  101795    45-55               10.22!\n",
       "2182        NaN   84805    45-55               27.07!\n",
       "2183        NaN  101548    45-55                6.37!\n",
       "2184        NaN    3209    45-55                  15!\n",
       "2185        NaN   42828    45-55               14.85!\n",
       "\n",
       "[2186 rows x 4 columns]"
      ]
     },
     "execution_count": 10,
     "metadata": {},
     "output_type": "execute_result"
    }
   ],
   "source": [
    "z"
   ]
  },
  {
   "cell_type": "code",
   "execution_count": 11,
   "id": "04bdd81f",
   "metadata": {},
   "outputs": [
    {
     "data": {
      "application/javascript": [
       "\n",
       "        if (window._pyforest_update_imports_cell) { window._pyforest_update_imports_cell('import pandas as pd'); }\n",
       "    "
      ],
      "text/plain": [
       "<IPython.core.display.Javascript object>"
      ]
     },
     "metadata": {},
     "output_type": "display_data"
    }
   ],
   "source": [
    "df=pd.concat([x,y,z],axis=1)"
   ]
  },
  {
   "cell_type": "code",
   "execution_count": 12,
   "id": "0b3285f6",
   "metadata": {},
   "outputs": [
    {
     "data": {
      "text/html": [
       "<div>\n",
       "<style scoped>\n",
       "    .dataframe tbody tr th:only-of-type {\n",
       "        vertical-align: middle;\n",
       "    }\n",
       "\n",
       "    .dataframe tbody tr th {\n",
       "        vertical-align: top;\n",
       "    }\n",
       "\n",
       "    .dataframe thead th {\n",
       "        text-align: right;\n",
       "    }\n",
       "</style>\n",
       "<table border=\"1\" class=\"dataframe\">\n",
       "  <thead>\n",
       "    <tr style=\"text-align: right;\">\n",
       "      <th></th>\n",
       "      <th>cust.ID</th>\n",
       "      <th>Amount.Requested for loan</th>\n",
       "      <th>Amount.Funded.By.Investors to bank</th>\n",
       "      <th>Interest.Rate</th>\n",
       "      <th>Loan duration</th>\n",
       "      <th>cust.ID</th>\n",
       "      <th>Family_incomeIncome</th>\n",
       "      <th>credit_score</th>\n",
       "      <th>Employment.Length</th>\n",
       "      <th>owning a two wheeler</th>\n",
       "      <th>Unnamed: 1</th>\n",
       "      <th>cust.ID</th>\n",
       "      <th>Age-Band</th>\n",
       "      <th>Debt To Income Ratio</th>\n",
       "    </tr>\n",
       "  </thead>\n",
       "  <tbody>\n",
       "    <tr>\n",
       "      <th>0</th>\n",
       "      <td>84563.0</td>\n",
       "      <td>8000</td>\n",
       "      <td>8000</td>\n",
       "      <td>7.62#</td>\n",
       "      <td>36 months</td>\n",
       "      <td>84563.0</td>\n",
       "      <td>3500</td>\n",
       "      <td>765-769</td>\n",
       "      <td>NaN</td>\n",
       "      <td>yes</td>\n",
       "      <td>NaN</td>\n",
       "      <td>84563</td>\n",
       "      <td>25-39</td>\n",
       "      <td>0!</td>\n",
       "    </tr>\n",
       "    <tr>\n",
       "      <th>1</th>\n",
       "      <td>78765.0</td>\n",
       "      <td>9000</td>\n",
       "      <td>9000</td>\n",
       "      <td>10.16#</td>\n",
       "      <td>36 months</td>\n",
       "      <td>78765.0</td>\n",
       "      <td>5166.67</td>\n",
       "      <td>710-714</td>\n",
       "      <td>10 + years</td>\n",
       "      <td>no</td>\n",
       "      <td>NaN</td>\n",
       "      <td>78765</td>\n",
       "      <td>25-40</td>\n",
       "      <td>13.76!</td>\n",
       "    </tr>\n",
       "    <tr>\n",
       "      <th>2</th>\n",
       "      <td>24590.0</td>\n",
       "      <td>13000</td>\n",
       "      <td>12975</td>\n",
       "      <td>9.99#</td>\n",
       "      <td>60 months</td>\n",
       "      <td>24590.0</td>\n",
       "      <td>10500</td>\n",
       "      <td>800-804</td>\n",
       "      <td>10+ years</td>\n",
       "      <td>yes</td>\n",
       "      <td>NaN</td>\n",
       "      <td>24590</td>\n",
       "      <td>25-41</td>\n",
       "      <td>8.77!</td>\n",
       "    </tr>\n",
       "    <tr>\n",
       "      <th>3</th>\n",
       "      <td>9061.0</td>\n",
       "      <td>10000</td>\n",
       "      <td>10000</td>\n",
       "      <td>14.22#</td>\n",
       "      <td>36 months</td>\n",
       "      <td>9061.0</td>\n",
       "      <td>2541.67</td>\n",
       "      <td>680-684</td>\n",
       "      <td>8 years</td>\n",
       "      <td>no</td>\n",
       "      <td>NaN</td>\n",
       "      <td>9061</td>\n",
       "      <td>25-42</td>\n",
       "      <td>12.24!</td>\n",
       "    </tr>\n",
       "    <tr>\n",
       "      <th>4</th>\n",
       "      <td>47011.0</td>\n",
       "      <td>3600</td>\n",
       "      <td>3600</td>\n",
       "      <td>13.67#</td>\n",
       "      <td>36 months</td>\n",
       "      <td>47011.0</td>\n",
       "      <td>5113</td>\n",
       "      <td>690-694</td>\n",
       "      <td>NaN</td>\n",
       "      <td>yes</td>\n",
       "      <td>NaN</td>\n",
       "      <td>47011</td>\n",
       "      <td>25-43</td>\n",
       "      <td>16.41!</td>\n",
       "    </tr>\n",
       "    <tr>\n",
       "      <th>...</th>\n",
       "      <td>...</td>\n",
       "      <td>...</td>\n",
       "      <td>...</td>\n",
       "      <td>...</td>\n",
       "      <td>...</td>\n",
       "      <td>...</td>\n",
       "      <td>...</td>\n",
       "      <td>...</td>\n",
       "      <td>...</td>\n",
       "      <td>...</td>\n",
       "      <td>...</td>\n",
       "      <td>...</td>\n",
       "      <td>...</td>\n",
       "      <td>...</td>\n",
       "    </tr>\n",
       "    <tr>\n",
       "      <th>2181</th>\n",
       "      <td>101795.0</td>\n",
       "      <td>10000</td>\n",
       "      <td>550</td>\n",
       "      <td>10.59#</td>\n",
       "      <td>36 months</td>\n",
       "      <td>101795.0</td>\n",
       "      <td>2083.33</td>\n",
       "      <td>685-689</td>\n",
       "      <td>&lt; 1 year</td>\n",
       "      <td>no</td>\n",
       "      <td>NaN</td>\n",
       "      <td>101795</td>\n",
       "      <td>45-55</td>\n",
       "      <td>10.22!</td>\n",
       "    </tr>\n",
       "    <tr>\n",
       "      <th>2182</th>\n",
       "      <td>84805.0</td>\n",
       "      <td>13225</td>\n",
       "      <td>13225</td>\n",
       "      <td>15.31#</td>\n",
       "      <td>36 months</td>\n",
       "      <td>84805.0</td>\n",
       "      <td>5833.33</td>\n",
       "      <td>680-684</td>\n",
       "      <td>10+ years</td>\n",
       "      <td>yes</td>\n",
       "      <td>NaN</td>\n",
       "      <td>84805</td>\n",
       "      <td>45-55</td>\n",
       "      <td>27.07!</td>\n",
       "    </tr>\n",
       "    <tr>\n",
       "      <th>2183</th>\n",
       "      <td>101548.0</td>\n",
       "      <td>10000</td>\n",
       "      <td>525</td>\n",
       "      <td>14.7#</td>\n",
       "      <td>36 months</td>\n",
       "      <td>101548.0</td>\n",
       "      <td>5416.67</td>\n",
       "      <td>645-649</td>\n",
       "      <td>&lt; 1 year</td>\n",
       "      <td>no</td>\n",
       "      <td>NaN</td>\n",
       "      <td>101548</td>\n",
       "      <td>45-55</td>\n",
       "      <td>6.37!</td>\n",
       "    </tr>\n",
       "    <tr>\n",
       "      <th>2184</th>\n",
       "      <td>3209.0</td>\n",
       "      <td>12000</td>\n",
       "      <td>11725</td>\n",
       "      <td>9.63#</td>\n",
       "      <td>36 months</td>\n",
       "      <td>3209.0</td>\n",
       "      <td>3000</td>\n",
       "      <td>750-754</td>\n",
       "      <td>&lt; 1 year</td>\n",
       "      <td>yes</td>\n",
       "      <td>NaN</td>\n",
       "      <td>3209</td>\n",
       "      <td>45-55</td>\n",
       "      <td>15!</td>\n",
       "    </tr>\n",
       "    <tr>\n",
       "      <th>2185</th>\n",
       "      <td>42828.0</td>\n",
       "      <td>16000</td>\n",
       "      <td>16000</td>\n",
       "      <td>8.9#</td>\n",
       "      <td>36 months</td>\n",
       "      <td>42828.0</td>\n",
       "      <td>5750</td>\n",
       "      <td>725-729</td>\n",
       "      <td>6 years</td>\n",
       "      <td>no</td>\n",
       "      <td>NaN</td>\n",
       "      <td>42828</td>\n",
       "      <td>45-55</td>\n",
       "      <td>14.85!</td>\n",
       "    </tr>\n",
       "  </tbody>\n",
       "</table>\n",
       "<p>2186 rows × 14 columns</p>\n",
       "</div>"
      ],
      "text/plain": [
       "       cust.ID Amount.Requested for loan Amount.Funded.By.Investors to bank  \\\n",
       "0      84563.0                      8000                               8000   \n",
       "1      78765.0                      9000                               9000   \n",
       "2      24590.0                     13000                              12975   \n",
       "3       9061.0                     10000                              10000   \n",
       "4      47011.0                      3600                               3600   \n",
       "...        ...                       ...                                ...   \n",
       "2181  101795.0                     10000                                550   \n",
       "2182   84805.0                     13225                              13225   \n",
       "2183  101548.0                     10000                                525   \n",
       "2184    3209.0                     12000                              11725   \n",
       "2185   42828.0                     16000                              16000   \n",
       "\n",
       "     Interest.Rate Loan duration   cust.ID Family_incomeIncome credit_score  \\\n",
       "0            7.62#     36 months   84563.0                3500      765-769   \n",
       "1           10.16#     36 months   78765.0             5166.67      710-714   \n",
       "2            9.99#     60 months   24590.0               10500      800-804   \n",
       "3           14.22#     36 months    9061.0             2541.67      680-684   \n",
       "4           13.67#     36 months   47011.0                5113      690-694   \n",
       "...            ...           ...       ...                 ...          ...   \n",
       "2181        10.59#     36 months  101795.0             2083.33      685-689   \n",
       "2182        15.31#     36 months   84805.0             5833.33      680-684   \n",
       "2183         14.7#     36 months  101548.0             5416.67      645-649   \n",
       "2184         9.63#     36 months    3209.0                3000      750-754   \n",
       "2185          8.9#     36 months   42828.0                5750      725-729   \n",
       "\n",
       "     Employment.Length owning a two wheeler Unnamed: 1 cust.ID Age-Band  \\\n",
       "0                  NaN                 yes         NaN   84563    25-39   \n",
       "1           10 + years                   no        NaN   78765    25-40   \n",
       "2            10+ years                 yes         NaN   24590    25-41   \n",
       "3              8 years                   no        NaN    9061    25-42   \n",
       "4                  NaN                 yes         NaN   47011    25-43   \n",
       "...                ...                  ...        ...     ...      ...   \n",
       "2181          < 1 year                   no        NaN  101795    45-55   \n",
       "2182         10+ years                 yes         NaN   84805    45-55   \n",
       "2183          < 1 year                   no        NaN  101548    45-55   \n",
       "2184          < 1 year                 yes         NaN    3209    45-55   \n",
       "2185           6 years                   no        NaN   42828    45-55   \n",
       "\n",
       "     Debt To Income Ratio  \n",
       "0                      0!  \n",
       "1                  13.76!  \n",
       "2                   8.77!  \n",
       "3                  12.24!  \n",
       "4                  16.41!  \n",
       "...                   ...  \n",
       "2181               10.22!  \n",
       "2182               27.07!  \n",
       "2183                6.37!  \n",
       "2184                  15!  \n",
       "2185               14.85!  \n",
       "\n",
       "[2186 rows x 14 columns]"
      ]
     },
     "execution_count": 12,
     "metadata": {},
     "output_type": "execute_result"
    }
   ],
   "source": [
    "df"
   ]
  },
  {
   "cell_type": "code",
   "execution_count": 13,
   "id": "b2ca5427",
   "metadata": {},
   "outputs": [
    {
     "data": {
      "text/plain": [
       "(2186, 14)"
      ]
     },
     "execution_count": 13,
     "metadata": {},
     "output_type": "execute_result"
    }
   ],
   "source": [
    "df.shape"
   ]
  },
  {
   "cell_type": "code",
   "execution_count": 14,
   "id": "b0b6a3cd",
   "metadata": {},
   "outputs": [
    {
     "data": {
      "text/plain": [
       "['cust.ID',\n",
       " 'Amount.Requested for loan',\n",
       " 'Amount.Funded.By.Investors to bank',\n",
       " 'Interest.Rate',\n",
       " 'Loan duration',\n",
       " 'cust.ID',\n",
       " 'Family_incomeIncome',\n",
       " 'credit_score',\n",
       " 'Employment.Length',\n",
       " 'owning a two wheeler',\n",
       " 'Unnamed: 1',\n",
       " 'cust.ID',\n",
       " 'Age-Band',\n",
       " 'Debt To Income Ratio']"
      ]
     },
     "execution_count": 14,
     "metadata": {},
     "output_type": "execute_result"
    }
   ],
   "source": [
    "df.columns.tolist()"
   ]
  },
  {
   "cell_type": "code",
   "execution_count": 15,
   "id": "5e0a115a",
   "metadata": {},
   "outputs": [
    {
     "data": {
      "text/plain": [
       "cust.ID                               float64\n",
       "Amount.Requested for loan              object\n",
       "Amount.Funded.By.Investors to bank     object\n",
       "Interest.Rate                          object\n",
       "Loan duration                          object\n",
       "cust.ID                               float64\n",
       "Family_incomeIncome                    object\n",
       "credit_score                           object\n",
       "Employment.Length                      object\n",
       "owning a two wheeler                   object\n",
       "Unnamed: 1                             object\n",
       "cust.ID                                object\n",
       "Age-Band                               object\n",
       "Debt To Income Ratio                   object\n",
       "dtype: object"
      ]
     },
     "execution_count": 15,
     "metadata": {},
     "output_type": "execute_result"
    }
   ],
   "source": [
    "df.dtypes"
   ]
  },
  {
   "cell_type": "code",
   "execution_count": 16,
   "id": "ec845b9e",
   "metadata": {},
   "outputs": [
    {
     "name": "stdout",
     "output_type": "stream",
     "text": [
      "<class 'pandas.core.frame.DataFrame'>\n",
      "RangeIndex: 2186 entries, 0 to 2185\n",
      "Data columns (total 14 columns):\n",
      " #   Column                              Non-Null Count  Dtype  \n",
      "---  ------                              --------------  -----  \n",
      " 0   cust.ID                             2185 non-null   float64\n",
      " 1   Amount.Requested for loan           2185 non-null   object \n",
      " 2   Amount.Funded.By.Investors to bank  2185 non-null   object \n",
      " 3   Interest.Rate                       2186 non-null   object \n",
      " 4   Loan duration                       2185 non-null   object \n",
      " 5   cust.ID                             2184 non-null   float64\n",
      " 6   Family_incomeIncome                 2183 non-null   object \n",
      " 7   credit_score                        2186 non-null   object \n",
      " 8   Employment.Length                   2119 non-null   object \n",
      " 9   owning a two wheeler                2185 non-null   object \n",
      " 10  Unnamed: 1                          1 non-null      object \n",
      " 11  cust.ID                             2186 non-null   object \n",
      " 12  Age-Band                            2186 non-null   object \n",
      " 13  Debt To Income Ratio                2185 non-null   object \n",
      "dtypes: float64(2), object(12)\n",
      "memory usage: 239.2+ KB\n"
     ]
    }
   ],
   "source": [
    "df.info()"
   ]
  },
  {
   "cell_type": "markdown",
   "id": "36781bca",
   "metadata": {},
   "source": [
    "### Remove duplicate columns"
   ]
  },
  {
   "cell_type": "code",
   "execution_count": 17,
   "id": "e38a65fe",
   "metadata": {},
   "outputs": [
    {
     "data": {
      "text/html": [
       "<div>\n",
       "<style scoped>\n",
       "    .dataframe tbody tr th:only-of-type {\n",
       "        vertical-align: middle;\n",
       "    }\n",
       "\n",
       "    .dataframe tbody tr th {\n",
       "        vertical-align: top;\n",
       "    }\n",
       "\n",
       "    .dataframe thead th {\n",
       "        text-align: right;\n",
       "    }\n",
       "</style>\n",
       "<table border=\"1\" class=\"dataframe\">\n",
       "  <thead>\n",
       "    <tr style=\"text-align: right;\">\n",
       "      <th></th>\n",
       "      <th>cust.ID</th>\n",
       "      <th>Amount.Requested for loan</th>\n",
       "      <th>Amount.Funded.By.Investors to bank</th>\n",
       "      <th>Interest.Rate</th>\n",
       "      <th>Loan duration</th>\n",
       "      <th>Family_incomeIncome</th>\n",
       "      <th>credit_score</th>\n",
       "      <th>Employment.Length</th>\n",
       "      <th>owning a two wheeler</th>\n",
       "      <th>Unnamed: 1</th>\n",
       "      <th>Age-Band</th>\n",
       "      <th>Debt To Income Ratio</th>\n",
       "    </tr>\n",
       "  </thead>\n",
       "  <tbody>\n",
       "    <tr>\n",
       "      <th>0</th>\n",
       "      <td>84563.0</td>\n",
       "      <td>8000</td>\n",
       "      <td>8000</td>\n",
       "      <td>7.62#</td>\n",
       "      <td>36 months</td>\n",
       "      <td>3500</td>\n",
       "      <td>765-769</td>\n",
       "      <td>NaN</td>\n",
       "      <td>yes</td>\n",
       "      <td>NaN</td>\n",
       "      <td>25-39</td>\n",
       "      <td>0!</td>\n",
       "    </tr>\n",
       "    <tr>\n",
       "      <th>1</th>\n",
       "      <td>78765.0</td>\n",
       "      <td>9000</td>\n",
       "      <td>9000</td>\n",
       "      <td>10.16#</td>\n",
       "      <td>36 months</td>\n",
       "      <td>5166.67</td>\n",
       "      <td>710-714</td>\n",
       "      <td>10 + years</td>\n",
       "      <td>no</td>\n",
       "      <td>NaN</td>\n",
       "      <td>25-40</td>\n",
       "      <td>13.76!</td>\n",
       "    </tr>\n",
       "    <tr>\n",
       "      <th>2</th>\n",
       "      <td>24590.0</td>\n",
       "      <td>13000</td>\n",
       "      <td>12975</td>\n",
       "      <td>9.99#</td>\n",
       "      <td>60 months</td>\n",
       "      <td>10500</td>\n",
       "      <td>800-804</td>\n",
       "      <td>10+ years</td>\n",
       "      <td>yes</td>\n",
       "      <td>NaN</td>\n",
       "      <td>25-41</td>\n",
       "      <td>8.77!</td>\n",
       "    </tr>\n",
       "    <tr>\n",
       "      <th>3</th>\n",
       "      <td>9061.0</td>\n",
       "      <td>10000</td>\n",
       "      <td>10000</td>\n",
       "      <td>14.22#</td>\n",
       "      <td>36 months</td>\n",
       "      <td>2541.67</td>\n",
       "      <td>680-684</td>\n",
       "      <td>8 years</td>\n",
       "      <td>no</td>\n",
       "      <td>NaN</td>\n",
       "      <td>25-42</td>\n",
       "      <td>12.24!</td>\n",
       "    </tr>\n",
       "    <tr>\n",
       "      <th>4</th>\n",
       "      <td>47011.0</td>\n",
       "      <td>3600</td>\n",
       "      <td>3600</td>\n",
       "      <td>13.67#</td>\n",
       "      <td>36 months</td>\n",
       "      <td>5113</td>\n",
       "      <td>690-694</td>\n",
       "      <td>NaN</td>\n",
       "      <td>yes</td>\n",
       "      <td>NaN</td>\n",
       "      <td>25-43</td>\n",
       "      <td>16.41!</td>\n",
       "    </tr>\n",
       "    <tr>\n",
       "      <th>...</th>\n",
       "      <td>...</td>\n",
       "      <td>...</td>\n",
       "      <td>...</td>\n",
       "      <td>...</td>\n",
       "      <td>...</td>\n",
       "      <td>...</td>\n",
       "      <td>...</td>\n",
       "      <td>...</td>\n",
       "      <td>...</td>\n",
       "      <td>...</td>\n",
       "      <td>...</td>\n",
       "      <td>...</td>\n",
       "    </tr>\n",
       "    <tr>\n",
       "      <th>2181</th>\n",
       "      <td>101795.0</td>\n",
       "      <td>10000</td>\n",
       "      <td>550</td>\n",
       "      <td>10.59#</td>\n",
       "      <td>36 months</td>\n",
       "      <td>2083.33</td>\n",
       "      <td>685-689</td>\n",
       "      <td>&lt; 1 year</td>\n",
       "      <td>no</td>\n",
       "      <td>NaN</td>\n",
       "      <td>45-55</td>\n",
       "      <td>10.22!</td>\n",
       "    </tr>\n",
       "    <tr>\n",
       "      <th>2182</th>\n",
       "      <td>84805.0</td>\n",
       "      <td>13225</td>\n",
       "      <td>13225</td>\n",
       "      <td>15.31#</td>\n",
       "      <td>36 months</td>\n",
       "      <td>5833.33</td>\n",
       "      <td>680-684</td>\n",
       "      <td>10+ years</td>\n",
       "      <td>yes</td>\n",
       "      <td>NaN</td>\n",
       "      <td>45-55</td>\n",
       "      <td>27.07!</td>\n",
       "    </tr>\n",
       "    <tr>\n",
       "      <th>2183</th>\n",
       "      <td>101548.0</td>\n",
       "      <td>10000</td>\n",
       "      <td>525</td>\n",
       "      <td>14.7#</td>\n",
       "      <td>36 months</td>\n",
       "      <td>5416.67</td>\n",
       "      <td>645-649</td>\n",
       "      <td>&lt; 1 year</td>\n",
       "      <td>no</td>\n",
       "      <td>NaN</td>\n",
       "      <td>45-55</td>\n",
       "      <td>6.37!</td>\n",
       "    </tr>\n",
       "    <tr>\n",
       "      <th>2184</th>\n",
       "      <td>3209.0</td>\n",
       "      <td>12000</td>\n",
       "      <td>11725</td>\n",
       "      <td>9.63#</td>\n",
       "      <td>36 months</td>\n",
       "      <td>3000</td>\n",
       "      <td>750-754</td>\n",
       "      <td>&lt; 1 year</td>\n",
       "      <td>yes</td>\n",
       "      <td>NaN</td>\n",
       "      <td>45-55</td>\n",
       "      <td>15!</td>\n",
       "    </tr>\n",
       "    <tr>\n",
       "      <th>2185</th>\n",
       "      <td>42828.0</td>\n",
       "      <td>16000</td>\n",
       "      <td>16000</td>\n",
       "      <td>8.9#</td>\n",
       "      <td>36 months</td>\n",
       "      <td>5750</td>\n",
       "      <td>725-729</td>\n",
       "      <td>6 years</td>\n",
       "      <td>no</td>\n",
       "      <td>NaN</td>\n",
       "      <td>45-55</td>\n",
       "      <td>14.85!</td>\n",
       "    </tr>\n",
       "  </tbody>\n",
       "</table>\n",
       "<p>2186 rows × 12 columns</p>\n",
       "</div>"
      ],
      "text/plain": [
       "       cust.ID Amount.Requested for loan Amount.Funded.By.Investors to bank  \\\n",
       "0      84563.0                      8000                               8000   \n",
       "1      78765.0                      9000                               9000   \n",
       "2      24590.0                     13000                              12975   \n",
       "3       9061.0                     10000                              10000   \n",
       "4      47011.0                      3600                               3600   \n",
       "...        ...                       ...                                ...   \n",
       "2181  101795.0                     10000                                550   \n",
       "2182   84805.0                     13225                              13225   \n",
       "2183  101548.0                     10000                                525   \n",
       "2184    3209.0                     12000                              11725   \n",
       "2185   42828.0                     16000                              16000   \n",
       "\n",
       "     Interest.Rate Loan duration Family_incomeIncome credit_score  \\\n",
       "0            7.62#     36 months                3500      765-769   \n",
       "1           10.16#     36 months             5166.67      710-714   \n",
       "2            9.99#     60 months               10500      800-804   \n",
       "3           14.22#     36 months             2541.67      680-684   \n",
       "4           13.67#     36 months                5113      690-694   \n",
       "...            ...           ...                 ...          ...   \n",
       "2181        10.59#     36 months             2083.33      685-689   \n",
       "2182        15.31#     36 months             5833.33      680-684   \n",
       "2183         14.7#     36 months             5416.67      645-649   \n",
       "2184         9.63#     36 months                3000      750-754   \n",
       "2185          8.9#     36 months                5750      725-729   \n",
       "\n",
       "     Employment.Length owning a two wheeler Unnamed: 1 Age-Band  \\\n",
       "0                  NaN                 yes         NaN    25-39   \n",
       "1           10 + years                   no        NaN    25-40   \n",
       "2            10+ years                 yes         NaN    25-41   \n",
       "3              8 years                   no        NaN    25-42   \n",
       "4                  NaN                 yes         NaN    25-43   \n",
       "...                ...                  ...        ...      ...   \n",
       "2181          < 1 year                   no        NaN    45-55   \n",
       "2182         10+ years                 yes         NaN    45-55   \n",
       "2183          < 1 year                   no        NaN    45-55   \n",
       "2184          < 1 year                 yes         NaN    45-55   \n",
       "2185           6 years                   no        NaN    45-55   \n",
       "\n",
       "     Debt To Income Ratio  \n",
       "0                      0!  \n",
       "1                  13.76!  \n",
       "2                   8.77!  \n",
       "3                  12.24!  \n",
       "4                  16.41!  \n",
       "...                   ...  \n",
       "2181               10.22!  \n",
       "2182               27.07!  \n",
       "2183                6.37!  \n",
       "2184                  15!  \n",
       "2185               14.85!  \n",
       "\n",
       "[2186 rows x 12 columns]"
      ]
     },
     "execution_count": 17,
     "metadata": {},
     "output_type": "execute_result"
    }
   ],
   "source": [
    "df=df.loc[:,~df.columns.duplicated()]\n",
    "df"
   ]
  },
  {
   "cell_type": "markdown",
   "id": "4049d02b",
   "metadata": {},
   "source": [
    "### Drop Unnecessary columns"
   ]
  },
  {
   "cell_type": "code",
   "execution_count": 18,
   "id": "0fd78508",
   "metadata": {},
   "outputs": [
    {
     "data": {
      "application/javascript": [
       "\n",
       "        if (window._pyforest_update_imports_cell) { window._pyforest_update_imports_cell('import matplotlib.pyplot as plt\\nimport pandas as pd'); }\n",
       "    "
      ],
      "text/plain": [
       "<IPython.core.display.Javascript object>"
      ]
     },
     "metadata": {},
     "output_type": "display_data"
    },
    {
     "data": {
      "image/png": "[encoded data removed]",
      "text/plain": [
       "<Figure size 2500x1000 with 3 Axes>"
      ]
     },
     "metadata": {},
     "output_type": "display_data"
    }
   ],
   "source": [
    "ms.bar(df,color='g')\n",
    "plt.show()"
   ]
  },
  {
   "cell_type": "markdown",
   "id": "d63f8db8",
   "metadata": {},
   "source": [
    "Drop Unnamed:1 columns as it consist of all empty values, except one. Thus, we cannot use imputation as it will create bias in the column so we'll drop it."
   ]
  },
  {
   "cell_type": "code",
   "execution_count": 19,
   "id": "bd11519b",
   "metadata": {},
   "outputs": [],
   "source": [
    "df.drop(['Unnamed: 1'],axis=1,inplace=True)"
   ]
  },
  {
   "cell_type": "code",
   "execution_count": 20,
   "id": "e60c695a",
   "metadata": {},
   "outputs": [
    {
     "data": {
      "text/html": [
       "<div>\n",
       "<style scoped>\n",
       "    .dataframe tbody tr th:only-of-type {\n",
       "        vertical-align: middle;\n",
       "    }\n",
       "\n",
       "    .dataframe tbody tr th {\n",
       "        vertical-align: top;\n",
       "    }\n",
       "\n",
       "    .dataframe thead th {\n",
       "        text-align: right;\n",
       "    }\n",
       "</style>\n",
       "<table border=\"1\" class=\"dataframe\">\n",
       "  <thead>\n",
       "    <tr style=\"text-align: right;\">\n",
       "      <th></th>\n",
       "      <th>cust.ID</th>\n",
       "      <th>Amount.Requested for loan</th>\n",
       "      <th>Amount.Funded.By.Investors to bank</th>\n",
       "      <th>Interest.Rate</th>\n",
       "      <th>Loan duration</th>\n",
       "      <th>Family_incomeIncome</th>\n",
       "      <th>credit_score</th>\n",
       "      <th>Employment.Length</th>\n",
       "      <th>owning a two wheeler</th>\n",
       "      <th>Age-Band</th>\n",
       "      <th>Debt To Income Ratio</th>\n",
       "    </tr>\n",
       "  </thead>\n",
       "  <tbody>\n",
       "    <tr>\n",
       "      <th>0</th>\n",
       "      <td>84563.0</td>\n",
       "      <td>8000</td>\n",
       "      <td>8000</td>\n",
       "      <td>7.62#</td>\n",
       "      <td>36 months</td>\n",
       "      <td>3500</td>\n",
       "      <td>765-769</td>\n",
       "      <td>NaN</td>\n",
       "      <td>yes</td>\n",
       "      <td>25-39</td>\n",
       "      <td>0!</td>\n",
       "    </tr>\n",
       "    <tr>\n",
       "      <th>1</th>\n",
       "      <td>78765.0</td>\n",
       "      <td>9000</td>\n",
       "      <td>9000</td>\n",
       "      <td>10.16#</td>\n",
       "      <td>36 months</td>\n",
       "      <td>5166.67</td>\n",
       "      <td>710-714</td>\n",
       "      <td>10 + years</td>\n",
       "      <td>no</td>\n",
       "      <td>25-40</td>\n",
       "      <td>13.76!</td>\n",
       "    </tr>\n",
       "    <tr>\n",
       "      <th>2</th>\n",
       "      <td>24590.0</td>\n",
       "      <td>13000</td>\n",
       "      <td>12975</td>\n",
       "      <td>9.99#</td>\n",
       "      <td>60 months</td>\n",
       "      <td>10500</td>\n",
       "      <td>800-804</td>\n",
       "      <td>10+ years</td>\n",
       "      <td>yes</td>\n",
       "      <td>25-41</td>\n",
       "      <td>8.77!</td>\n",
       "    </tr>\n",
       "    <tr>\n",
       "      <th>3</th>\n",
       "      <td>9061.0</td>\n",
       "      <td>10000</td>\n",
       "      <td>10000</td>\n",
       "      <td>14.22#</td>\n",
       "      <td>36 months</td>\n",
       "      <td>2541.67</td>\n",
       "      <td>680-684</td>\n",
       "      <td>8 years</td>\n",
       "      <td>no</td>\n",
       "      <td>25-42</td>\n",
       "      <td>12.24!</td>\n",
       "    </tr>\n",
       "    <tr>\n",
       "      <th>4</th>\n",
       "      <td>47011.0</td>\n",
       "      <td>3600</td>\n",
       "      <td>3600</td>\n",
       "      <td>13.67#</td>\n",
       "      <td>36 months</td>\n",
       "      <td>5113</td>\n",
       "      <td>690-694</td>\n",
       "      <td>NaN</td>\n",
       "      <td>yes</td>\n",
       "      <td>25-43</td>\n",
       "      <td>16.41!</td>\n",
       "    </tr>\n",
       "  </tbody>\n",
       "</table>\n",
       "</div>"
      ],
      "text/plain": [
       "   cust.ID Amount.Requested for loan Amount.Funded.By.Investors to bank  \\\n",
       "0  84563.0                      8000                               8000   \n",
       "1  78765.0                      9000                               9000   \n",
       "2  24590.0                     13000                              12975   \n",
       "3   9061.0                     10000                              10000   \n",
       "4  47011.0                      3600                               3600   \n",
       "\n",
       "  Interest.Rate Loan duration Family_incomeIncome credit_score  \\\n",
       "0         7.62#     36 months                3500      765-769   \n",
       "1        10.16#     36 months             5166.67      710-714   \n",
       "2         9.99#     60 months               10500      800-804   \n",
       "3        14.22#     36 months             2541.67      680-684   \n",
       "4        13.67#     36 months                5113      690-694   \n",
       "\n",
       "  Employment.Length owning a two wheeler Age-Band Debt To Income Ratio  \n",
       "0               NaN                 yes     25-39                   0!  \n",
       "1        10 + years                   no    25-40               13.76!  \n",
       "2         10+ years                 yes     25-41                8.77!  \n",
       "3           8 years                   no    25-42               12.24!  \n",
       "4               NaN                 yes     25-43               16.41!  "
      ]
     },
     "execution_count": 20,
     "metadata": {},
     "output_type": "execute_result"
    }
   ],
   "source": [
    "df.head()"
   ]
  },
  {
   "cell_type": "markdown",
   "id": "3c666b08",
   "metadata": {},
   "source": [
    "### Data Cleaning"
   ]
  },
  {
   "cell_type": "markdown",
   "id": "2403454f",
   "metadata": {},
   "source": [
    "- Interest.Rate - remove #\n",
    "- Debt.To.Income.Ratio- remove !\n",
    "- 'cust.ID ','Amount.Requested for loan', 'Amount.Funded.By.Investors to bank','Interest.Rate','Family_incomeIncome': Convert to numeric\n",
    "- 'Employment.Length': Convert to numeric ( remove year, years,<,etc.)\n",
    "- 'owning a two wheeler': Clean it by replacing yess !, noo with yes and no\n",
    "- 'credit_score':  First replace all string characters with \"\" and then DIVIDE into two then take average and make it as single column as it is given as range\n",
    "- 'age-band': First replace empty age-band value with mode of age-band as it is categorical data then  DIVIDE into two then take average and make it as single column as it is given as range\n",
    "- 'owning a two wheeler', 'Loan duration': Create dummies"
   ]
  },
  {
   "cell_type": "code",
   "execution_count": 21,
   "id": "37100f70",
   "metadata": {},
   "outputs": [],
   "source": [
    "for col in ['Interest.Rate']:\n",
    "    df[col]=df[col].str.replace('#',\"\")"
   ]
  },
  {
   "cell_type": "code",
   "execution_count": 22,
   "id": "1f1625a6",
   "metadata": {},
   "outputs": [
    {
     "data": {
      "text/html": [
       "<div>\n",
       "<style scoped>\n",
       "    .dataframe tbody tr th:only-of-type {\n",
       "        vertical-align: middle;\n",
       "    }\n",
       "\n",
       "    .dataframe tbody tr th {\n",
       "        vertical-align: top;\n",
       "    }\n",
       "\n",
       "    .dataframe thead th {\n",
       "        text-align: right;\n",
       "    }\n",
       "</style>\n",
       "<table border=\"1\" class=\"dataframe\">\n",
       "  <thead>\n",
       "    <tr style=\"text-align: right;\">\n",
       "      <th></th>\n",
       "      <th>cust.ID</th>\n",
       "      <th>Amount.Requested for loan</th>\n",
       "      <th>Amount.Funded.By.Investors to bank</th>\n",
       "      <th>Interest.Rate</th>\n",
       "      <th>Loan duration</th>\n",
       "      <th>Family_incomeIncome</th>\n",
       "      <th>credit_score</th>\n",
       "      <th>Employment.Length</th>\n",
       "      <th>owning a two wheeler</th>\n",
       "      <th>Age-Band</th>\n",
       "      <th>Debt To Income Ratio</th>\n",
       "    </tr>\n",
       "  </thead>\n",
       "  <tbody>\n",
       "    <tr>\n",
       "      <th>0</th>\n",
       "      <td>84563.0</td>\n",
       "      <td>8000</td>\n",
       "      <td>8000</td>\n",
       "      <td>7.62</td>\n",
       "      <td>36 months</td>\n",
       "      <td>3500</td>\n",
       "      <td>765-769</td>\n",
       "      <td>NaN</td>\n",
       "      <td>yes</td>\n",
       "      <td>25-39</td>\n",
       "      <td>0!</td>\n",
       "    </tr>\n",
       "    <tr>\n",
       "      <th>1</th>\n",
       "      <td>78765.0</td>\n",
       "      <td>9000</td>\n",
       "      <td>9000</td>\n",
       "      <td>10.16</td>\n",
       "      <td>36 months</td>\n",
       "      <td>5166.67</td>\n",
       "      <td>710-714</td>\n",
       "      <td>10 + years</td>\n",
       "      <td>no</td>\n",
       "      <td>25-40</td>\n",
       "      <td>13.76!</td>\n",
       "    </tr>\n",
       "    <tr>\n",
       "      <th>2</th>\n",
       "      <td>24590.0</td>\n",
       "      <td>13000</td>\n",
       "      <td>12975</td>\n",
       "      <td>9.99</td>\n",
       "      <td>60 months</td>\n",
       "      <td>10500</td>\n",
       "      <td>800-804</td>\n",
       "      <td>10+ years</td>\n",
       "      <td>yes</td>\n",
       "      <td>25-41</td>\n",
       "      <td>8.77!</td>\n",
       "    </tr>\n",
       "    <tr>\n",
       "      <th>3</th>\n",
       "      <td>9061.0</td>\n",
       "      <td>10000</td>\n",
       "      <td>10000</td>\n",
       "      <td>14.22</td>\n",
       "      <td>36 months</td>\n",
       "      <td>2541.67</td>\n",
       "      <td>680-684</td>\n",
       "      <td>8 years</td>\n",
       "      <td>no</td>\n",
       "      <td>25-42</td>\n",
       "      <td>12.24!</td>\n",
       "    </tr>\n",
       "    <tr>\n",
       "      <th>4</th>\n",
       "      <td>47011.0</td>\n",
       "      <td>3600</td>\n",
       "      <td>3600</td>\n",
       "      <td>13.67</td>\n",
       "      <td>36 months</td>\n",
       "      <td>5113</td>\n",
       "      <td>690-694</td>\n",
       "      <td>NaN</td>\n",
       "      <td>yes</td>\n",
       "      <td>25-43</td>\n",
       "      <td>16.41!</td>\n",
       "    </tr>\n",
       "    <tr>\n",
       "      <th>...</th>\n",
       "      <td>...</td>\n",
       "      <td>...</td>\n",
       "      <td>...</td>\n",
       "      <td>...</td>\n",
       "      <td>...</td>\n",
       "      <td>...</td>\n",
       "      <td>...</td>\n",
       "      <td>...</td>\n",
       "      <td>...</td>\n",
       "      <td>...</td>\n",
       "      <td>...</td>\n",
       "    </tr>\n",
       "    <tr>\n",
       "      <th>2181</th>\n",
       "      <td>101795.0</td>\n",
       "      <td>10000</td>\n",
       "      <td>550</td>\n",
       "      <td>10.59</td>\n",
       "      <td>36 months</td>\n",
       "      <td>2083.33</td>\n",
       "      <td>685-689</td>\n",
       "      <td>&lt; 1 year</td>\n",
       "      <td>no</td>\n",
       "      <td>45-55</td>\n",
       "      <td>10.22!</td>\n",
       "    </tr>\n",
       "    <tr>\n",
       "      <th>2182</th>\n",
       "      <td>84805.0</td>\n",
       "      <td>13225</td>\n",
       "      <td>13225</td>\n",
       "      <td>15.31</td>\n",
       "      <td>36 months</td>\n",
       "      <td>5833.33</td>\n",
       "      <td>680-684</td>\n",
       "      <td>10+ years</td>\n",
       "      <td>yes</td>\n",
       "      <td>45-55</td>\n",
       "      <td>27.07!</td>\n",
       "    </tr>\n",
       "    <tr>\n",
       "      <th>2183</th>\n",
       "      <td>101548.0</td>\n",
       "      <td>10000</td>\n",
       "      <td>525</td>\n",
       "      <td>14.7</td>\n",
       "      <td>36 months</td>\n",
       "      <td>5416.67</td>\n",
       "      <td>645-649</td>\n",
       "      <td>&lt; 1 year</td>\n",
       "      <td>no</td>\n",
       "      <td>45-55</td>\n",
       "      <td>6.37!</td>\n",
       "    </tr>\n",
       "    <tr>\n",
       "      <th>2184</th>\n",
       "      <td>3209.0</td>\n",
       "      <td>12000</td>\n",
       "      <td>11725</td>\n",
       "      <td>9.63</td>\n",
       "      <td>36 months</td>\n",
       "      <td>3000</td>\n",
       "      <td>750-754</td>\n",
       "      <td>&lt; 1 year</td>\n",
       "      <td>yes</td>\n",
       "      <td>45-55</td>\n",
       "      <td>15!</td>\n",
       "    </tr>\n",
       "    <tr>\n",
       "      <th>2185</th>\n",
       "      <td>42828.0</td>\n",
       "      <td>16000</td>\n",
       "      <td>16000</td>\n",
       "      <td>8.9</td>\n",
       "      <td>36 months</td>\n",
       "      <td>5750</td>\n",
       "      <td>725-729</td>\n",
       "      <td>6 years</td>\n",
       "      <td>no</td>\n",
       "      <td>45-55</td>\n",
       "      <td>14.85!</td>\n",
       "    </tr>\n",
       "  </tbody>\n",
       "</table>\n",
       "<p>2186 rows × 11 columns</p>\n",
       "</div>"
      ],
      "text/plain": [
       "       cust.ID Amount.Requested for loan Amount.Funded.By.Investors to bank  \\\n",
       "0      84563.0                      8000                               8000   \n",
       "1      78765.0                      9000                               9000   \n",
       "2      24590.0                     13000                              12975   \n",
       "3       9061.0                     10000                              10000   \n",
       "4      47011.0                      3600                               3600   \n",
       "...        ...                       ...                                ...   \n",
       "2181  101795.0                     10000                                550   \n",
       "2182   84805.0                     13225                              13225   \n",
       "2183  101548.0                     10000                                525   \n",
       "2184    3209.0                     12000                              11725   \n",
       "2185   42828.0                     16000                              16000   \n",
       "\n",
       "     Interest.Rate Loan duration Family_incomeIncome credit_score  \\\n",
       "0             7.62     36 months                3500      765-769   \n",
       "1            10.16     36 months             5166.67      710-714   \n",
       "2             9.99     60 months               10500      800-804   \n",
       "3            14.22     36 months             2541.67      680-684   \n",
       "4            13.67     36 months                5113      690-694   \n",
       "...            ...           ...                 ...          ...   \n",
       "2181         10.59     36 months             2083.33      685-689   \n",
       "2182         15.31     36 months             5833.33      680-684   \n",
       "2183          14.7     36 months             5416.67      645-649   \n",
       "2184          9.63     36 months                3000      750-754   \n",
       "2185           8.9     36 months                5750      725-729   \n",
       "\n",
       "     Employment.Length owning a two wheeler Age-Band Debt To Income Ratio  \n",
       "0                  NaN                 yes     25-39                   0!  \n",
       "1           10 + years                   no    25-40               13.76!  \n",
       "2            10+ years                 yes     25-41                8.77!  \n",
       "3              8 years                   no    25-42               12.24!  \n",
       "4                  NaN                 yes     25-43               16.41!  \n",
       "...                ...                  ...      ...                  ...  \n",
       "2181          < 1 year                   no    45-55               10.22!  \n",
       "2182         10+ years                 yes     45-55               27.07!  \n",
       "2183          < 1 year                   no    45-55                6.37!  \n",
       "2184          < 1 year                 yes     45-55                  15!  \n",
       "2185           6 years                   no    45-55               14.85!  \n",
       "\n",
       "[2186 rows x 11 columns]"
      ]
     },
     "execution_count": 22,
     "metadata": {},
     "output_type": "execute_result"
    }
   ],
   "source": [
    "df"
   ]
  },
  {
   "cell_type": "code",
   "execution_count": 23,
   "id": "d4eb1396",
   "metadata": {},
   "outputs": [],
   "source": [
    "df['Debt To Income Ratio']=df['Debt To Income Ratio'].str.replace('!','')"
   ]
  },
  {
   "cell_type": "code",
   "execution_count": 24,
   "id": "63cb3a4b",
   "metadata": {},
   "outputs": [
    {
     "data": {
      "application/javascript": [
       "\n",
       "        if (window._pyforest_update_imports_cell) { window._pyforest_update_imports_cell('import matplotlib.pyplot as plt\\nimport pandas as pd'); }\n",
       "    "
      ],
      "text/plain": [
       "<IPython.core.display.Javascript object>"
      ]
     },
     "metadata": {},
     "output_type": "display_data"
    },
    {
     "data": {
      "application/javascript": [
       "\n",
       "        if (window._pyforest_update_imports_cell) { window._pyforest_update_imports_cell('import matplotlib.pyplot as plt\\nimport pandas as pd'); }\n",
       "    "
      ],
      "text/plain": [
       "<IPython.core.display.Javascript object>"
      ]
     },
     "metadata": {},
     "output_type": "display_data"
    },
    {
     "data": {
      "application/javascript": [
       "\n",
       "        if (window._pyforest_update_imports_cell) { window._pyforest_update_imports_cell('import matplotlib.pyplot as plt\\nimport pandas as pd'); }\n",
       "    "
      ],
      "text/plain": [
       "<IPython.core.display.Javascript object>"
      ]
     },
     "metadata": {},
     "output_type": "display_data"
    },
    {
     "data": {
      "application/javascript": [
       "\n",
       "        if (window._pyforest_update_imports_cell) { window._pyforest_update_imports_cell('import matplotlib.pyplot as plt\\nimport pandas as pd'); }\n",
       "    "
      ],
      "text/plain": [
       "<IPython.core.display.Javascript object>"
      ]
     },
     "metadata": {},
     "output_type": "display_data"
    },
    {
     "data": {
      "application/javascript": [
       "\n",
       "        if (window._pyforest_update_imports_cell) { window._pyforest_update_imports_cell('import matplotlib.pyplot as plt\\nimport pandas as pd'); }\n",
       "    "
      ],
      "text/plain": [
       "<IPython.core.display.Javascript object>"
      ]
     },
     "metadata": {},
     "output_type": "display_data"
    }
   ],
   "source": [
    "for col in ['Amount.Requested for loan', 'Amount.Funded.By.Investors to bank','Interest.Rate','Family_incomeIncome','Debt To Income Ratio']:\n",
    "    df[col]=pd.to_numeric(df[col],errors='coerce')"
   ]
  },
  {
   "cell_type": "code",
   "execution_count": 25,
   "id": "e099d2c4",
   "metadata": {},
   "outputs": [
    {
     "data": {
      "text/plain": [
       "cust.ID                               float64\n",
       "Amount.Requested for loan             float64\n",
       "Amount.Funded.By.Investors to bank    float64\n",
       "Interest.Rate                         float64\n",
       "Loan duration                          object\n",
       "Family_incomeIncome                   float64\n",
       "credit_score                           object\n",
       "Employment.Length                      object\n",
       "owning a two wheeler                   object\n",
       "Age-Band                               object\n",
       "Debt To Income Ratio                  float64\n",
       "dtype: object"
      ]
     },
     "execution_count": 25,
     "metadata": {},
     "output_type": "execute_result"
    }
   ],
   "source": [
    "df.dtypes"
   ]
  },
  {
   "cell_type": "code",
   "execution_count": 26,
   "id": "67cfeb39",
   "metadata": {},
   "outputs": [
    {
     "data": {
      "text/html": [
       "<div>\n",
       "<style scoped>\n",
       "    .dataframe tbody tr th:only-of-type {\n",
       "        vertical-align: middle;\n",
       "    }\n",
       "\n",
       "    .dataframe tbody tr th {\n",
       "        vertical-align: top;\n",
       "    }\n",
       "\n",
       "    .dataframe thead th {\n",
       "        text-align: right;\n",
       "    }\n",
       "</style>\n",
       "<table border=\"1\" class=\"dataframe\">\n",
       "  <thead>\n",
       "    <tr style=\"text-align: right;\">\n",
       "      <th></th>\n",
       "      <th>count</th>\n",
       "    </tr>\n",
       "    <tr>\n",
       "      <th>Employment.Length</th>\n",
       "      <th></th>\n",
       "    </tr>\n",
       "  </thead>\n",
       "  <tbody>\n",
       "    <tr>\n",
       "      <th>10+ years</th>\n",
       "      <td>571</td>\n",
       "    </tr>\n",
       "    <tr>\n",
       "      <th>&lt; 1 year</th>\n",
       "      <td>227</td>\n",
       "    </tr>\n",
       "    <tr>\n",
       "      <th>2 years</th>\n",
       "      <td>214</td>\n",
       "    </tr>\n",
       "    <tr>\n",
       "      <th>3 years</th>\n",
       "      <td>203</td>\n",
       "    </tr>\n",
       "    <tr>\n",
       "      <th>5 years</th>\n",
       "      <td>179</td>\n",
       "    </tr>\n",
       "    <tr>\n",
       "      <th>4 years</th>\n",
       "      <td>160</td>\n",
       "    </tr>\n",
       "    <tr>\n",
       "      <th>1 year</th>\n",
       "      <td>159</td>\n",
       "    </tr>\n",
       "    <tr>\n",
       "      <th>6 years</th>\n",
       "      <td>132</td>\n",
       "    </tr>\n",
       "    <tr>\n",
       "      <th>7 years</th>\n",
       "      <td>108</td>\n",
       "    </tr>\n",
       "    <tr>\n",
       "      <th>8 years</th>\n",
       "      <td>95</td>\n",
       "    </tr>\n",
       "    <tr>\n",
       "      <th>9 years</th>\n",
       "      <td>65</td>\n",
       "    </tr>\n",
       "    <tr>\n",
       "      <th>.</th>\n",
       "      <td>1</td>\n",
       "    </tr>\n",
       "    <tr>\n",
       "      <th>6 year's</th>\n",
       "      <td>1</td>\n",
       "    </tr>\n",
       "    <tr>\n",
       "      <th>10 + years</th>\n",
       "      <td>1</td>\n",
       "    </tr>\n",
       "    <tr>\n",
       "      <th>7 yearss</th>\n",
       "      <td>1</td>\n",
       "    </tr>\n",
       "    <tr>\n",
       "      <th>9 - years</th>\n",
       "      <td>1</td>\n",
       "    </tr>\n",
       "    <tr>\n",
       "      <th>5 -years</th>\n",
       "      <td>1</td>\n",
       "    </tr>\n",
       "  </tbody>\n",
       "</table>\n",
       "</div>"
      ],
      "text/plain": [
       "                   count\n",
       "Employment.Length       \n",
       "10+ years            571\n",
       "< 1 year             227\n",
       "2 years              214\n",
       "3 years              203\n",
       "5 years              179\n",
       "4 years              160\n",
       "1 year               159\n",
       "6 years              132\n",
       "7 years              108\n",
       "8 years               95\n",
       "9 years               65\n",
       ".                      1\n",
       "6 year's               1\n",
       "10 + years             1\n",
       "7 yearss               1\n",
       "9 - years              1\n",
       "5 -years               1"
      ]
     },
     "execution_count": 26,
     "metadata": {},
     "output_type": "execute_result"
    }
   ],
   "source": [
    "df['Employment.Length'].value_counts().to_frame()"
   ]
  },
  {
   "cell_type": "code",
   "execution_count": 27,
   "id": "c9f837c1",
   "metadata": {},
   "outputs": [
    {
     "data": {
      "application/javascript": [
       "\n",
       "        if (window._pyforest_update_imports_cell) { window._pyforest_update_imports_cell('import matplotlib.pyplot as plt\\nimport pandas as pd\\nimport numpy as np'); }\n",
       "    "
      ],
      "text/plain": [
       "<IPython.core.display.Javascript object>"
      ]
     },
     "metadata": {},
     "output_type": "display_data"
    },
    {
     "data": {
      "application/javascript": [
       "\n",
       "        if (window._pyforest_update_imports_cell) { window._pyforest_update_imports_cell('import matplotlib.pyplot as plt\\nimport pandas as pd\\nimport numpy as np'); }\n",
       "    "
      ],
      "text/plain": [
       "<IPython.core.display.Javascript object>"
      ]
     },
     "metadata": {},
     "output_type": "display_data"
    },
    {
     "data": {
      "application/javascript": [
       "\n",
       "        if (window._pyforest_update_imports_cell) { window._pyforest_update_imports_cell('import matplotlib.pyplot as plt\\nimport pandas as pd\\nimport numpy as np'); }\n",
       "    "
      ],
      "text/plain": [
       "<IPython.core.display.Javascript object>"
      ]
     },
     "metadata": {},
     "output_type": "display_data"
    },
    {
     "data": {
      "application/javascript": [
       "\n",
       "        if (window._pyforest_update_imports_cell) { window._pyforest_update_imports_cell('import matplotlib.pyplot as plt\\nimport pandas as pd\\nimport numpy as np'); }\n",
       "    "
      ],
      "text/plain": [
       "<IPython.core.display.Javascript object>"
      ]
     },
     "metadata": {},
     "output_type": "display_data"
    },
    {
     "data": {
      "application/javascript": [
       "\n",
       "        if (window._pyforest_update_imports_cell) { window._pyforest_update_imports_cell('import matplotlib.pyplot as plt\\nimport pandas as pd\\nimport numpy as np'); }\n",
       "    "
      ],
      "text/plain": [
       "<IPython.core.display.Javascript object>"
      ]
     },
     "metadata": {},
     "output_type": "display_data"
    }
   ],
   "source": [
    "df['Employment.Length']=df['Employment.Length'].str.replace(\"year's\",'')\n",
    "df['Employment.Length']=df['Employment.Length'].str.replace('yearss','')\n",
    "df['Employment.Length']=df['Employment.Length'].str.replace('years','')\n",
    "df['Employment.Length']=df['Employment.Length'].str.replace('year','')\n",
    "df['Employment.Length']=np.where(df['Employment.Length'].str[:2]=='10',10,df['Employment.Length'])\n",
    "df['Employment.Length']=np.where(df['Employment.Length'].str[:1]=='9',9,df['Employment.Length'])\n",
    "df['Employment.Length']=np.where(df['Employment.Length'].str[:1]=='5',5,df['Employment.Length'])\n",
    "df['Employment.Length']=np.where(df['Employment.Length'].str[0]=='<',0.5,df['Employment.Length'])   ## <1 year= mean(0+1)/2=0.5\n",
    "df['Employment.Length']=np.where(df['Employment.Length'].str[0]=='.',10,df['Employment.Length'])"
   ]
  },
  {
   "cell_type": "code",
   "execution_count": 28,
   "id": "fd1b8b0b",
   "metadata": {},
   "outputs": [
    {
     "data": {
      "text/html": [
       "<div>\n",
       "<style scoped>\n",
       "    .dataframe tbody tr th:only-of-type {\n",
       "        vertical-align: middle;\n",
       "    }\n",
       "\n",
       "    .dataframe tbody tr th {\n",
       "        vertical-align: top;\n",
       "    }\n",
       "\n",
       "    .dataframe thead th {\n",
       "        text-align: right;\n",
       "    }\n",
       "</style>\n",
       "<table border=\"1\" class=\"dataframe\">\n",
       "  <thead>\n",
       "    <tr style=\"text-align: right;\">\n",
       "      <th></th>\n",
       "      <th>count</th>\n",
       "    </tr>\n",
       "    <tr>\n",
       "      <th>Employment.Length</th>\n",
       "      <th></th>\n",
       "    </tr>\n",
       "  </thead>\n",
       "  <tbody>\n",
       "    <tr>\n",
       "      <th>10</th>\n",
       "      <td>573</td>\n",
       "    </tr>\n",
       "    <tr>\n",
       "      <th>0.5</th>\n",
       "      <td>227</td>\n",
       "    </tr>\n",
       "    <tr>\n",
       "      <th>2</th>\n",
       "      <td>214</td>\n",
       "    </tr>\n",
       "    <tr>\n",
       "      <th>3</th>\n",
       "      <td>203</td>\n",
       "    </tr>\n",
       "    <tr>\n",
       "      <th>5</th>\n",
       "      <td>180</td>\n",
       "    </tr>\n",
       "    <tr>\n",
       "      <th>4</th>\n",
       "      <td>160</td>\n",
       "    </tr>\n",
       "    <tr>\n",
       "      <th>1</th>\n",
       "      <td>159</td>\n",
       "    </tr>\n",
       "    <tr>\n",
       "      <th>6</th>\n",
       "      <td>133</td>\n",
       "    </tr>\n",
       "    <tr>\n",
       "      <th>7</th>\n",
       "      <td>109</td>\n",
       "    </tr>\n",
       "    <tr>\n",
       "      <th>8</th>\n",
       "      <td>95</td>\n",
       "    </tr>\n",
       "    <tr>\n",
       "      <th>9</th>\n",
       "      <td>66</td>\n",
       "    </tr>\n",
       "  </tbody>\n",
       "</table>\n",
       "</div>"
      ],
      "text/plain": [
       "                   count\n",
       "Employment.Length       \n",
       "10                   573\n",
       "0.5                  227\n",
       "2                    214\n",
       "3                    203\n",
       "5                    180\n",
       "4                    160\n",
       "1                    159\n",
       "6                    133\n",
       "7                    109\n",
       "8                     95\n",
       "9                     66"
      ]
     },
     "execution_count": 28,
     "metadata": {},
     "output_type": "execute_result"
    }
   ],
   "source": [
    "df['Employment.Length'].value_counts().to_frame()"
   ]
  },
  {
   "cell_type": "code",
   "execution_count": 29,
   "id": "a8c5e1d0",
   "metadata": {},
   "outputs": [
    {
     "data": {
      "application/javascript": [
       "\n",
       "        if (window._pyforest_update_imports_cell) { window._pyforest_update_imports_cell('import matplotlib.pyplot as plt\\nimport pandas as pd\\nimport numpy as np'); }\n",
       "    "
      ],
      "text/plain": [
       "<IPython.core.display.Javascript object>"
      ]
     },
     "metadata": {},
     "output_type": "display_data"
    }
   ],
   "source": [
    "for col in ['Employment.Length']:\n",
    "    df[col]=pd.to_numeric(df[col],errors='coerce')"
   ]
  },
  {
   "cell_type": "code",
   "execution_count": 30,
   "id": "f064af62",
   "metadata": {},
   "outputs": [
    {
     "data": {
      "text/plain": [
       "cust.ID                               float64\n",
       "Amount.Requested for loan             float64\n",
       "Amount.Funded.By.Investors to bank    float64\n",
       "Interest.Rate                         float64\n",
       "Loan duration                          object\n",
       "Family_incomeIncome                   float64\n",
       "credit_score                           object\n",
       "Employment.Length                     float64\n",
       "owning a two wheeler                   object\n",
       "Age-Band                               object\n",
       "Debt To Income Ratio                  float64\n",
       "dtype: object"
      ]
     },
     "execution_count": 30,
     "metadata": {},
     "output_type": "execute_result"
    }
   ],
   "source": [
    "df.dtypes"
   ]
  },
  {
   "cell_type": "code",
   "execution_count": 31,
   "id": "9a210403",
   "metadata": {},
   "outputs": [
    {
     "data": {
      "text/html": [
       "<div>\n",
       "<style scoped>\n",
       "    .dataframe tbody tr th:only-of-type {\n",
       "        vertical-align: middle;\n",
       "    }\n",
       "\n",
       "    .dataframe tbody tr th {\n",
       "        vertical-align: top;\n",
       "    }\n",
       "\n",
       "    .dataframe thead th {\n",
       "        text-align: right;\n",
       "    }\n",
       "</style>\n",
       "<table border=\"1\" class=\"dataframe\">\n",
       "  <thead>\n",
       "    <tr style=\"text-align: right;\">\n",
       "      <th></th>\n",
       "      <th>count</th>\n",
       "    </tr>\n",
       "    <tr>\n",
       "      <th>owning a two wheeler</th>\n",
       "      <th></th>\n",
       "    </tr>\n",
       "  </thead>\n",
       "  <tbody>\n",
       "    <tr>\n",
       "      <th>yes</th>\n",
       "      <td>1091</td>\n",
       "    </tr>\n",
       "    <tr>\n",
       "      <th>no</th>\n",
       "      <td>1091</td>\n",
       "    </tr>\n",
       "    <tr>\n",
       "      <th>!</th>\n",
       "      <td>1</td>\n",
       "    </tr>\n",
       "    <tr>\n",
       "      <th>yes !</th>\n",
       "      <td>1</td>\n",
       "    </tr>\n",
       "    <tr>\n",
       "      <th>noo</th>\n",
       "      <td>1</td>\n",
       "    </tr>\n",
       "  </tbody>\n",
       "</table>\n",
       "</div>"
      ],
      "text/plain": [
       "                      count\n",
       "owning a two wheeler       \n",
       "yes                    1091\n",
       "no                     1091\n",
       "!                         1\n",
       "yes !                     1\n",
       "noo                       1"
      ]
     },
     "execution_count": 31,
     "metadata": {},
     "output_type": "execute_result"
    }
   ],
   "source": [
    "df['owning a two wheeler'].value_counts().to_frame()"
   ]
  },
  {
   "cell_type": "code",
   "execution_count": 32,
   "id": "8eb78c59",
   "metadata": {},
   "outputs": [
    {
     "data": {
      "text/plain": [
       "array(['yes ', 'no', nan, '!', 'yes !', 'noo'], dtype=object)"
      ]
     },
     "execution_count": 32,
     "metadata": {},
     "output_type": "execute_result"
    }
   ],
   "source": [
    "df['owning a two wheeler'].unique()"
   ]
  },
  {
   "cell_type": "code",
   "execution_count": 33,
   "id": "a775662c",
   "metadata": {},
   "outputs": [],
   "source": [
    "df['owning a two wheeler']=df['owning a two wheeler'].str.replace('yes !','yes ')\n",
    "df['owning a two wheeler']=df['owning a two wheeler'].str.replace('noo','no')\n",
    "df['owning a two wheeler']=df['owning a two wheeler'].str.replace('!','yes ')"
   ]
  },
  {
   "cell_type": "code",
   "execution_count": 34,
   "id": "47f1b48f",
   "metadata": {},
   "outputs": [
    {
     "data": {
      "text/html": [
       "<div>\n",
       "<style scoped>\n",
       "    .dataframe tbody tr th:only-of-type {\n",
       "        vertical-align: middle;\n",
       "    }\n",
       "\n",
       "    .dataframe tbody tr th {\n",
       "        vertical-align: top;\n",
       "    }\n",
       "\n",
       "    .dataframe thead th {\n",
       "        text-align: right;\n",
       "    }\n",
       "</style>\n",
       "<table border=\"1\" class=\"dataframe\">\n",
       "  <thead>\n",
       "    <tr style=\"text-align: right;\">\n",
       "      <th></th>\n",
       "      <th>count</th>\n",
       "    </tr>\n",
       "    <tr>\n",
       "      <th>owning a two wheeler</th>\n",
       "      <th></th>\n",
       "    </tr>\n",
       "  </thead>\n",
       "  <tbody>\n",
       "    <tr>\n",
       "      <th>yes</th>\n",
       "      <td>1093</td>\n",
       "    </tr>\n",
       "    <tr>\n",
       "      <th>no</th>\n",
       "      <td>1092</td>\n",
       "    </tr>\n",
       "  </tbody>\n",
       "</table>\n",
       "</div>"
      ],
      "text/plain": [
       "                      count\n",
       "owning a two wheeler       \n",
       "yes                    1093\n",
       "no                     1092"
      ]
     },
     "execution_count": 34,
     "metadata": {},
     "output_type": "execute_result"
    }
   ],
   "source": [
    "df['owning a two wheeler'].value_counts().to_frame()"
   ]
  },
  {
   "cell_type": "code",
   "execution_count": 35,
   "id": "0818b1ed",
   "metadata": {},
   "outputs": [
    {
     "data": {
      "text/plain": [
       "credit_score\n",
       "670-674      150\n",
       "675-679      142\n",
       "680-684      141\n",
       "695-699      138\n",
       "665-669      128\n",
       "690-694      126\n",
       "705-709      117\n",
       "685-689      116\n",
       "700-704      114\n",
       "660-664      106\n",
       "720-724      106\n",
       "710-714       99\n",
       "730-734       83\n",
       "725-729       77\n",
       "715-719       73\n",
       "750-754       54\n",
       "735-739       53\n",
       "745-749       51\n",
       "740-744       44\n",
       "760-764       40\n",
       "755-759       37\n",
       "765-769       33\n",
       "780-784       27\n",
       "775-779       19\n",
       "790-794       18\n",
       "770-774       16\n",
       "785-789       16\n",
       "800-804       13\n",
       "795-799       12\n",
       "805-809        9\n",
       "810-814        7\n",
       "815-819        6\n",
       "640-644        5\n",
       "645-649        3\n",
       "655-659        3\n",
       "820-824        1\n",
       "725-729 !      1\n",
       "830-834        1\n",
       "650-654        1\n",
       "Name: count, dtype: int64"
      ]
     },
     "execution_count": 35,
     "metadata": {},
     "output_type": "execute_result"
    }
   ],
   "source": [
    "df['credit_score'].value_counts()"
   ]
  },
  {
   "cell_type": "code",
   "execution_count": 36,
   "id": "2e2c5f23",
   "metadata": {},
   "outputs": [],
   "source": [
    "df['credit_score']=df['credit_score'].str.replace('!','')"
   ]
  },
  {
   "cell_type": "code",
   "execution_count": 37,
   "id": "12731430",
   "metadata": {},
   "outputs": [],
   "source": [
    "k=df['credit_score'].str.split('-',expand=True).astype(float)\n",
    "df['credit_s']=0.5*(k[0]+k[1])\n",
    "del df['credit_score']"
   ]
  },
  {
   "cell_type": "code",
   "execution_count": 38,
   "id": "02911321",
   "metadata": {},
   "outputs": [
    {
     "data": {
      "text/html": [
       "<div>\n",
       "<style scoped>\n",
       "    .dataframe tbody tr th:only-of-type {\n",
       "        vertical-align: middle;\n",
       "    }\n",
       "\n",
       "    .dataframe tbody tr th {\n",
       "        vertical-align: top;\n",
       "    }\n",
       "\n",
       "    .dataframe thead th {\n",
       "        text-align: right;\n",
       "    }\n",
       "</style>\n",
       "<table border=\"1\" class=\"dataframe\">\n",
       "  <thead>\n",
       "    <tr style=\"text-align: right;\">\n",
       "      <th></th>\n",
       "      <th>cust.ID</th>\n",
       "      <th>Amount.Requested for loan</th>\n",
       "      <th>Amount.Funded.By.Investors to bank</th>\n",
       "      <th>Interest.Rate</th>\n",
       "      <th>Loan duration</th>\n",
       "      <th>Family_incomeIncome</th>\n",
       "      <th>Employment.Length</th>\n",
       "      <th>owning a two wheeler</th>\n",
       "      <th>Age-Band</th>\n",
       "      <th>Debt To Income Ratio</th>\n",
       "      <th>credit_s</th>\n",
       "    </tr>\n",
       "  </thead>\n",
       "  <tbody>\n",
       "    <tr>\n",
       "      <th>0</th>\n",
       "      <td>84563.0</td>\n",
       "      <td>8000.0</td>\n",
       "      <td>8000.0</td>\n",
       "      <td>7.62</td>\n",
       "      <td>36 months</td>\n",
       "      <td>3500.00</td>\n",
       "      <td>NaN</td>\n",
       "      <td>yes</td>\n",
       "      <td>25-39</td>\n",
       "      <td>0.00</td>\n",
       "      <td>767.0</td>\n",
       "    </tr>\n",
       "    <tr>\n",
       "      <th>1</th>\n",
       "      <td>78765.0</td>\n",
       "      <td>9000.0</td>\n",
       "      <td>9000.0</td>\n",
       "      <td>10.16</td>\n",
       "      <td>36 months</td>\n",
       "      <td>5166.67</td>\n",
       "      <td>10.0</td>\n",
       "      <td>no</td>\n",
       "      <td>25-40</td>\n",
       "      <td>13.76</td>\n",
       "      <td>712.0</td>\n",
       "    </tr>\n",
       "    <tr>\n",
       "      <th>2</th>\n",
       "      <td>24590.0</td>\n",
       "      <td>13000.0</td>\n",
       "      <td>12975.0</td>\n",
       "      <td>9.99</td>\n",
       "      <td>60 months</td>\n",
       "      <td>10500.00</td>\n",
       "      <td>10.0</td>\n",
       "      <td>yes</td>\n",
       "      <td>25-41</td>\n",
       "      <td>8.77</td>\n",
       "      <td>802.0</td>\n",
       "    </tr>\n",
       "    <tr>\n",
       "      <th>3</th>\n",
       "      <td>9061.0</td>\n",
       "      <td>10000.0</td>\n",
       "      <td>10000.0</td>\n",
       "      <td>14.22</td>\n",
       "      <td>36 months</td>\n",
       "      <td>2541.67</td>\n",
       "      <td>8.0</td>\n",
       "      <td>no</td>\n",
       "      <td>25-42</td>\n",
       "      <td>12.24</td>\n",
       "      <td>682.0</td>\n",
       "    </tr>\n",
       "    <tr>\n",
       "      <th>4</th>\n",
       "      <td>47011.0</td>\n",
       "      <td>3600.0</td>\n",
       "      <td>3600.0</td>\n",
       "      <td>13.67</td>\n",
       "      <td>36 months</td>\n",
       "      <td>5113.00</td>\n",
       "      <td>NaN</td>\n",
       "      <td>yes</td>\n",
       "      <td>25-43</td>\n",
       "      <td>16.41</td>\n",
       "      <td>692.0</td>\n",
       "    </tr>\n",
       "    <tr>\n",
       "      <th>...</th>\n",
       "      <td>...</td>\n",
       "      <td>...</td>\n",
       "      <td>...</td>\n",
       "      <td>...</td>\n",
       "      <td>...</td>\n",
       "      <td>...</td>\n",
       "      <td>...</td>\n",
       "      <td>...</td>\n",
       "      <td>...</td>\n",
       "      <td>...</td>\n",
       "      <td>...</td>\n",
       "    </tr>\n",
       "    <tr>\n",
       "      <th>2181</th>\n",
       "      <td>101795.0</td>\n",
       "      <td>10000.0</td>\n",
       "      <td>550.0</td>\n",
       "      <td>10.59</td>\n",
       "      <td>36 months</td>\n",
       "      <td>2083.33</td>\n",
       "      <td>0.5</td>\n",
       "      <td>no</td>\n",
       "      <td>45-55</td>\n",
       "      <td>10.22</td>\n",
       "      <td>687.0</td>\n",
       "    </tr>\n",
       "    <tr>\n",
       "      <th>2182</th>\n",
       "      <td>84805.0</td>\n",
       "      <td>13225.0</td>\n",
       "      <td>13225.0</td>\n",
       "      <td>15.31</td>\n",
       "      <td>36 months</td>\n",
       "      <td>5833.33</td>\n",
       "      <td>10.0</td>\n",
       "      <td>yes</td>\n",
       "      <td>45-55</td>\n",
       "      <td>27.07</td>\n",
       "      <td>682.0</td>\n",
       "    </tr>\n",
       "    <tr>\n",
       "      <th>2183</th>\n",
       "      <td>101548.0</td>\n",
       "      <td>10000.0</td>\n",
       "      <td>525.0</td>\n",
       "      <td>14.70</td>\n",
       "      <td>36 months</td>\n",
       "      <td>5416.67</td>\n",
       "      <td>0.5</td>\n",
       "      <td>no</td>\n",
       "      <td>45-55</td>\n",
       "      <td>6.37</td>\n",
       "      <td>647.0</td>\n",
       "    </tr>\n",
       "    <tr>\n",
       "      <th>2184</th>\n",
       "      <td>3209.0</td>\n",
       "      <td>12000.0</td>\n",
       "      <td>11725.0</td>\n",
       "      <td>9.63</td>\n",
       "      <td>36 months</td>\n",
       "      <td>3000.00</td>\n",
       "      <td>0.5</td>\n",
       "      <td>yes</td>\n",
       "      <td>45-55</td>\n",
       "      <td>15.00</td>\n",
       "      <td>752.0</td>\n",
       "    </tr>\n",
       "    <tr>\n",
       "      <th>2185</th>\n",
       "      <td>42828.0</td>\n",
       "      <td>16000.0</td>\n",
       "      <td>16000.0</td>\n",
       "      <td>8.90</td>\n",
       "      <td>36 months</td>\n",
       "      <td>5750.00</td>\n",
       "      <td>6.0</td>\n",
       "      <td>no</td>\n",
       "      <td>45-55</td>\n",
       "      <td>14.85</td>\n",
       "      <td>727.0</td>\n",
       "    </tr>\n",
       "  </tbody>\n",
       "</table>\n",
       "<p>2186 rows × 11 columns</p>\n",
       "</div>"
      ],
      "text/plain": [
       "       cust.ID  Amount.Requested for loan  Amount.Funded.By.Investors to bank  \\\n",
       "0      84563.0                     8000.0                              8000.0   \n",
       "1      78765.0                     9000.0                              9000.0   \n",
       "2      24590.0                    13000.0                             12975.0   \n",
       "3       9061.0                    10000.0                             10000.0   \n",
       "4      47011.0                     3600.0                              3600.0   \n",
       "...        ...                        ...                                 ...   \n",
       "2181  101795.0                    10000.0                               550.0   \n",
       "2182   84805.0                    13225.0                             13225.0   \n",
       "2183  101548.0                    10000.0                               525.0   \n",
       "2184    3209.0                    12000.0                             11725.0   \n",
       "2185   42828.0                    16000.0                             16000.0   \n",
       "\n",
       "      Interest.Rate Loan duration  Family_incomeIncome  Employment.Length  \\\n",
       "0              7.62     36 months              3500.00                NaN   \n",
       "1             10.16     36 months              5166.67               10.0   \n",
       "2              9.99     60 months             10500.00               10.0   \n",
       "3             14.22     36 months              2541.67                8.0   \n",
       "4             13.67     36 months              5113.00                NaN   \n",
       "...             ...           ...                  ...                ...   \n",
       "2181          10.59     36 months              2083.33                0.5   \n",
       "2182          15.31     36 months              5833.33               10.0   \n",
       "2183          14.70     36 months              5416.67                0.5   \n",
       "2184           9.63     36 months              3000.00                0.5   \n",
       "2185           8.90     36 months              5750.00                6.0   \n",
       "\n",
       "     owning a two wheeler Age-Band  Debt To Income Ratio  credit_s  \n",
       "0                    yes     25-39                  0.00     767.0  \n",
       "1                      no    25-40                 13.76     712.0  \n",
       "2                    yes     25-41                  8.77     802.0  \n",
       "3                      no    25-42                 12.24     682.0  \n",
       "4                    yes     25-43                 16.41     692.0  \n",
       "...                   ...      ...                   ...       ...  \n",
       "2181                   no    45-55                 10.22     687.0  \n",
       "2182                 yes     45-55                 27.07     682.0  \n",
       "2183                   no    45-55                  6.37     647.0  \n",
       "2184                 yes     45-55                 15.00     752.0  \n",
       "2185                   no    45-55                 14.85     727.0  \n",
       "\n",
       "[2186 rows x 11 columns]"
      ]
     },
     "execution_count": 38,
     "metadata": {},
     "output_type": "execute_result"
    }
   ],
   "source": [
    "df"
   ]
  },
  {
   "cell_type": "code",
   "execution_count": 39,
   "id": "4637e444",
   "metadata": {},
   "outputs": [
    {
     "data": {
      "text/plain": [
       "Age-Band\n",
       "35-45      892\n",
       "30-40      660\n",
       "45-55      622\n",
       "             3\n",
       "25-39        1\n",
       "25-40        1\n",
       "25-41        1\n",
       "25-42        1\n",
       "25-43        1\n",
       "25-44        1\n",
       "25-45        1\n",
       "!35-45       1\n",
       "\"45          1\n",
       "Name: count, dtype: int64"
      ]
     },
     "execution_count": 39,
     "metadata": {},
     "output_type": "execute_result"
    }
   ],
   "source": [
    "df['Age-Band'].value_counts()"
   ]
  },
  {
   "cell_type": "code",
   "execution_count": 40,
   "id": "6b8948fe",
   "metadata": {},
   "outputs": [
    {
     "data": {
      "text/plain": [
       "0    35-45\n",
       "Name: Age-Band, dtype: object"
      ]
     },
     "execution_count": 40,
     "metadata": {},
     "output_type": "execute_result"
    }
   ],
   "source": [
    "df['Age-Band'].mode()"
   ]
  },
  {
   "cell_type": "code",
   "execution_count": 41,
   "id": "238cdbb9",
   "metadata": {},
   "outputs": [
    {
     "data": {
      "application/javascript": [
       "\n",
       "        if (window._pyforest_update_imports_cell) { window._pyforest_update_imports_cell('import matplotlib.pyplot as plt\\nimport pandas as pd\\nimport numpy as np'); }\n",
       "    "
      ],
      "text/plain": [
       "<IPython.core.display.Javascript object>"
      ]
     },
     "metadata": {},
     "output_type": "display_data"
    }
   ],
   "source": [
    "df['Age-Band']=df['Age-Band'].str.replace('!','')\n",
    "df['Age-Band']=df['Age-Band'].str.replace('\"','')\n",
    "df['Age-Band']=np.where(df['Age-Band'].str[:]=='',df['Age-Band'].mode(),df['Age-Band'])"
   ]
  },
  {
   "cell_type": "code",
   "execution_count": 42,
   "id": "2bec4b5c",
   "metadata": {},
   "outputs": [
    {
     "data": {
      "text/plain": [
       "Age-Band\n",
       "35-45     895\n",
       "30-40     660\n",
       "45-55     622\n",
       "25-39       1\n",
       "25-40       1\n",
       "25-41       1\n",
       "25-42       1\n",
       "25-43       1\n",
       "25-44       1\n",
       "25-45       1\n",
       "35-45       1\n",
       "45          1\n",
       "Name: count, dtype: int64"
      ]
     },
     "execution_count": 42,
     "metadata": {},
     "output_type": "execute_result"
    }
   ],
   "source": [
    "df['Age-Band'].value_counts()"
   ]
  },
  {
   "cell_type": "code",
   "execution_count": 43,
   "id": "bd436843",
   "metadata": {},
   "outputs": [],
   "source": [
    "m=df['Age-Band'].str.split('-',expand=True).astype(float)\n",
    "df['age']=0.5*(m[0]+m[1])\n",
    "del df['Age-Band']"
   ]
  },
  {
   "cell_type": "code",
   "execution_count": 44,
   "id": "de6a4706",
   "metadata": {},
   "outputs": [
    {
     "data": {
      "text/html": [
       "<div>\n",
       "<style scoped>\n",
       "    .dataframe tbody tr th:only-of-type {\n",
       "        vertical-align: middle;\n",
       "    }\n",
       "\n",
       "    .dataframe tbody tr th {\n",
       "        vertical-align: top;\n",
       "    }\n",
       "\n",
       "    .dataframe thead th {\n",
       "        text-align: right;\n",
       "    }\n",
       "</style>\n",
       "<table border=\"1\" class=\"dataframe\">\n",
       "  <thead>\n",
       "    <tr style=\"text-align: right;\">\n",
       "      <th></th>\n",
       "      <th>cust.ID</th>\n",
       "      <th>Amount.Requested for loan</th>\n",
       "      <th>Amount.Funded.By.Investors to bank</th>\n",
       "      <th>Interest.Rate</th>\n",
       "      <th>Loan duration</th>\n",
       "      <th>Family_incomeIncome</th>\n",
       "      <th>Employment.Length</th>\n",
       "      <th>owning a two wheeler</th>\n",
       "      <th>Debt To Income Ratio</th>\n",
       "      <th>credit_s</th>\n",
       "      <th>age</th>\n",
       "    </tr>\n",
       "  </thead>\n",
       "  <tbody>\n",
       "    <tr>\n",
       "      <th>0</th>\n",
       "      <td>84563.0</td>\n",
       "      <td>8000.0</td>\n",
       "      <td>8000.0</td>\n",
       "      <td>7.62</td>\n",
       "      <td>36 months</td>\n",
       "      <td>3500.00</td>\n",
       "      <td>NaN</td>\n",
       "      <td>yes</td>\n",
       "      <td>0.00</td>\n",
       "      <td>767.0</td>\n",
       "      <td>32.0</td>\n",
       "    </tr>\n",
       "    <tr>\n",
       "      <th>1</th>\n",
       "      <td>78765.0</td>\n",
       "      <td>9000.0</td>\n",
       "      <td>9000.0</td>\n",
       "      <td>10.16</td>\n",
       "      <td>36 months</td>\n",
       "      <td>5166.67</td>\n",
       "      <td>10.0</td>\n",
       "      <td>no</td>\n",
       "      <td>13.76</td>\n",
       "      <td>712.0</td>\n",
       "      <td>32.5</td>\n",
       "    </tr>\n",
       "    <tr>\n",
       "      <th>2</th>\n",
       "      <td>24590.0</td>\n",
       "      <td>13000.0</td>\n",
       "      <td>12975.0</td>\n",
       "      <td>9.99</td>\n",
       "      <td>60 months</td>\n",
       "      <td>10500.00</td>\n",
       "      <td>10.0</td>\n",
       "      <td>yes</td>\n",
       "      <td>8.77</td>\n",
       "      <td>802.0</td>\n",
       "      <td>33.0</td>\n",
       "    </tr>\n",
       "    <tr>\n",
       "      <th>3</th>\n",
       "      <td>9061.0</td>\n",
       "      <td>10000.0</td>\n",
       "      <td>10000.0</td>\n",
       "      <td>14.22</td>\n",
       "      <td>36 months</td>\n",
       "      <td>2541.67</td>\n",
       "      <td>8.0</td>\n",
       "      <td>no</td>\n",
       "      <td>12.24</td>\n",
       "      <td>682.0</td>\n",
       "      <td>33.5</td>\n",
       "    </tr>\n",
       "    <tr>\n",
       "      <th>4</th>\n",
       "      <td>47011.0</td>\n",
       "      <td>3600.0</td>\n",
       "      <td>3600.0</td>\n",
       "      <td>13.67</td>\n",
       "      <td>36 months</td>\n",
       "      <td>5113.00</td>\n",
       "      <td>NaN</td>\n",
       "      <td>yes</td>\n",
       "      <td>16.41</td>\n",
       "      <td>692.0</td>\n",
       "      <td>34.0</td>\n",
       "    </tr>\n",
       "  </tbody>\n",
       "</table>\n",
       "</div>"
      ],
      "text/plain": [
       "   cust.ID  Amount.Requested for loan  Amount.Funded.By.Investors to bank  \\\n",
       "0  84563.0                     8000.0                              8000.0   \n",
       "1  78765.0                     9000.0                              9000.0   \n",
       "2  24590.0                    13000.0                             12975.0   \n",
       "3   9061.0                    10000.0                             10000.0   \n",
       "4  47011.0                     3600.0                              3600.0   \n",
       "\n",
       "   Interest.Rate Loan duration  Family_incomeIncome  Employment.Length  \\\n",
       "0           7.62     36 months              3500.00                NaN   \n",
       "1          10.16     36 months              5166.67               10.0   \n",
       "2           9.99     60 months             10500.00               10.0   \n",
       "3          14.22     36 months              2541.67                8.0   \n",
       "4          13.67     36 months              5113.00                NaN   \n",
       "\n",
       "  owning a two wheeler  Debt To Income Ratio  credit_s   age  \n",
       "0                 yes                   0.00     767.0  32.0  \n",
       "1                   no                 13.76     712.0  32.5  \n",
       "2                 yes                   8.77     802.0  33.0  \n",
       "3                   no                 12.24     682.0  33.5  \n",
       "4                 yes                  16.41     692.0  34.0  "
      ]
     },
     "execution_count": 44,
     "metadata": {},
     "output_type": "execute_result"
    }
   ],
   "source": [
    "df.head()"
   ]
  },
  {
   "cell_type": "code",
   "execution_count": 45,
   "id": "d8a59210",
   "metadata": {},
   "outputs": [
    {
     "data": {
      "text/plain": [
       "Loan duration\n",
       "36 months       1716\n",
       "60 months        467\n",
       ".                  1\n",
       ">= 36 months       1\n",
       "Name: count, dtype: int64"
      ]
     },
     "execution_count": 45,
     "metadata": {},
     "output_type": "execute_result"
    }
   ],
   "source": [
    "df['Loan duration'].value_counts()"
   ]
  },
  {
   "cell_type": "code",
   "execution_count": 46,
   "id": "f893145a",
   "metadata": {},
   "outputs": [
    {
     "data": {
      "application/javascript": [
       "\n",
       "        if (window._pyforest_update_imports_cell) { window._pyforest_update_imports_cell('import matplotlib.pyplot as plt\\nimport pandas as pd\\nimport numpy as np'); }\n",
       "    "
      ],
      "text/plain": [
       "<IPython.core.display.Javascript object>"
      ]
     },
     "metadata": {},
     "output_type": "display_data"
    },
    {
     "data": {
      "application/javascript": [
       "\n",
       "        if (window._pyforest_update_imports_cell) { window._pyforest_update_imports_cell('import matplotlib.pyplot as plt\\nimport pandas as pd\\nimport numpy as np'); }\n",
       "    "
      ],
      "text/plain": [
       "<IPython.core.display.Javascript object>"
      ]
     },
     "metadata": {},
     "output_type": "display_data"
    }
   ],
   "source": [
    "df['Loan duration']=df['Loan duration'].str.replace('months','')\n",
    "df['Loan duration']=np.where(df['Loan duration'].str[0]=='>','60 ',df['Loan duration'])\n",
    "df['Loan duration']=np.where(df['Loan duration'].str[0]=='.','36 ',df['Loan duration'])"
   ]
  },
  {
   "cell_type": "code",
   "execution_count": 47,
   "id": "336d7f68",
   "metadata": {},
   "outputs": [
    {
     "data": {
      "text/plain": [
       "Loan duration\n",
       "36     1717\n",
       "60      468\n",
       "Name: count, dtype: int64"
      ]
     },
     "execution_count": 47,
     "metadata": {},
     "output_type": "execute_result"
    }
   ],
   "source": [
    "df['Loan duration'].value_counts()"
   ]
  },
  {
   "cell_type": "code",
   "execution_count": 48,
   "id": "f5b06dbd",
   "metadata": {},
   "outputs": [
    {
     "data": {
      "text/plain": [
       "cust.ID                               float64\n",
       "Amount.Requested for loan             float64\n",
       "Amount.Funded.By.Investors to bank    float64\n",
       "Interest.Rate                         float64\n",
       "Loan duration                          object\n",
       "Family_incomeIncome                   float64\n",
       "Employment.Length                     float64\n",
       "owning a two wheeler                   object\n",
       "Debt To Income Ratio                  float64\n",
       "credit_s                              float64\n",
       "age                                   float64\n",
       "dtype: object"
      ]
     },
     "execution_count": 48,
     "metadata": {},
     "output_type": "execute_result"
    }
   ],
   "source": [
    "df.dtypes"
   ]
  },
  {
   "cell_type": "markdown",
   "id": "e4c6d3be",
   "metadata": {},
   "source": [
    "### Missing Value Treatment"
   ]
  },
  {
   "cell_type": "code",
   "execution_count": 49,
   "id": "609fc058",
   "metadata": {},
   "outputs": [
    {
     "data": {
      "application/javascript": [
       "\n",
       "        if (window._pyforest_update_imports_cell) { window._pyforest_update_imports_cell('import matplotlib.pyplot as plt\\nimport pandas as pd\\nimport numpy as np'); }\n",
       "    "
      ],
      "text/plain": [
       "<IPython.core.display.Javascript object>"
      ]
     },
     "metadata": {},
     "output_type": "display_data"
    },
    {
     "data": {
      "text/html": [
       "<div>\n",
       "<style scoped>\n",
       "    .dataframe tbody tr th:only-of-type {\n",
       "        vertical-align: middle;\n",
       "    }\n",
       "\n",
       "    .dataframe tbody tr th {\n",
       "        vertical-align: top;\n",
       "    }\n",
       "\n",
       "    .dataframe thead th {\n",
       "        text-align: right;\n",
       "    }\n",
       "</style>\n",
       "<table border=\"1\" class=\"dataframe\">\n",
       "  <thead>\n",
       "    <tr style=\"text-align: right;\">\n",
       "      <th></th>\n",
       "      <th>Total</th>\n",
       "      <th>Percentage of Missing Values</th>\n",
       "    </tr>\n",
       "  </thead>\n",
       "  <tbody>\n",
       "    <tr>\n",
       "      <th>Employment.Length</th>\n",
       "      <td>67</td>\n",
       "      <td>3.064959</td>\n",
       "    </tr>\n",
       "    <tr>\n",
       "      <th>Amount.Funded.By.Investors to bank</th>\n",
       "      <td>9</td>\n",
       "      <td>0.411711</td>\n",
       "    </tr>\n",
       "    <tr>\n",
       "      <th>Family_incomeIncome</th>\n",
       "      <td>9</td>\n",
       "      <td>0.411711</td>\n",
       "    </tr>\n",
       "    <tr>\n",
       "      <th>Amount.Requested for loan</th>\n",
       "      <td>5</td>\n",
       "      <td>0.228728</td>\n",
       "    </tr>\n",
       "    <tr>\n",
       "      <th>Debt To Income Ratio</th>\n",
       "      <td>2</td>\n",
       "      <td>0.091491</td>\n",
       "    </tr>\n",
       "    <tr>\n",
       "      <th>cust.ID</th>\n",
       "      <td>1</td>\n",
       "      <td>0.045746</td>\n",
       "    </tr>\n",
       "    <tr>\n",
       "      <th>Loan duration</th>\n",
       "      <td>1</td>\n",
       "      <td>0.045746</td>\n",
       "    </tr>\n",
       "    <tr>\n",
       "      <th>owning a two wheeler</th>\n",
       "      <td>1</td>\n",
       "      <td>0.045746</td>\n",
       "    </tr>\n",
       "    <tr>\n",
       "      <th>age</th>\n",
       "      <td>1</td>\n",
       "      <td>0.045746</td>\n",
       "    </tr>\n",
       "    <tr>\n",
       "      <th>Interest.Rate</th>\n",
       "      <td>0</td>\n",
       "      <td>0.000000</td>\n",
       "    </tr>\n",
       "    <tr>\n",
       "      <th>credit_s</th>\n",
       "      <td>0</td>\n",
       "      <td>0.000000</td>\n",
       "    </tr>\n",
       "  </tbody>\n",
       "</table>\n",
       "</div>"
      ],
      "text/plain": [
       "                                    Total  Percentage of Missing Values\n",
       "Employment.Length                      67                      3.064959\n",
       "Amount.Funded.By.Investors to bank      9                      0.411711\n",
       "Family_incomeIncome                     9                      0.411711\n",
       "Amount.Requested for loan               5                      0.228728\n",
       "Debt To Income Ratio                    2                      0.091491\n",
       "cust.ID                                 1                      0.045746\n",
       "Loan duration                           1                      0.045746\n",
       "owning a two wheeler                    1                      0.045746\n",
       "age                                     1                      0.045746\n",
       "Interest.Rate                           0                      0.000000\n",
       "credit_s                                0                      0.000000"
      ]
     },
     "execution_count": 49,
     "metadata": {},
     "output_type": "execute_result"
    }
   ],
   "source": [
    "Total = df.isnull().sum().sort_values(ascending=False)          \n",
    "\n",
    "Percent = (df.isnull().sum()*100/df.isnull().count()).sort_values(ascending=False)   \n",
    "\n",
    "missing_data = pd.concat([Total, Percent], axis=1, keys=['Total', 'Percentage of Missing Values'])    \n",
    "missing_data"
   ]
  },
  {
   "cell_type": "code",
   "execution_count": 50,
   "id": "41867888",
   "metadata": {},
   "outputs": [],
   "source": [
    "df['Amount.Requested for loan'].fillna(df['Amount.Requested for loan'].mean(),inplace=True)\n",
    "df['Amount.Funded.By.Investors to bank'].fillna(df['Amount.Funded.By.Investors to bank'].mean(),inplace=True)\n",
    "df['Family_incomeIncome'].fillna(df['Family_incomeIncome'].mean(),inplace=True)\n",
    "df['Debt To Income Ratio'].fillna(df['Debt To Income Ratio'].mean(),inplace=True)\n",
    "df['age'].fillna(df['age'].mean(),inplace=True)\n",
    "df['Employment.Length'].fillna(df['Employment.Length'].mode()[0],inplace=True)\n",
    "df['Loan duration'].fillna(df['Loan duration'].mode()[0],inplace=True)"
   ]
  },
  {
   "cell_type": "code",
   "execution_count": 51,
   "id": "4926f59f",
   "metadata": {},
   "outputs": [],
   "source": [
    "df['owning a two wheeler'].fillna(df['owning a two wheeler'].mode()[0],inplace=True)"
   ]
  },
  {
   "cell_type": "code",
   "execution_count": 52,
   "id": "df54383a",
   "metadata": {},
   "outputs": [],
   "source": [
    "df.dropna(subset=['cust.ID'],inplace=True)"
   ]
  },
  {
   "cell_type": "code",
   "execution_count": 53,
   "id": "0e267b0d",
   "metadata": {},
   "outputs": [
    {
     "data": {
      "text/plain": [
       "cust.ID                               0\n",
       "Amount.Requested for loan             0\n",
       "Amount.Funded.By.Investors to bank    0\n",
       "Interest.Rate                         0\n",
       "Loan duration                         0\n",
       "Family_incomeIncome                   0\n",
       "Employment.Length                     0\n",
       "owning a two wheeler                  0\n",
       "Debt To Income Ratio                  0\n",
       "credit_s                              0\n",
       "age                                   0\n",
       "dtype: int64"
      ]
     },
     "execution_count": 53,
     "metadata": {},
     "output_type": "execute_result"
    }
   ],
   "source": [
    "df.isnull().sum()"
   ]
  },
  {
   "cell_type": "code",
   "execution_count": 54,
   "id": "d0799d6d",
   "metadata": {},
   "outputs": [
    {
     "data": {
      "application/javascript": [
       "\n",
       "        if (window._pyforest_update_imports_cell) { window._pyforest_update_imports_cell('import seaborn as sns\\nimport matplotlib.pyplot as plt\\nimport pandas as pd\\nimport numpy as np'); }\n",
       "    "
      ],
      "text/plain": [
       "<IPython.core.display.Javascript object>"
      ]
     },
     "metadata": {},
     "output_type": "display_data"
    },
    {
     "data": {
      "text/plain": [
       "<Axes: xlabel='Loan duration', ylabel='count'>"
      ]
     },
     "execution_count": 54,
     "metadata": {},
     "output_type": "execute_result"
    },
    {
     "data": {
      "image/png": "[encoded data removed]",
      "text/plain": [
       "<Figure size 640x480 with 1 Axes>"
      ]
     },
     "metadata": {},
     "output_type": "display_data"
    }
   ],
   "source": [
    "sns.countplot(x='Loan duration',data=df)"
   ]
  },
  {
   "cell_type": "code",
   "execution_count": 55,
   "id": "7d95c16c",
   "metadata": {},
   "outputs": [
    {
     "data": {
      "application/javascript": [
       "\n",
       "        if (window._pyforest_update_imports_cell) { window._pyforest_update_imports_cell('import seaborn as sns\\nimport matplotlib.pyplot as plt\\nimport pandas as pd\\nimport numpy as np'); }\n",
       "    "
      ],
      "text/plain": [
       "<IPython.core.display.Javascript object>"
      ]
     },
     "metadata": {},
     "output_type": "display_data"
    },
    {
     "data": {
      "application/javascript": [
       "\n",
       "        if (window._pyforest_update_imports_cell) { window._pyforest_update_imports_cell('import seaborn as sns\\nimport matplotlib.pyplot as plt\\nimport pandas as pd\\nimport numpy as np'); }\n",
       "    "
      ],
      "text/plain": [
       "<IPython.core.display.Javascript object>"
      ]
     },
     "metadata": {},
     "output_type": "display_data"
    },
    {
     "data": {
      "image/png": "[encoded data removed]",
      "text/plain": [
       "<Figure size 640x480 with 1 Axes>"
      ]
     },
     "metadata": {},
     "output_type": "display_data"
    }
   ],
   "source": [
    "file=df['Loan duration'].value_counts()\n",
    "custom_colors=['#FF6347','#DAA520']\n",
    "plt.pie(file,labels=file.index,autopct='%.2f',colors=custom_colors)\n",
    "plt.show()"
   ]
  },
  {
   "cell_type": "code",
   "execution_count": 56,
   "id": "69a08846",
   "metadata": {},
   "outputs": [
    {
     "data": {
      "application/javascript": [
       "\n",
       "        if (window._pyforest_update_imports_cell) { window._pyforest_update_imports_cell('import seaborn as sns\\nimport matplotlib.pyplot as plt\\nimport pandas as pd\\nimport numpy as np'); }\n",
       "    "
      ],
      "text/plain": [
       "<IPython.core.display.Javascript object>"
      ]
     },
     "metadata": {},
     "output_type": "display_data"
    },
    {
     "data": {
      "image/png": "[encoded data removed]",
      "text/plain": [
       "<Figure size 640x480 with 1 Axes>"
      ]
     },
     "metadata": {},
     "output_type": "display_data"
    }
   ],
   "source": [
    "bar=pd.crosstab(df['Employment.Length'],df['owning a two wheeler']).plot(kind='bar')"
   ]
  },
  {
   "cell_type": "markdown",
   "id": "3a1b8230",
   "metadata": {},
   "source": [
    "**Insights:**\n",
    "- Employment Length Impact: As employment length increases, the number of individuals owning a two-wheeler tends to rise significantly, especially at the highest employment length (10.0 years).\n",
    "- Lower Employment Length: For shorter employment lengths (0.5 to 3.0 years), the ownership of two-wheelers is relatively lower compared to longer employment lengths.\n",
    "- Trend Observation: There appears to be a positive correlation between employment length and two-wheeler ownership, suggesting that individuals with longer employment durations are more likely to own a two-wheeler.\n",
    "- Potential Implications: This trend could indicate that financial stability or increased income associated with longer employment may lead to higher rates of two-wheeler ownership.\n",
    "\n",
    "Overall, the data suggests that employment length is a significant factor in determining two-wheeler ownership."
   ]
  },
  {
   "cell_type": "code",
   "execution_count": 57,
   "id": "14f38a9d",
   "metadata": {},
   "outputs": [
    {
     "data": {
      "application/javascript": [
       "\n",
       "        if (window._pyforest_update_imports_cell) { window._pyforest_update_imports_cell('import seaborn as sns\\nimport matplotlib.pyplot as plt\\nimport pandas as pd\\nimport numpy as np'); }\n",
       "    "
      ],
      "text/plain": [
       "<IPython.core.display.Javascript object>"
      ]
     },
     "metadata": {},
     "output_type": "display_data"
    },
    {
     "data": {
      "application/javascript": [
       "\n",
       "        if (window._pyforest_update_imports_cell) { window._pyforest_update_imports_cell('import seaborn as sns\\nimport matplotlib.pyplot as plt\\nimport pandas as pd\\nimport numpy as np'); }\n",
       "    "
      ],
      "text/plain": [
       "<IPython.core.display.Javascript object>"
      ]
     },
     "metadata": {},
     "output_type": "display_data"
    },
    {
     "data": {
      "application/javascript": [
       "\n",
       "        if (window._pyforest_update_imports_cell) { window._pyforest_update_imports_cell('import seaborn as sns\\nimport matplotlib.pyplot as plt\\nimport pandas as pd\\nimport numpy as np'); }\n",
       "    "
      ],
      "text/plain": [
       "<IPython.core.display.Javascript object>"
      ]
     },
     "metadata": {},
     "output_type": "display_data"
    },
    {
     "data": {
      "image/png": "[encoded data removed]",
      "text/plain": [
       "<Figure size 2000x1000 with 1 Axes>"
      ]
     },
     "metadata": {},
     "output_type": "display_data"
    }
   ],
   "source": [
    "plt.figure(figsize=(20,10))\n",
    "bar=sns.countplot(x='Employment.Length',data=df,hue='Loan duration',palette='turbo_r')\n",
    "for container in bar.containers:\n",
    "    bar.bar_label(container)\n",
    "plt.show()"
   ]
  },
  {
   "cell_type": "markdown",
   "id": "35112296",
   "metadata": {},
   "source": [
    "**Insight:**\n",
    "- For shorter employment lengths (0.5 to 3.0 years), the count of loans is relatively low, particularly for the 6o month duration. As employment length increases, the count of loans for both durations generally increases, with a notable spike at 10.0 years, particularly for the 36 month loan duration, indicating a strong preference or ability to secure loans among those with longer employment.\n",
    "- The 36 month loan duration consistently has higher counts across most employment lengths compared to the 60 month duration. This suggests that borrowers may prefer shorter loan durations, possibly due to lower interest rates or quicker repayment terms.\n",
    "\n",
    "Implications for Lenders: Lenders might consider employment length as a significant factor when assessing loan applications, as it appears to correlate with loan duration preferences and overall loan counts."
   ]
  },
  {
   "cell_type": "code",
   "execution_count": 58,
   "id": "51feca6b",
   "metadata": {},
   "outputs": [
    {
     "data": {
      "application/javascript": [
       "\n",
       "        if (window._pyforest_update_imports_cell) { window._pyforest_update_imports_cell('import seaborn as sns\\nimport matplotlib.pyplot as plt\\nimport pandas as pd\\nimport numpy as np'); }\n",
       "    "
      ],
      "text/plain": [
       "<IPython.core.display.Javascript object>"
      ]
     },
     "metadata": {},
     "output_type": "display_data"
    },
    {
     "data": {
      "text/plain": [
       "<Axes: xlabel='Family_incomeIncome', ylabel='Amount.Requested for loan'>"
      ]
     },
     "execution_count": 58,
     "metadata": {},
     "output_type": "execute_result"
    },
    {
     "data": {
      "image/png": "[encoded data removed]",
      "text/plain": [
       "<Figure size 640x480 with 1 Axes>"
      ]
     },
     "metadata": {},
     "output_type": "display_data"
    }
   ],
   "source": [
    "sns.scatterplot(y=df['Amount.Requested for loan'],x=df['Family_incomeIncome'])"
   ]
  },
  {
   "cell_type": "markdown",
   "id": "83aedc38",
   "metadata": {},
   "source": [
    "**Insight:**\n",
    "- Data Distribution: Most data points are clustered at lower family income levels (around 0 to 20,000), with a corresponding low amount requested for loans. This suggests that individuals with lower incomes are primarily seeking smaller loan amounts.\n",
    "- Outliers: There are a few outliers on the higher end of the loan amount requested that do not correspond to similarly high family income levels. This indicates that some individuals may be requesting significantly larger loans despite having relatively low family incomes.\n",
    "- Correlation Observation: There appears to be a weak positive correlation between family income and the amount requested for a loan. As family income increases, the amount requested tends to increase, but the relationship is not strong, as evidenced by the spread of points.\n",
    "- Loan Request Behavior: The majority of loan requests come from individuals with lower family incomes, which may suggest that these individuals are seeking financial assistance for essential needs.\n",
    "\n",
    "Implications for Lenders: Lenders may need to consider the income levels of applicants when evaluating loan requests, especially given the presence of outliers that could skew average loan amounts."
   ]
  },
  {
   "cell_type": "code",
   "execution_count": 59,
   "id": "3237f7cc",
   "metadata": {},
   "outputs": [
    {
     "data": {
      "application/javascript": [
       "\n",
       "        if (window._pyforest_update_imports_cell) { window._pyforest_update_imports_cell('import seaborn as sns\\nimport matplotlib.pyplot as plt\\nimport pandas as pd\\nimport numpy as np'); }\n",
       "    "
      ],
      "text/plain": [
       "<IPython.core.display.Javascript object>"
      ]
     },
     "metadata": {},
     "output_type": "display_data"
    },
    {
     "data": {
      "application/javascript": [
       "\n",
       "        if (window._pyforest_update_imports_cell) { window._pyforest_update_imports_cell('import seaborn as sns\\nimport matplotlib.pyplot as plt\\nimport pandas as pd\\nimport numpy as np'); }\n",
       "    "
      ],
      "text/plain": [
       "<IPython.core.display.Javascript object>"
      ]
     },
     "metadata": {},
     "output_type": "display_data"
    },
    {
     "data": {
      "application/javascript": [
       "\n",
       "        if (window._pyforest_update_imports_cell) { window._pyforest_update_imports_cell('import seaborn as sns\\nimport matplotlib.pyplot as plt\\nimport pandas as pd\\nimport numpy as np'); }\n",
       "    "
      ],
      "text/plain": [
       "<IPython.core.display.Javascript object>"
      ]
     },
     "metadata": {},
     "output_type": "display_data"
    },
    {
     "data": {
      "text/plain": [
       "<matplotlib.legend.Legend at 0x2723a8dca00>"
      ]
     },
     "execution_count": 59,
     "metadata": {},
     "output_type": "execute_result"
    },
    {
     "data": {
      "image/png": "[encoded data removed]",
      "text/plain": [
       "<Figure size 1500x800 with 1 Axes>"
      ]
     },
     "metadata": {},
     "output_type": "display_data"
    }
   ],
   "source": [
    "plt.rcParams['figure.figsize'] = (15, 8)\n",
    "loc_plt=pd.crosstab(df['Employment.Length'],df['age'])\n",
    "loc_plt.plot(kind='bar',stacked=True)\n",
    "plt.legend()"
   ]
  },
  {
   "cell_type": "code",
   "execution_count": 60,
   "id": "f1259f75",
   "metadata": {},
   "outputs": [
    {
     "data": {
      "application/javascript": [
       "\n",
       "        if (window._pyforest_update_imports_cell) { window._pyforest_update_imports_cell('import seaborn as sns\\nimport matplotlib.pyplot as plt\\nimport pandas as pd\\nimport numpy as np'); }\n",
       "    "
      ],
      "text/plain": [
       "<IPython.core.display.Javascript object>"
      ]
     },
     "metadata": {},
     "output_type": "display_data"
    },
    {
     "data": {
      "application/javascript": [
       "\n",
       "        if (window._pyforest_update_imports_cell) { window._pyforest_update_imports_cell('import seaborn as sns\\nimport matplotlib.pyplot as plt\\nimport pandas as pd\\nimport numpy as np'); }\n",
       "    "
      ],
      "text/plain": [
       "<IPython.core.display.Javascript object>"
      ]
     },
     "metadata": {},
     "output_type": "display_data"
    },
    {
     "data": {
      "application/javascript": [
       "\n",
       "        if (window._pyforest_update_imports_cell) { window._pyforest_update_imports_cell('import seaborn as sns\\nimport matplotlib.pyplot as plt\\nimport pandas as pd\\nimport numpy as np'); }\n",
       "    "
      ],
      "text/plain": [
       "<IPython.core.display.Javascript object>"
      ]
     },
     "metadata": {},
     "output_type": "display_data"
    },
    {
     "data": {
      "text/plain": [
       "<matplotlib.legend.Legend at 0x2723aaa5570>"
      ]
     },
     "execution_count": 60,
     "metadata": {},
     "output_type": "execute_result"
    },
    {
     "data": {
      "image/png": "[encoded data removed]",
      "text/plain": [
       "<Figure size 1500x800 with 1 Axes>"
      ]
     },
     "metadata": {},
     "output_type": "display_data"
    }
   ],
   "source": [
    "plt.rcParams['figure.figsize'] = (15, 8)\n",
    "loc_plt=pd.crosstab(df['age'],df['owning a two wheeler'])\n",
    "loc_plt.plot(kind='bar')\n",
    "plt.legend()"
   ]
  },
  {
   "cell_type": "markdown",
   "id": "38e75b72",
   "metadata": {},
   "source": [
    "**Insight:**\n",
    "- Age Distribution:\n",
    "The histogram shows that the majority of loan applicants are concentrated around the ages of 35 to 40. This suggests that this age group is the most active in seeking loans.\n",
    "- Loan Approval Status:\n",
    "The blue bars represent loan denials (no), while the orange bars represent approval (yes).\n",
    "There is a noticeable trend where loan approvals are significantly higher than denials across most age groups, particularly for those aged 35 to 40.\n",
    "- Age Group Insights:\n",
    "The age group of 40 shows the highest number of approvals, indicating that older applicants may have a better chance of securing loans, possibly due to more stable financial situations or credit histories.\n",
    "The lower frequency of loan requests from younger age groups (e.g., 32 to 34) suggests that these individuals may either be less likely to apply for loans or may not meet the criteria for approval.\n",
    "\n",
    "Implications for Lenders:\n",
    "Lenders may want to focus their marketing efforts on the 35 to 40 age demographic, as this group shows the highest engagement with loan products.\n",
    "Understanding the characteristics of approved applicants in this age range could help lenders refine their criteria and offerings.\n"
   ]
  },
  {
   "cell_type": "code",
   "execution_count": 75,
   "id": "e38d7045",
   "metadata": {},
   "outputs": [
    {
     "data": {
      "application/javascript": [
       "\n",
       "        if (window._pyforest_update_imports_cell) { window._pyforest_update_imports_cell('import seaborn as sns\\nimport matplotlib.pyplot as plt\\nimport pandas as pd\\nimport numpy as np'); }\n",
       "    "
      ],
      "text/plain": [
       "<IPython.core.display.Javascript object>"
      ]
     },
     "metadata": {},
     "output_type": "display_data"
    },
    {
     "data": {
      "application/javascript": [
       "\n",
       "        if (window._pyforest_update_imports_cell) { window._pyforest_update_imports_cell('import seaborn as sns\\nimport matplotlib.pyplot as plt\\nimport pandas as pd\\nimport numpy as np'); }\n",
       "    "
      ],
      "text/plain": [
       "<IPython.core.display.Javascript object>"
      ]
     },
     "metadata": {},
     "output_type": "display_data"
    },
    {
     "data": {
      "application/javascript": [
       "\n",
       "        if (window._pyforest_update_imports_cell) { window._pyforest_update_imports_cell('import seaborn as sns\\nimport matplotlib.pyplot as plt\\nimport pandas as pd\\nimport numpy as np'); }\n",
       "    "
      ],
      "text/plain": [
       "<IPython.core.display.Javascript object>"
      ]
     },
     "metadata": {},
     "output_type": "display_data"
    },
    {
     "data": {
      "application/javascript": [
       "\n",
       "        if (window._pyforest_update_imports_cell) { window._pyforest_update_imports_cell('import seaborn as sns\\nimport matplotlib.pyplot as plt\\nimport pandas as pd\\nimport numpy as np'); }\n",
       "    "
      ],
      "text/plain": [
       "<IPython.core.display.Javascript object>"
      ]
     },
     "metadata": {},
     "output_type": "display_data"
    },
    {
     "data": {
      "application/javascript": [
       "\n",
       "        if (window._pyforest_update_imports_cell) { window._pyforest_update_imports_cell('import seaborn as sns\\nimport matplotlib.pyplot as plt\\nimport pandas as pd\\nimport numpy as np'); }\n",
       "    "
      ],
      "text/plain": [
       "<IPython.core.display.Javascript object>"
      ]
     },
     "metadata": {},
     "output_type": "display_data"
    },
    {
     "data": {
      "image/png": "[encoded data removed]",
      "text/plain": [
       "<Figure size 1500x800 with 1 Axes>"
      ]
     },
     "metadata": {},
     "output_type": "display_data"
    }
   ],
   "source": [
    "sns.histplot(data=df,x='Amount.Requested for loan',kde=True)\n",
    "plt.title('Amount requested for Loan Distribution')\n",
    "plt.xlabel('Amount requested for loan')\n",
    "plt.ylabel('Frequency')\n",
    "plt.show()"
   ]
  },
  {
   "cell_type": "markdown",
   "id": "14f7b4bf",
   "metadata": {},
   "source": [
    "**Insight:**\n",
    "- Distribution Shape:\n",
    "The histogram shows a right-skewed distribution, indicating that most loan requests are for lower amounts, with fewer requests for higher amounts. This suggests that a significant number of borrowers are seeking smaller loans.\n",
    "- Frequency of Loan Amounts:\n",
    "The highest frequency of loan requests appears to be concentrated in the lower range, with a gradual decline in frequency as the loan amount increases. This trend indicates that smaller loans are more common among borrowers.\n",
    "- Outliers:\n",
    "There are a few instances of very high loan requests (above $200,000), which may represent outliers. These requests could be from borrowers seeking funding for larger projects or investments, but they are relatively rare compared to the overall distribution.\n",
    "\n",
    "Implications for Lenders:\n",
    "Lenders may want to focus their marketing and product offerings on smaller loan amounts, as this is where the majority of demand lies. Understanding this trend can help in designing loan products that cater to the needs of most borrowers.\n"
   ]
  },
  {
   "cell_type": "code",
   "execution_count": 74,
   "id": "b1b45d41",
   "metadata": {},
   "outputs": [
    {
     "data": {
      "application/javascript": [
       "\n",
       "        if (window._pyforest_update_imports_cell) { window._pyforest_update_imports_cell('import seaborn as sns\\nimport matplotlib.pyplot as plt\\nimport pandas as pd\\nimport numpy as np'); }\n",
       "    "
      ],
      "text/plain": [
       "<IPython.core.display.Javascript object>"
      ]
     },
     "metadata": {},
     "output_type": "display_data"
    },
    {
     "data": {
      "application/javascript": [
       "\n",
       "        if (window._pyforest_update_imports_cell) { window._pyforest_update_imports_cell('import seaborn as sns\\nimport matplotlib.pyplot as plt\\nimport pandas as pd\\nimport numpy as np'); }\n",
       "    "
      ],
      "text/plain": [
       "<IPython.core.display.Javascript object>"
      ]
     },
     "metadata": {},
     "output_type": "display_data"
    },
    {
     "data": {
      "application/javascript": [
       "\n",
       "        if (window._pyforest_update_imports_cell) { window._pyforest_update_imports_cell('import seaborn as sns\\nimport matplotlib.pyplot as plt\\nimport pandas as pd\\nimport numpy as np'); }\n",
       "    "
      ],
      "text/plain": [
       "<IPython.core.display.Javascript object>"
      ]
     },
     "metadata": {},
     "output_type": "display_data"
    },
    {
     "data": {
      "application/javascript": [
       "\n",
       "        if (window._pyforest_update_imports_cell) { window._pyforest_update_imports_cell('import seaborn as sns\\nimport matplotlib.pyplot as plt\\nimport pandas as pd\\nimport numpy as np'); }\n",
       "    "
      ],
      "text/plain": [
       "<IPython.core.display.Javascript object>"
      ]
     },
     "metadata": {},
     "output_type": "display_data"
    },
    {
     "data": {
      "application/javascript": [
       "\n",
       "        if (window._pyforest_update_imports_cell) { window._pyforest_update_imports_cell('import seaborn as sns\\nimport matplotlib.pyplot as plt\\nimport pandas as pd\\nimport numpy as np'); }\n",
       "    "
      ],
      "text/plain": [
       "<IPython.core.display.Javascript object>"
      ]
     },
     "metadata": {},
     "output_type": "display_data"
    },
    {
     "data": {
      "image/png": "[encoded data removed]",
      "text/plain": [
       "<Figure size 1500x800 with 1 Axes>"
      ]
     },
     "metadata": {},
     "output_type": "display_data"
    }
   ],
   "source": [
    "sns.histplot(data=df,x='Family_incomeIncome',hue='Loan duration',kde=True)\n",
    "plt.title('Family Income by Loan duration')\n",
    "plt.xlabel('Family Income')\n",
    "plt.ylabel('Frequency')\n",
    "plt.show()"
   ]
  },
  {
   "cell_type": "markdown",
   "id": "ca7ef121",
   "metadata": {},
   "source": [
    "**Insight:**\n",
    "- Income Distribution:\n",
    "The histogram shows a right-skewed distribution for family income, indicating that most families have lower incomes, with fewer families earning higher incomes. The majority of the data points cluster around the lower end of the income scale.\n",
    "- Loan Duration Comparison:\n",
    "The blue bars represent families with a 36-month loan duration, while the orange line indicates families with a 60-month loan duration.\n",
    "Families with a 60-month loan duration tend to have a slightly higher frequency of higher income levels compared to those with a 36-month loan duration.\n",
    "- Frequency of Loan Durations:\n",
    "The 36-month loan duration shows a higher frequency of families with lower incomes, suggesting that shorter loan terms may be more common among lower-income families.\n",
    "Conversely, families with a 60-month loan duration appear to be more evenly distributed across various income levels, indicating that longer loan terms may attract a broader range of income levels.\n",
    "\n",
    "Implications for Lending:\n",
    "Lenders may consider tailoring their loan products based on income levels. For instance, shorter loan durations might be more appealing to lower-income families, while longer durations could be marketed to families with higher incomes who may prefer lower monthly payments."
   ]
  },
  {
   "cell_type": "markdown",
   "id": "5a66dfa0",
   "metadata": {},
   "source": [
    "### Outlier treatment"
   ]
  },
  {
   "cell_type": "code",
   "execution_count": 64,
   "id": "a45d56ec",
   "metadata": {},
   "outputs": [
    {
     "data": {
      "application/javascript": [
       "\n",
       "        if (window._pyforest_update_imports_cell) { window._pyforest_update_imports_cell('import seaborn as sns\\nimport matplotlib.pyplot as plt\\nimport pandas as pd\\nimport numpy as np'); }\n",
       "    "
      ],
      "text/plain": [
       "<IPython.core.display.Javascript object>"
      ]
     },
     "metadata": {},
     "output_type": "display_data"
    },
    {
     "data": {
      "application/javascript": [
       "\n",
       "        if (window._pyforest_update_imports_cell) { window._pyforest_update_imports_cell('import seaborn as sns\\nimport matplotlib.pyplot as plt\\nimport pandas as pd\\nimport numpy as np'); }\n",
       "    "
      ],
      "text/plain": [
       "<IPython.core.display.Javascript object>"
      ]
     },
     "metadata": {},
     "output_type": "display_data"
    },
    {
     "data": {
      "application/javascript": [
       "\n",
       "        if (window._pyforest_update_imports_cell) { window._pyforest_update_imports_cell('import seaborn as sns\\nimport matplotlib.pyplot as plt\\nimport pandas as pd\\nimport numpy as np'); }\n",
       "    "
      ],
      "text/plain": [
       "<IPython.core.display.Javascript object>"
      ]
     },
     "metadata": {},
     "output_type": "display_data"
    },
    {
     "data": {
      "image/png": "[encoded data removed]",
      "text/plain": [
       "<Figure size 3000x2500 with 1 Axes>"
      ]
     },
     "metadata": {},
     "output_type": "display_data"
    }
   ],
   "source": [
    "plt.figure(figsize=(30,25))\n",
    "sns.boxplot(df)\n",
    "plt.show()"
   ]
  },
  {
   "cell_type": "code",
   "execution_count": 65,
   "id": "38531d74",
   "metadata": {},
   "outputs": [
    {
     "data": {
      "application/javascript": [
       "\n",
       "        if (window._pyforest_update_imports_cell) { window._pyforest_update_imports_cell('import seaborn as sns\\nimport matplotlib.pyplot as plt\\nimport pandas as pd\\nimport numpy as np'); }\n",
       "    "
      ],
      "text/plain": [
       "<IPython.core.display.Javascript object>"
      ]
     },
     "metadata": {},
     "output_type": "display_data"
    },
    {
     "data": {
      "text/plain": [
       "<Axes: ylabel='Family_incomeIncome'>"
      ]
     },
     "execution_count": 65,
     "metadata": {},
     "output_type": "execute_result"
    },
    {
     "data": {
      "image/png": "[encoded data removed]",
      "text/plain": [
       "<Figure size 1500x800 with 1 Axes>"
      ]
     },
     "metadata": {},
     "output_type": "display_data"
    }
   ],
   "source": [
    "sns.boxplot(y='Family_incomeIncome', data=df)"
   ]
  },
  {
   "cell_type": "code",
   "execution_count": 66,
   "id": "4064874b",
   "metadata": {},
   "outputs": [
    {
     "data": {
      "application/javascript": [
       "\n",
       "        if (window._pyforest_update_imports_cell) { window._pyforest_update_imports_cell('import seaborn as sns\\nimport matplotlib.pyplot as plt\\nimport pandas as pd\\nimport numpy as np'); }\n",
       "    "
      ],
      "text/plain": [
       "<IPython.core.display.Javascript object>"
      ]
     },
     "metadata": {},
     "output_type": "display_data"
    },
    {
     "data": {
      "text/plain": [
       "<Axes: ylabel='Amount.Requested for loan'>"
      ]
     },
     "execution_count": 66,
     "metadata": {},
     "output_type": "execute_result"
    },
    {
     "data": {
      "image/png": "[encoded data removed]",
      "text/plain": [
       "<Figure size 1500x800 with 1 Axes>"
      ]
     },
     "metadata": {},
     "output_type": "display_data"
    }
   ],
   "source": [
    "sns.boxplot(y='Amount.Requested for loan', data=df)"
   ]
  },
  {
   "cell_type": "code",
   "execution_count": 67,
   "id": "943ca2a2",
   "metadata": {},
   "outputs": [
    {
     "name": "stdout",
     "output_type": "stream",
     "text": [
      "Q1= 6000.0\n",
      "Q3= 17000.0\n",
      "IQR= 11000.0\n"
     ]
    }
   ],
   "source": [
    "### Extracting outliers from 'Amount.Requested for loan'\n",
    "Q1=df['Amount.Requested for loan'].quantile(0.25)\n",
    "Q3=df['Amount.Requested for loan'].quantile(0.75)\n",
    "IQR=Q3-Q1\n",
    "print('Q1=',Q1)\n",
    "print('Q3=',Q3)\n",
    "print('IQR=',IQR)"
   ]
  },
  {
   "cell_type": "code",
   "execution_count": 68,
   "id": "ba5caf96",
   "metadata": {},
   "outputs": [
    {
     "name": "stdout",
     "output_type": "stream",
     "text": [
      "Upper whisker= 33500.0\n",
      "Lower whisker= -10500.0\n"
     ]
    }
   ],
   "source": [
    "UW=Q3+(1.5*IQR)\n",
    "LW=Q1-(1.5*IQR)\n",
    "\n",
    "print('Upper whisker=',UW)\n",
    "print('Lower whisker=',LW)"
   ]
  },
  {
   "cell_type": "code",
   "execution_count": 69,
   "id": "27472685",
   "metadata": {},
   "outputs": [
    {
     "data": {
      "text/html": [
       "<div>\n",
       "<style scoped>\n",
       "    .dataframe tbody tr th:only-of-type {\n",
       "        vertical-align: middle;\n",
       "    }\n",
       "\n",
       "    .dataframe tbody tr th {\n",
       "        vertical-align: top;\n",
       "    }\n",
       "\n",
       "    .dataframe thead th {\n",
       "        text-align: right;\n",
       "    }\n",
       "</style>\n",
       "<table border=\"1\" class=\"dataframe\">\n",
       "  <thead>\n",
       "    <tr style=\"text-align: right;\">\n",
       "      <th></th>\n",
       "      <th>cust.ID</th>\n",
       "      <th>Amount.Requested for loan</th>\n",
       "      <th>Amount.Funded.By.Investors to bank</th>\n",
       "      <th>Interest.Rate</th>\n",
       "      <th>Loan duration</th>\n",
       "      <th>Family_incomeIncome</th>\n",
       "      <th>Employment.Length</th>\n",
       "      <th>owning a two wheeler</th>\n",
       "      <th>Debt To Income Ratio</th>\n",
       "      <th>credit_s</th>\n",
       "      <th>age</th>\n",
       "    </tr>\n",
       "  </thead>\n",
       "  <tbody>\n",
       "    <tr>\n",
       "      <th>25</th>\n",
       "      <td>13863.0</td>\n",
       "      <td>250000.0</td>\n",
       "      <td>20850.00</td>\n",
       "      <td>15.58</td>\n",
       "      <td>60</td>\n",
       "      <td>5666.67</td>\n",
       "      <td>10.0</td>\n",
       "      <td>no</td>\n",
       "      <td>0.60</td>\n",
       "      <td>787.0</td>\n",
       "      <td>35.0</td>\n",
       "    </tr>\n",
       "    <tr>\n",
       "      <th>29</th>\n",
       "      <td>18629.0</td>\n",
       "      <td>240000.0</td>\n",
       "      <td>24000.00</td>\n",
       "      <td>6.54</td>\n",
       "      <td>36</td>\n",
       "      <td>9583.33</td>\n",
       "      <td>3.0</td>\n",
       "      <td>no</td>\n",
       "      <td>5.62</td>\n",
       "      <td>757.0</td>\n",
       "      <td>35.0</td>\n",
       "    </tr>\n",
       "    <tr>\n",
       "      <th>89</th>\n",
       "      <td>65134.0</td>\n",
       "      <td>34500.0</td>\n",
       "      <td>34450.00</td>\n",
       "      <td>6.62</td>\n",
       "      <td>36</td>\n",
       "      <td>10000.00</td>\n",
       "      <td>9.0</td>\n",
       "      <td>no</td>\n",
       "      <td>16.46</td>\n",
       "      <td>807.0</td>\n",
       "      <td>35.0</td>\n",
       "    </tr>\n",
       "    <tr>\n",
       "      <th>113</th>\n",
       "      <td>75067.0</td>\n",
       "      <td>35000.0</td>\n",
       "      <td>35000.00</td>\n",
       "      <td>21.00</td>\n",
       "      <td>36</td>\n",
       "      <td>7702.00</td>\n",
       "      <td>10.0</td>\n",
       "      <td>no</td>\n",
       "      <td>11.05</td>\n",
       "      <td>672.0</td>\n",
       "      <td>35.0</td>\n",
       "    </tr>\n",
       "    <tr>\n",
       "      <th>173</th>\n",
       "      <td>80059.0</td>\n",
       "      <td>35000.0</td>\n",
       "      <td>35000.00</td>\n",
       "      <td>21.98</td>\n",
       "      <td>60</td>\n",
       "      <td>11500.00</td>\n",
       "      <td>2.0</td>\n",
       "      <td>no</td>\n",
       "      <td>23.81</td>\n",
       "      <td>692.0</td>\n",
       "      <td>35.0</td>\n",
       "    </tr>\n",
       "    <tr>\n",
       "      <th>181</th>\n",
       "      <td>91334.0</td>\n",
       "      <td>35000.0</td>\n",
       "      <td>35000.00</td>\n",
       "      <td>15.31</td>\n",
       "      <td>36</td>\n",
       "      <td>7500.00</td>\n",
       "      <td>1.0</td>\n",
       "      <td>no</td>\n",
       "      <td>19.59</td>\n",
       "      <td>697.0</td>\n",
       "      <td>35.0</td>\n",
       "    </tr>\n",
       "    <tr>\n",
       "      <th>226</th>\n",
       "      <td>24464.0</td>\n",
       "      <td>35000.0</td>\n",
       "      <td>24868.47</td>\n",
       "      <td>17.99</td>\n",
       "      <td>60</td>\n",
       "      <td>14000.00</td>\n",
       "      <td>10.0</td>\n",
       "      <td>yes</td>\n",
       "      <td>6.39</td>\n",
       "      <td>717.0</td>\n",
       "      <td>35.0</td>\n",
       "    </tr>\n",
       "    <tr>\n",
       "      <th>271</th>\n",
       "      <td>84897.0</td>\n",
       "      <td>35000.0</td>\n",
       "      <td>35000.00</td>\n",
       "      <td>20.49</td>\n",
       "      <td>36</td>\n",
       "      <td>12333.33</td>\n",
       "      <td>10.0</td>\n",
       "      <td>no</td>\n",
       "      <td>20.82</td>\n",
       "      <td>702.0</td>\n",
       "      <td>35.0</td>\n",
       "    </tr>\n",
       "    <tr>\n",
       "      <th>386</th>\n",
       "      <td>83869.0</td>\n",
       "      <td>35000.0</td>\n",
       "      <td>34950.00</td>\n",
       "      <td>8.90</td>\n",
       "      <td>36</td>\n",
       "      <td>9166.67</td>\n",
       "      <td>1.0</td>\n",
       "      <td>yes</td>\n",
       "      <td>20.46</td>\n",
       "      <td>737.0</td>\n",
       "      <td>35.0</td>\n",
       "    </tr>\n",
       "    <tr>\n",
       "      <th>387</th>\n",
       "      <td>30718.0</td>\n",
       "      <td>35000.0</td>\n",
       "      <td>33500.00</td>\n",
       "      <td>13.49</td>\n",
       "      <td>60</td>\n",
       "      <td>15583.33</td>\n",
       "      <td>6.0</td>\n",
       "      <td>no</td>\n",
       "      <td>10.63</td>\n",
       "      <td>762.0</td>\n",
       "      <td>35.0</td>\n",
       "    </tr>\n",
       "    <tr>\n",
       "      <th>390</th>\n",
       "      <td>38688.0</td>\n",
       "      <td>35000.0</td>\n",
       "      <td>23350.00</td>\n",
       "      <td>11.71</td>\n",
       "      <td>60</td>\n",
       "      <td>7500.00</td>\n",
       "      <td>3.0</td>\n",
       "      <td>yes</td>\n",
       "      <td>8.07</td>\n",
       "      <td>747.0</td>\n",
       "      <td>35.0</td>\n",
       "    </tr>\n",
       "    <tr>\n",
       "      <th>433</th>\n",
       "      <td>99867.0</td>\n",
       "      <td>35000.0</td>\n",
       "      <td>34950.00</td>\n",
       "      <td>17.27</td>\n",
       "      <td>36</td>\n",
       "      <td>6750.00</td>\n",
       "      <td>10.0</td>\n",
       "      <td>no</td>\n",
       "      <td>22.74</td>\n",
       "      <td>677.0</td>\n",
       "      <td>35.0</td>\n",
       "    </tr>\n",
       "    <tr>\n",
       "      <th>512</th>\n",
       "      <td>72220.0</td>\n",
       "      <td>35000.0</td>\n",
       "      <td>34950.00</td>\n",
       "      <td>23.28</td>\n",
       "      <td>60</td>\n",
       "      <td>8333.33</td>\n",
       "      <td>10.0</td>\n",
       "      <td>yes</td>\n",
       "      <td>15.95</td>\n",
       "      <td>677.0</td>\n",
       "      <td>35.0</td>\n",
       "    </tr>\n",
       "    <tr>\n",
       "      <th>597</th>\n",
       "      <td>99541.0</td>\n",
       "      <td>35000.0</td>\n",
       "      <td>35000.00</td>\n",
       "      <td>15.31</td>\n",
       "      <td>36</td>\n",
       "      <td>6666.67</td>\n",
       "      <td>10.0</td>\n",
       "      <td>no</td>\n",
       "      <td>15.00</td>\n",
       "      <td>682.0</td>\n",
       "      <td>35.0</td>\n",
       "    </tr>\n",
       "    <tr>\n",
       "      <th>607</th>\n",
       "      <td>40139.0</td>\n",
       "      <td>35000.0</td>\n",
       "      <td>35000.00</td>\n",
       "      <td>12.42</td>\n",
       "      <td>60</td>\n",
       "      <td>12083.33</td>\n",
       "      <td>0.5</td>\n",
       "      <td>no</td>\n",
       "      <td>12.79</td>\n",
       "      <td>732.0</td>\n",
       "      <td>35.0</td>\n",
       "    </tr>\n",
       "    <tr>\n",
       "      <th>614</th>\n",
       "      <td>29754.0</td>\n",
       "      <td>35000.0</td>\n",
       "      <td>33645.15</td>\n",
       "      <td>17.49</td>\n",
       "      <td>60</td>\n",
       "      <td>16133.33</td>\n",
       "      <td>2.0</td>\n",
       "      <td>yes</td>\n",
       "      <td>6.01</td>\n",
       "      <td>727.0</td>\n",
       "      <td>35.0</td>\n",
       "    </tr>\n",
       "    <tr>\n",
       "      <th>631</th>\n",
       "      <td>33968.0</td>\n",
       "      <td>35000.0</td>\n",
       "      <td>35000.00</td>\n",
       "      <td>10.65</td>\n",
       "      <td>36</td>\n",
       "      <td>18750.00</td>\n",
       "      <td>6.0</td>\n",
       "      <td>no</td>\n",
       "      <td>8.96</td>\n",
       "      <td>737.0</td>\n",
       "      <td>35.0</td>\n",
       "    </tr>\n",
       "    <tr>\n",
       "      <th>647</th>\n",
       "      <td>43017.0</td>\n",
       "      <td>33600.0</td>\n",
       "      <td>33600.00</td>\n",
       "      <td>17.27</td>\n",
       "      <td>60</td>\n",
       "      <td>5416.67</td>\n",
       "      <td>8.0</td>\n",
       "      <td>no</td>\n",
       "      <td>15.08</td>\n",
       "      <td>732.0</td>\n",
       "      <td>35.0</td>\n",
       "    </tr>\n",
       "    <tr>\n",
       "      <th>667</th>\n",
       "      <td>48402.0</td>\n",
       "      <td>35000.0</td>\n",
       "      <td>35000.00</td>\n",
       "      <td>14.65</td>\n",
       "      <td>36</td>\n",
       "      <td>14166.67</td>\n",
       "      <td>8.0</td>\n",
       "      <td>no</td>\n",
       "      <td>12.20</td>\n",
       "      <td>722.0</td>\n",
       "      <td>35.0</td>\n",
       "    </tr>\n",
       "    <tr>\n",
       "      <th>696</th>\n",
       "      <td>22289.0</td>\n",
       "      <td>35000.0</td>\n",
       "      <td>34950.00</td>\n",
       "      <td>12.68</td>\n",
       "      <td>60</td>\n",
       "      <td>7083.33</td>\n",
       "      <td>10.0</td>\n",
       "      <td>yes</td>\n",
       "      <td>23.99</td>\n",
       "      <td>787.0</td>\n",
       "      <td>40.0</td>\n",
       "    </tr>\n",
       "    <tr>\n",
       "      <th>715</th>\n",
       "      <td>25786.0</td>\n",
       "      <td>35000.0</td>\n",
       "      <td>25850.00</td>\n",
       "      <td>15.23</td>\n",
       "      <td>60</td>\n",
       "      <td>10000.00</td>\n",
       "      <td>10.0</td>\n",
       "      <td>no</td>\n",
       "      <td>22.74</td>\n",
       "      <td>762.0</td>\n",
       "      <td>40.0</td>\n",
       "    </tr>\n",
       "    <tr>\n",
       "      <th>768</th>\n",
       "      <td>93780.0</td>\n",
       "      <td>35000.0</td>\n",
       "      <td>35000.00</td>\n",
       "      <td>16.29</td>\n",
       "      <td>36</td>\n",
       "      <td>14166.67</td>\n",
       "      <td>10.0</td>\n",
       "      <td>yes</td>\n",
       "      <td>19.92</td>\n",
       "      <td>662.0</td>\n",
       "      <td>40.0</td>\n",
       "    </tr>\n",
       "    <tr>\n",
       "      <th>792</th>\n",
       "      <td>71487.0</td>\n",
       "      <td>35000.0</td>\n",
       "      <td>35000.00</td>\n",
       "      <td>24.70</td>\n",
       "      <td>60</td>\n",
       "      <td>10000.00</td>\n",
       "      <td>10.0</td>\n",
       "      <td>yes</td>\n",
       "      <td>8.26</td>\n",
       "      <td>662.0</td>\n",
       "      <td>40.0</td>\n",
       "    </tr>\n",
       "    <tr>\n",
       "      <th>794</th>\n",
       "      <td>41411.0</td>\n",
       "      <td>35000.0</td>\n",
       "      <td>35000.00</td>\n",
       "      <td>16.29</td>\n",
       "      <td>36</td>\n",
       "      <td>39583.33</td>\n",
       "      <td>10.0</td>\n",
       "      <td>yes</td>\n",
       "      <td>17.17</td>\n",
       "      <td>707.0</td>\n",
       "      <td>40.0</td>\n",
       "    </tr>\n",
       "    <tr>\n",
       "      <th>901</th>\n",
       "      <td>23345.0</td>\n",
       "      <td>35000.0</td>\n",
       "      <td>14869.55</td>\n",
       "      <td>15.65</td>\n",
       "      <td>60</td>\n",
       "      <td>6308.75</td>\n",
       "      <td>10.0</td>\n",
       "      <td>no</td>\n",
       "      <td>26.19</td>\n",
       "      <td>737.0</td>\n",
       "      <td>40.0</td>\n",
       "    </tr>\n",
       "    <tr>\n",
       "      <th>1104</th>\n",
       "      <td>52708.0</td>\n",
       "      <td>35000.0</td>\n",
       "      <td>35000.00</td>\n",
       "      <td>10.74</td>\n",
       "      <td>36</td>\n",
       "      <td>8300.00</td>\n",
       "      <td>10.0</td>\n",
       "      <td>yes</td>\n",
       "      <td>9.30</td>\n",
       "      <td>742.0</td>\n",
       "      <td>40.0</td>\n",
       "    </tr>\n",
       "    <tr>\n",
       "      <th>1127</th>\n",
       "      <td>88396.0</td>\n",
       "      <td>35000.0</td>\n",
       "      <td>35000.00</td>\n",
       "      <td>12.12</td>\n",
       "      <td>36</td>\n",
       "      <td>13933.33</td>\n",
       "      <td>1.0</td>\n",
       "      <td>no</td>\n",
       "      <td>19.90</td>\n",
       "      <td>722.0</td>\n",
       "      <td>40.0</td>\n",
       "    </tr>\n",
       "    <tr>\n",
       "      <th>1174</th>\n",
       "      <td>85468.0</td>\n",
       "      <td>35000.0</td>\n",
       "      <td>35000.00</td>\n",
       "      <td>20.49</td>\n",
       "      <td>60</td>\n",
       "      <td>18750.00</td>\n",
       "      <td>1.0</td>\n",
       "      <td>yes</td>\n",
       "      <td>11.84</td>\n",
       "      <td>717.0</td>\n",
       "      <td>40.0</td>\n",
       "    </tr>\n",
       "    <tr>\n",
       "      <th>1344</th>\n",
       "      <td>78139.0</td>\n",
       "      <td>35000.0</td>\n",
       "      <td>35000.00</td>\n",
       "      <td>21.98</td>\n",
       "      <td>60</td>\n",
       "      <td>9166.67</td>\n",
       "      <td>3.0</td>\n",
       "      <td>yes</td>\n",
       "      <td>14.68</td>\n",
       "      <td>697.0</td>\n",
       "      <td>40.0</td>\n",
       "    </tr>\n",
       "    <tr>\n",
       "      <th>1353</th>\n",
       "      <td>35991.0</td>\n",
       "      <td>35000.0</td>\n",
       "      <td>34977.35</td>\n",
       "      <td>21.67</td>\n",
       "      <td>60</td>\n",
       "      <td>20833.33</td>\n",
       "      <td>6.0</td>\n",
       "      <td>no</td>\n",
       "      <td>14.25</td>\n",
       "      <td>677.0</td>\n",
       "      <td>40.0</td>\n",
       "    </tr>\n",
       "    <tr>\n",
       "      <th>1373</th>\n",
       "      <td>97449.0</td>\n",
       "      <td>35000.0</td>\n",
       "      <td>35000.00</td>\n",
       "      <td>22.47</td>\n",
       "      <td>60</td>\n",
       "      <td>9583.33</td>\n",
       "      <td>10.0</td>\n",
       "      <td>no</td>\n",
       "      <td>18.95</td>\n",
       "      <td>662.0</td>\n",
       "      <td>40.0</td>\n",
       "    </tr>\n",
       "    <tr>\n",
       "      <th>1401</th>\n",
       "      <td>27415.0</td>\n",
       "      <td>35000.0</td>\n",
       "      <td>32117.00</td>\n",
       "      <td>16.89</td>\n",
       "      <td>60</td>\n",
       "      <td>5416.67</td>\n",
       "      <td>1.0</td>\n",
       "      <td>no</td>\n",
       "      <td>16.84</td>\n",
       "      <td>747.0</td>\n",
       "      <td>40.0</td>\n",
       "    </tr>\n",
       "    <tr>\n",
       "      <th>1517</th>\n",
       "      <td>44394.0</td>\n",
       "      <td>35000.0</td>\n",
       "      <td>34975.00</td>\n",
       "      <td>8.90</td>\n",
       "      <td>36</td>\n",
       "      <td>8750.00</td>\n",
       "      <td>0.5</td>\n",
       "      <td>no</td>\n",
       "      <td>17.90</td>\n",
       "      <td>777.0</td>\n",
       "      <td>40.0</td>\n",
       "    </tr>\n",
       "    <tr>\n",
       "      <th>1574</th>\n",
       "      <td>30756.0</td>\n",
       "      <td>35000.0</td>\n",
       "      <td>34975.00</td>\n",
       "      <td>16.49</td>\n",
       "      <td>60</td>\n",
       "      <td>10416.67</td>\n",
       "      <td>8.0</td>\n",
       "      <td>yes</td>\n",
       "      <td>7.45</td>\n",
       "      <td>722.0</td>\n",
       "      <td>50.0</td>\n",
       "    </tr>\n",
       "    <tr>\n",
       "      <th>1578</th>\n",
       "      <td>50389.0</td>\n",
       "      <td>35000.0</td>\n",
       "      <td>35000.00</td>\n",
       "      <td>21.97</td>\n",
       "      <td>60</td>\n",
       "      <td>7833.33</td>\n",
       "      <td>5.0</td>\n",
       "      <td>yes</td>\n",
       "      <td>21.31</td>\n",
       "      <td>687.0</td>\n",
       "      <td>50.0</td>\n",
       "    </tr>\n",
       "    <tr>\n",
       "      <th>1592</th>\n",
       "      <td>84317.0</td>\n",
       "      <td>35000.0</td>\n",
       "      <td>35000.00</td>\n",
       "      <td>13.11</td>\n",
       "      <td>60</td>\n",
       "      <td>20833.33</td>\n",
       "      <td>5.0</td>\n",
       "      <td>yes</td>\n",
       "      <td>12.02</td>\n",
       "      <td>742.0</td>\n",
       "      <td>50.0</td>\n",
       "    </tr>\n",
       "    <tr>\n",
       "      <th>1622</th>\n",
       "      <td>40136.0</td>\n",
       "      <td>35000.0</td>\n",
       "      <td>34975.00</td>\n",
       "      <td>21.28</td>\n",
       "      <td>60</td>\n",
       "      <td>7916.67</td>\n",
       "      <td>10.0</td>\n",
       "      <td>yes</td>\n",
       "      <td>18.21</td>\n",
       "      <td>682.0</td>\n",
       "      <td>50.0</td>\n",
       "    </tr>\n",
       "    <tr>\n",
       "      <th>1631</th>\n",
       "      <td>76693.0</td>\n",
       "      <td>35000.0</td>\n",
       "      <td>35000.00</td>\n",
       "      <td>8.90</td>\n",
       "      <td>36</td>\n",
       "      <td>10416.67</td>\n",
       "      <td>10.0</td>\n",
       "      <td>no</td>\n",
       "      <td>14.62</td>\n",
       "      <td>737.0</td>\n",
       "      <td>50.0</td>\n",
       "    </tr>\n",
       "    <tr>\n",
       "      <th>1653</th>\n",
       "      <td>70987.0</td>\n",
       "      <td>35000.0</td>\n",
       "      <td>35000.00</td>\n",
       "      <td>7.90</td>\n",
       "      <td>36</td>\n",
       "      <td>12083.33</td>\n",
       "      <td>10.0</td>\n",
       "      <td>no</td>\n",
       "      <td>20.70</td>\n",
       "      <td>792.0</td>\n",
       "      <td>50.0</td>\n",
       "    </tr>\n",
       "    <tr>\n",
       "      <th>1654</th>\n",
       "      <td>97560.0</td>\n",
       "      <td>35000.0</td>\n",
       "      <td>35000.00</td>\n",
       "      <td>17.27</td>\n",
       "      <td>60</td>\n",
       "      <td>10000.00</td>\n",
       "      <td>1.0</td>\n",
       "      <td>yes</td>\n",
       "      <td>27.13</td>\n",
       "      <td>707.0</td>\n",
       "      <td>50.0</td>\n",
       "    </tr>\n",
       "    <tr>\n",
       "      <th>1663</th>\n",
       "      <td>83857.0</td>\n",
       "      <td>35000.0</td>\n",
       "      <td>35000.00</td>\n",
       "      <td>18.49</td>\n",
       "      <td>36</td>\n",
       "      <td>11000.00</td>\n",
       "      <td>10.0</td>\n",
       "      <td>no</td>\n",
       "      <td>16.33</td>\n",
       "      <td>707.0</td>\n",
       "      <td>50.0</td>\n",
       "    </tr>\n",
       "    <tr>\n",
       "      <th>1679</th>\n",
       "      <td>69724.0</td>\n",
       "      <td>35000.0</td>\n",
       "      <td>34950.00</td>\n",
       "      <td>23.76</td>\n",
       "      <td>60</td>\n",
       "      <td>7331.25</td>\n",
       "      <td>4.0</td>\n",
       "      <td>no</td>\n",
       "      <td>24.22</td>\n",
       "      <td>667.0</td>\n",
       "      <td>50.0</td>\n",
       "    </tr>\n",
       "    <tr>\n",
       "      <th>1721</th>\n",
       "      <td>37228.0</td>\n",
       "      <td>33600.0</td>\n",
       "      <td>32058.53</td>\n",
       "      <td>20.30</td>\n",
       "      <td>60</td>\n",
       "      <td>20000.00</td>\n",
       "      <td>2.0</td>\n",
       "      <td>no</td>\n",
       "      <td>13.56</td>\n",
       "      <td>697.0</td>\n",
       "      <td>50.0</td>\n",
       "    </tr>\n",
       "    <tr>\n",
       "      <th>1814</th>\n",
       "      <td>41267.0</td>\n",
       "      <td>35000.0</td>\n",
       "      <td>34975.00</td>\n",
       "      <td>7.90</td>\n",
       "      <td>36</td>\n",
       "      <td>18333.33</td>\n",
       "      <td>1.0</td>\n",
       "      <td>yes</td>\n",
       "      <td>1.59</td>\n",
       "      <td>777.0</td>\n",
       "      <td>50.0</td>\n",
       "    </tr>\n",
       "    <tr>\n",
       "      <th>1915</th>\n",
       "      <td>41993.0</td>\n",
       "      <td>35000.0</td>\n",
       "      <td>35000.00</td>\n",
       "      <td>17.58</td>\n",
       "      <td>36</td>\n",
       "      <td>13333.33</td>\n",
       "      <td>10.0</td>\n",
       "      <td>no</td>\n",
       "      <td>11.80</td>\n",
       "      <td>692.0</td>\n",
       "      <td>50.0</td>\n",
       "    </tr>\n",
       "    <tr>\n",
       "      <th>1953</th>\n",
       "      <td>89438.0</td>\n",
       "      <td>35000.0</td>\n",
       "      <td>35000.00</td>\n",
       "      <td>19.72</td>\n",
       "      <td>60</td>\n",
       "      <td>13333.33</td>\n",
       "      <td>3.0</td>\n",
       "      <td>no</td>\n",
       "      <td>22.38</td>\n",
       "      <td>692.0</td>\n",
       "      <td>50.0</td>\n",
       "    </tr>\n",
       "    <tr>\n",
       "      <th>1989</th>\n",
       "      <td>57169.0</td>\n",
       "      <td>35000.0</td>\n",
       "      <td>35000.00</td>\n",
       "      <td>18.25</td>\n",
       "      <td>60</td>\n",
       "      <td>8083.33</td>\n",
       "      <td>10.0</td>\n",
       "      <td>no</td>\n",
       "      <td>27.69</td>\n",
       "      <td>727.0</td>\n",
       "      <td>50.0</td>\n",
       "    </tr>\n",
       "    <tr>\n",
       "      <th>2012</th>\n",
       "      <td>88842.0</td>\n",
       "      <td>35000.0</td>\n",
       "      <td>35000.00</td>\n",
       "      <td>20.49</td>\n",
       "      <td>60</td>\n",
       "      <td>10416.67</td>\n",
       "      <td>2.0</td>\n",
       "      <td>yes</td>\n",
       "      <td>12.54</td>\n",
       "      <td>687.0</td>\n",
       "      <td>50.0</td>\n",
       "    </tr>\n",
       "    <tr>\n",
       "      <th>2025</th>\n",
       "      <td>82673.0</td>\n",
       "      <td>35000.0</td>\n",
       "      <td>35000.00</td>\n",
       "      <td>7.90</td>\n",
       "      <td>36</td>\n",
       "      <td>12083.33</td>\n",
       "      <td>10.0</td>\n",
       "      <td>no</td>\n",
       "      <td>20.27</td>\n",
       "      <td>772.0</td>\n",
       "      <td>50.0</td>\n",
       "    </tr>\n",
       "    <tr>\n",
       "      <th>2074</th>\n",
       "      <td>88490.0</td>\n",
       "      <td>35000.0</td>\n",
       "      <td>35000.00</td>\n",
       "      <td>19.05</td>\n",
       "      <td>60</td>\n",
       "      <td>9166.67</td>\n",
       "      <td>1.0</td>\n",
       "      <td>yes</td>\n",
       "      <td>13.40</td>\n",
       "      <td>692.0</td>\n",
       "      <td>50.0</td>\n",
       "    </tr>\n",
       "    <tr>\n",
       "      <th>2107</th>\n",
       "      <td>52353.0</td>\n",
       "      <td>35000.0</td>\n",
       "      <td>34950.00</td>\n",
       "      <td>21.97</td>\n",
       "      <td>60</td>\n",
       "      <td>14166.67</td>\n",
       "      <td>3.0</td>\n",
       "      <td>no</td>\n",
       "      <td>19.32</td>\n",
       "      <td>692.0</td>\n",
       "      <td>50.0</td>\n",
       "    </tr>\n",
       "    <tr>\n",
       "      <th>2108</th>\n",
       "      <td>71550.0</td>\n",
       "      <td>35000.0</td>\n",
       "      <td>35000.00</td>\n",
       "      <td>19.05</td>\n",
       "      <td>36</td>\n",
       "      <td>13750.00</td>\n",
       "      <td>10.0</td>\n",
       "      <td>yes</td>\n",
       "      <td>21.12</td>\n",
       "      <td>737.0</td>\n",
       "      <td>50.0</td>\n",
       "    </tr>\n",
       "  </tbody>\n",
       "</table>\n",
       "</div>"
      ],
      "text/plain": [
       "      cust.ID  Amount.Requested for loan  Amount.Funded.By.Investors to bank  \\\n",
       "25    13863.0                   250000.0                            20850.00   \n",
       "29    18629.0                   240000.0                            24000.00   \n",
       "89    65134.0                    34500.0                            34450.00   \n",
       "113   75067.0                    35000.0                            35000.00   \n",
       "173   80059.0                    35000.0                            35000.00   \n",
       "181   91334.0                    35000.0                            35000.00   \n",
       "226   24464.0                    35000.0                            24868.47   \n",
       "271   84897.0                    35000.0                            35000.00   \n",
       "386   83869.0                    35000.0                            34950.00   \n",
       "387   30718.0                    35000.0                            33500.00   \n",
       "390   38688.0                    35000.0                            23350.00   \n",
       "433   99867.0                    35000.0                            34950.00   \n",
       "512   72220.0                    35000.0                            34950.00   \n",
       "597   99541.0                    35000.0                            35000.00   \n",
       "607   40139.0                    35000.0                            35000.00   \n",
       "614   29754.0                    35000.0                            33645.15   \n",
       "631   33968.0                    35000.0                            35000.00   \n",
       "647   43017.0                    33600.0                            33600.00   \n",
       "667   48402.0                    35000.0                            35000.00   \n",
       "696   22289.0                    35000.0                            34950.00   \n",
       "715   25786.0                    35000.0                            25850.00   \n",
       "768   93780.0                    35000.0                            35000.00   \n",
       "792   71487.0                    35000.0                            35000.00   \n",
       "794   41411.0                    35000.0                            35000.00   \n",
       "901   23345.0                    35000.0                            14869.55   \n",
       "1104  52708.0                    35000.0                            35000.00   \n",
       "1127  88396.0                    35000.0                            35000.00   \n",
       "1174  85468.0                    35000.0                            35000.00   \n",
       "1344  78139.0                    35000.0                            35000.00   \n",
       "1353  35991.0                    35000.0                            34977.35   \n",
       "1373  97449.0                    35000.0                            35000.00   \n",
       "1401  27415.0                    35000.0                            32117.00   \n",
       "1517  44394.0                    35000.0                            34975.00   \n",
       "1574  30756.0                    35000.0                            34975.00   \n",
       "1578  50389.0                    35000.0                            35000.00   \n",
       "1592  84317.0                    35000.0                            35000.00   \n",
       "1622  40136.0                    35000.0                            34975.00   \n",
       "1631  76693.0                    35000.0                            35000.00   \n",
       "1653  70987.0                    35000.0                            35000.00   \n",
       "1654  97560.0                    35000.0                            35000.00   \n",
       "1663  83857.0                    35000.0                            35000.00   \n",
       "1679  69724.0                    35000.0                            34950.00   \n",
       "1721  37228.0                    33600.0                            32058.53   \n",
       "1814  41267.0                    35000.0                            34975.00   \n",
       "1915  41993.0                    35000.0                            35000.00   \n",
       "1953  89438.0                    35000.0                            35000.00   \n",
       "1989  57169.0                    35000.0                            35000.00   \n",
       "2012  88842.0                    35000.0                            35000.00   \n",
       "2025  82673.0                    35000.0                            35000.00   \n",
       "2074  88490.0                    35000.0                            35000.00   \n",
       "2107  52353.0                    35000.0                            34950.00   \n",
       "2108  71550.0                    35000.0                            35000.00   \n",
       "\n",
       "      Interest.Rate Loan duration  Family_incomeIncome  Employment.Length  \\\n",
       "25            15.58           60               5666.67               10.0   \n",
       "29             6.54           36               9583.33                3.0   \n",
       "89             6.62           36              10000.00                9.0   \n",
       "113           21.00           36               7702.00               10.0   \n",
       "173           21.98           60              11500.00                2.0   \n",
       "181           15.31           36               7500.00                1.0   \n",
       "226           17.99           60              14000.00               10.0   \n",
       "271           20.49           36              12333.33               10.0   \n",
       "386            8.90           36               9166.67                1.0   \n",
       "387           13.49           60              15583.33                6.0   \n",
       "390           11.71           60               7500.00                3.0   \n",
       "433           17.27           36               6750.00               10.0   \n",
       "512           23.28           60               8333.33               10.0   \n",
       "597           15.31           36               6666.67               10.0   \n",
       "607           12.42           60              12083.33                0.5   \n",
       "614           17.49           60              16133.33                2.0   \n",
       "631           10.65           36              18750.00                6.0   \n",
       "647           17.27           60               5416.67                8.0   \n",
       "667           14.65           36              14166.67                8.0   \n",
       "696           12.68           60               7083.33               10.0   \n",
       "715           15.23           60              10000.00               10.0   \n",
       "768           16.29           36              14166.67               10.0   \n",
       "792           24.70           60              10000.00               10.0   \n",
       "794           16.29           36              39583.33               10.0   \n",
       "901           15.65           60               6308.75               10.0   \n",
       "1104          10.74           36               8300.00               10.0   \n",
       "1127          12.12           36              13933.33                1.0   \n",
       "1174          20.49           60              18750.00                1.0   \n",
       "1344          21.98           60               9166.67                3.0   \n",
       "1353          21.67           60              20833.33                6.0   \n",
       "1373          22.47           60               9583.33               10.0   \n",
       "1401          16.89           60               5416.67                1.0   \n",
       "1517           8.90           36               8750.00                0.5   \n",
       "1574          16.49           60              10416.67                8.0   \n",
       "1578          21.97           60               7833.33                5.0   \n",
       "1592          13.11           60              20833.33                5.0   \n",
       "1622          21.28           60               7916.67               10.0   \n",
       "1631           8.90           36              10416.67               10.0   \n",
       "1653           7.90           36              12083.33               10.0   \n",
       "1654          17.27           60              10000.00                1.0   \n",
       "1663          18.49           36              11000.00               10.0   \n",
       "1679          23.76           60               7331.25                4.0   \n",
       "1721          20.30           60              20000.00                2.0   \n",
       "1814           7.90           36              18333.33                1.0   \n",
       "1915          17.58           36              13333.33               10.0   \n",
       "1953          19.72           60              13333.33                3.0   \n",
       "1989          18.25           60               8083.33               10.0   \n",
       "2012          20.49           60              10416.67                2.0   \n",
       "2025           7.90           36              12083.33               10.0   \n",
       "2074          19.05           60               9166.67                1.0   \n",
       "2107          21.97           60              14166.67                3.0   \n",
       "2108          19.05           36              13750.00               10.0   \n",
       "\n",
       "     owning a two wheeler  Debt To Income Ratio  credit_s   age  \n",
       "25                     no                  0.60     787.0  35.0  \n",
       "29                     no                  5.62     757.0  35.0  \n",
       "89                     no                 16.46     807.0  35.0  \n",
       "113                    no                 11.05     672.0  35.0  \n",
       "173                    no                 23.81     692.0  35.0  \n",
       "181                    no                 19.59     697.0  35.0  \n",
       "226                  yes                   6.39     717.0  35.0  \n",
       "271                    no                 20.82     702.0  35.0  \n",
       "386                  yes                  20.46     737.0  35.0  \n",
       "387                    no                 10.63     762.0  35.0  \n",
       "390                  yes                   8.07     747.0  35.0  \n",
       "433                    no                 22.74     677.0  35.0  \n",
       "512                  yes                  15.95     677.0  35.0  \n",
       "597                    no                 15.00     682.0  35.0  \n",
       "607                    no                 12.79     732.0  35.0  \n",
       "614                  yes                   6.01     727.0  35.0  \n",
       "631                    no                  8.96     737.0  35.0  \n",
       "647                    no                 15.08     732.0  35.0  \n",
       "667                    no                 12.20     722.0  35.0  \n",
       "696                  yes                  23.99     787.0  40.0  \n",
       "715                    no                 22.74     762.0  40.0  \n",
       "768                  yes                  19.92     662.0  40.0  \n",
       "792                  yes                   8.26     662.0  40.0  \n",
       "794                  yes                  17.17     707.0  40.0  \n",
       "901                    no                 26.19     737.0  40.0  \n",
       "1104                 yes                   9.30     742.0  40.0  \n",
       "1127                   no                 19.90     722.0  40.0  \n",
       "1174                 yes                  11.84     717.0  40.0  \n",
       "1344                 yes                  14.68     697.0  40.0  \n",
       "1353                   no                 14.25     677.0  40.0  \n",
       "1373                   no                 18.95     662.0  40.0  \n",
       "1401                   no                 16.84     747.0  40.0  \n",
       "1517                   no                 17.90     777.0  40.0  \n",
       "1574                 yes                   7.45     722.0  50.0  \n",
       "1578                 yes                  21.31     687.0  50.0  \n",
       "1592                 yes                  12.02     742.0  50.0  \n",
       "1622                 yes                  18.21     682.0  50.0  \n",
       "1631                   no                 14.62     737.0  50.0  \n",
       "1653                   no                 20.70     792.0  50.0  \n",
       "1654                 yes                  27.13     707.0  50.0  \n",
       "1663                   no                 16.33     707.0  50.0  \n",
       "1679                   no                 24.22     667.0  50.0  \n",
       "1721                   no                 13.56     697.0  50.0  \n",
       "1814                 yes                   1.59     777.0  50.0  \n",
       "1915                   no                 11.80     692.0  50.0  \n",
       "1953                   no                 22.38     692.0  50.0  \n",
       "1989                   no                 27.69     727.0  50.0  \n",
       "2012                 yes                  12.54     687.0  50.0  \n",
       "2025                   no                 20.27     772.0  50.0  \n",
       "2074                 yes                  13.40     692.0  50.0  \n",
       "2107                   no                 19.32     692.0  50.0  \n",
       "2108                 yes                  21.12     737.0  50.0  "
      ]
     },
     "execution_count": 69,
     "metadata": {},
     "output_type": "execute_result"
    }
   ],
   "source": [
    "otl= df[(df['Amount.Requested for loan']<LW) | (df['Amount.Requested for loan']>UW)]\n",
    "otl"
   ]
  },
  {
   "cell_type": "code",
   "execution_count": 70,
   "id": "51e5d494",
   "metadata": {},
   "outputs": [
    {
     "data": {
      "text/plain": [
       "(52, 11)"
      ]
     },
     "execution_count": 70,
     "metadata": {},
     "output_type": "execute_result"
    }
   ],
   "source": [
    "otl.shape"
   ]
  },
  {
   "cell_type": "code",
   "execution_count": 71,
   "id": "c347c246",
   "metadata": {},
   "outputs": [
    {
     "name": "stdout",
     "output_type": "stream",
     "text": [
      "Q1= 3448.33\n",
      "Q3= 6833.33\n",
      "IQR= 3385.0\n"
     ]
    }
   ],
   "source": [
    "### Extracting outliers from 'Amount.Requested for loan'\n",
    "Q1=df['Family_incomeIncome'].quantile(0.25)\n",
    "Q3=df['Family_incomeIncome'].quantile(0.75)\n",
    "IQR=Q3-Q1\n",
    "print('Q1=',Q1)\n",
    "print('Q3=',Q3)\n",
    "print('IQR=',IQR)"
   ]
  },
  {
   "cell_type": "code",
   "execution_count": 72,
   "id": "e7437e44",
   "metadata": {},
   "outputs": [
    {
     "name": "stdout",
     "output_type": "stream",
     "text": [
      "Upper whisker= 11910.83\n",
      "Lower whisker= -1629.17\n"
     ]
    }
   ],
   "source": [
    "UW=Q3+(1.5*IQR)\n",
    "LW=Q1-(1.5*IQR)\n",
    "\n",
    "print('Upper whisker=',UW)\n",
    "print('Lower whisker=',LW)"
   ]
  },
  {
   "cell_type": "code",
   "execution_count": 73,
   "id": "cb82557b",
   "metadata": {},
   "outputs": [
    {
     "data": {
      "text/html": [
       "<div>\n",
       "<style scoped>\n",
       "    .dataframe tbody tr th:only-of-type {\n",
       "        vertical-align: middle;\n",
       "    }\n",
       "\n",
       "    .dataframe tbody tr th {\n",
       "        vertical-align: top;\n",
       "    }\n",
       "\n",
       "    .dataframe thead th {\n",
       "        text-align: right;\n",
       "    }\n",
       "</style>\n",
       "<table border=\"1\" class=\"dataframe\">\n",
       "  <thead>\n",
       "    <tr style=\"text-align: right;\">\n",
       "      <th></th>\n",
       "      <th>cust.ID</th>\n",
       "      <th>Amount.Requested for loan</th>\n",
       "      <th>Amount.Funded.By.Investors to bank</th>\n",
       "      <th>Interest.Rate</th>\n",
       "      <th>Loan duration</th>\n",
       "      <th>Family_incomeIncome</th>\n",
       "      <th>Employment.Length</th>\n",
       "      <th>owning a two wheeler</th>\n",
       "      <th>Debt To Income Ratio</th>\n",
       "      <th>credit_s</th>\n",
       "      <th>age</th>\n",
       "    </tr>\n",
       "  </thead>\n",
       "  <tbody>\n",
       "    <tr>\n",
       "      <th>2</th>\n",
       "      <td>24590.0</td>\n",
       "      <td>13000.0</td>\n",
       "      <td>12975.000000</td>\n",
       "      <td>9.99</td>\n",
       "      <td>60</td>\n",
       "      <td>10500.00</td>\n",
       "      <td>10.0</td>\n",
       "      <td>yes</td>\n",
       "      <td>8.77</td>\n",
       "      <td>802.0</td>\n",
       "      <td>33.0</td>\n",
       "    </tr>\n",
       "    <tr>\n",
       "      <th>6</th>\n",
       "      <td>29653.0</td>\n",
       "      <td>17000.0</td>\n",
       "      <td>16975.000000</td>\n",
       "      <td>11.99</td>\n",
       "      <td>60</td>\n",
       "      <td>4666.67</td>\n",
       "      <td>10.0</td>\n",
       "      <td>yes</td>\n",
       "      <td>12.69</td>\n",
       "      <td>747.0</td>\n",
       "      <td>35.0</td>\n",
       "    </tr>\n",
       "    <tr>\n",
       "      <th>7</th>\n",
       "      <td>100440.0</td>\n",
       "      <td>18825.0</td>\n",
       "      <td>12046.245893</td>\n",
       "      <td>21.00</td>\n",
       "      <td>60</td>\n",
       "      <td>4583.33</td>\n",
       "      <td>10.0</td>\n",
       "      <td>no</td>\n",
       "      <td>19.22</td>\n",
       "      <td>682.0</td>\n",
       "      <td>40.0</td>\n",
       "    </tr>\n",
       "    <tr>\n",
       "      <th>12</th>\n",
       "      <td>75012.0</td>\n",
       "      <td>15000.0</td>\n",
       "      <td>15000.000000</td>\n",
       "      <td>12.12</td>\n",
       "      <td>36</td>\n",
       "      <td>5000.00</td>\n",
       "      <td>10.0</td>\n",
       "      <td>yes</td>\n",
       "      <td>19.16</td>\n",
       "      <td>707.0</td>\n",
       "      <td>35.0</td>\n",
       "    </tr>\n",
       "    <tr>\n",
       "      <th>13</th>\n",
       "      <td>73179.0</td>\n",
       "      <td>29175.0</td>\n",
       "      <td>29175.000000</td>\n",
       "      <td>21.00</td>\n",
       "      <td>60</td>\n",
       "      <td>12500.00</td>\n",
       "      <td>4.0</td>\n",
       "      <td>no</td>\n",
       "      <td>8.83</td>\n",
       "      <td>697.0</td>\n",
       "      <td>35.0</td>\n",
       "    </tr>\n",
       "    <tr>\n",
       "      <th>...</th>\n",
       "      <td>...</td>\n",
       "      <td>...</td>\n",
       "      <td>...</td>\n",
       "      <td>...</td>\n",
       "      <td>...</td>\n",
       "      <td>...</td>\n",
       "      <td>...</td>\n",
       "      <td>...</td>\n",
       "      <td>...</td>\n",
       "      <td>...</td>\n",
       "      <td>...</td>\n",
       "    </tr>\n",
       "    <tr>\n",
       "      <th>2177</th>\n",
       "      <td>29595.0</td>\n",
       "      <td>30000.0</td>\n",
       "      <td>30000.000000</td>\n",
       "      <td>20.25</td>\n",
       "      <td>60</td>\n",
       "      <td>12500.00</td>\n",
       "      <td>5.0</td>\n",
       "      <td>no</td>\n",
       "      <td>10.46</td>\n",
       "      <td>697.0</td>\n",
       "      <td>50.0</td>\n",
       "    </tr>\n",
       "    <tr>\n",
       "      <th>2178</th>\n",
       "      <td>19133.0</td>\n",
       "      <td>12000.0</td>\n",
       "      <td>12000.000000</td>\n",
       "      <td>7.29</td>\n",
       "      <td>36</td>\n",
       "      <td>6250.00</td>\n",
       "      <td>2.0</td>\n",
       "      <td>yes</td>\n",
       "      <td>27.15</td>\n",
       "      <td>742.0</td>\n",
       "      <td>50.0</td>\n",
       "    </tr>\n",
       "    <tr>\n",
       "      <th>2182</th>\n",
       "      <td>84805.0</td>\n",
       "      <td>13225.0</td>\n",
       "      <td>13225.000000</td>\n",
       "      <td>15.31</td>\n",
       "      <td>36</td>\n",
       "      <td>5833.33</td>\n",
       "      <td>10.0</td>\n",
       "      <td>yes</td>\n",
       "      <td>27.07</td>\n",
       "      <td>682.0</td>\n",
       "      <td>50.0</td>\n",
       "    </tr>\n",
       "    <tr>\n",
       "      <th>2184</th>\n",
       "      <td>3209.0</td>\n",
       "      <td>12000.0</td>\n",
       "      <td>11725.000000</td>\n",
       "      <td>9.63</td>\n",
       "      <td>36</td>\n",
       "      <td>3000.00</td>\n",
       "      <td>0.5</td>\n",
       "      <td>yes</td>\n",
       "      <td>15.00</td>\n",
       "      <td>752.0</td>\n",
       "      <td>50.0</td>\n",
       "    </tr>\n",
       "    <tr>\n",
       "      <th>2185</th>\n",
       "      <td>42828.0</td>\n",
       "      <td>16000.0</td>\n",
       "      <td>16000.000000</td>\n",
       "      <td>8.90</td>\n",
       "      <td>36</td>\n",
       "      <td>5750.00</td>\n",
       "      <td>6.0</td>\n",
       "      <td>no</td>\n",
       "      <td>14.85</td>\n",
       "      <td>727.0</td>\n",
       "      <td>50.0</td>\n",
       "    </tr>\n",
       "  </tbody>\n",
       "</table>\n",
       "<p>1013 rows × 11 columns</p>\n",
       "</div>"
      ],
      "text/plain": [
       "       cust.ID  Amount.Requested for loan  Amount.Funded.By.Investors to bank  \\\n",
       "2      24590.0                    13000.0                        12975.000000   \n",
       "6      29653.0                    17000.0                        16975.000000   \n",
       "7     100440.0                    18825.0                        12046.245893   \n",
       "12     75012.0                    15000.0                        15000.000000   \n",
       "13     73179.0                    29175.0                        29175.000000   \n",
       "...        ...                        ...                                 ...   \n",
       "2177   29595.0                    30000.0                        30000.000000   \n",
       "2178   19133.0                    12000.0                        12000.000000   \n",
       "2182   84805.0                    13225.0                        13225.000000   \n",
       "2184    3209.0                    12000.0                        11725.000000   \n",
       "2185   42828.0                    16000.0                        16000.000000   \n",
       "\n",
       "      Interest.Rate Loan duration  Family_incomeIncome  Employment.Length  \\\n",
       "2              9.99           60              10500.00               10.0   \n",
       "6             11.99           60               4666.67               10.0   \n",
       "7             21.00           60               4583.33               10.0   \n",
       "12            12.12           36               5000.00               10.0   \n",
       "13            21.00           60              12500.00                4.0   \n",
       "...             ...           ...                  ...                ...   \n",
       "2177          20.25           60              12500.00                5.0   \n",
       "2178           7.29           36               6250.00                2.0   \n",
       "2182          15.31           36               5833.33               10.0   \n",
       "2184           9.63           36               3000.00                0.5   \n",
       "2185           8.90           36               5750.00                6.0   \n",
       "\n",
       "     owning a two wheeler  Debt To Income Ratio  credit_s   age  \n",
       "2                    yes                   8.77     802.0  33.0  \n",
       "6                    yes                  12.69     747.0  35.0  \n",
       "7                      no                 19.22     682.0  40.0  \n",
       "12                   yes                  19.16     707.0  35.0  \n",
       "13                     no                  8.83     697.0  35.0  \n",
       "...                   ...                   ...       ...   ...  \n",
       "2177                   no                 10.46     697.0  50.0  \n",
       "2178                 yes                  27.15     742.0  50.0  \n",
       "2182                 yes                  27.07     682.0  50.0  \n",
       "2184                 yes                  15.00     752.0  50.0  \n",
       "2185                   no                 14.85     727.0  50.0  \n",
       "\n",
       "[1013 rows x 11 columns]"
      ]
     },
     "execution_count": 73,
     "metadata": {},
     "output_type": "execute_result"
    }
   ],
   "source": [
    "otl= df[(df['Amount.Requested for loan']<LW) | (df['Amount.Requested for loan']>UW)]\n",
    "otl"
   ]
  },
  {
   "cell_type": "markdown",
   "id": "5b8a5e77",
   "metadata": {},
   "source": [
    "Since we only have 2000 rows thus, if we try to remove outliers from our data we will have to drop almost 50% of good values of data and imputing them will create bias in our data so we'll leave it as it is for now."
   ]
  },
  {
   "cell_type": "markdown",
   "id": "26c95dba",
   "metadata": {},
   "source": [
    "### One-hot encoding\n",
    "One hot encoding is a technique that we use to represent categorical variables as numerical values in a machine learning model. The advantages of using one hot encoding include: It allows the use of categorical variables in models that require numerical input, which would otherwise be difficult to include due to their non numeric nature"
   ]
  },
  {
   "cell_type": "code",
   "execution_count": 403,
   "id": "72c3f124",
   "metadata": {},
   "outputs": [],
   "source": [
    "cat=df.select_dtypes(include='O')"
   ]
  },
  {
   "cell_type": "code",
   "execution_count": 404,
   "id": "f449329b",
   "metadata": {},
   "outputs": [
    {
     "data": {
      "text/html": [
       "<div>\n",
       "<style scoped>\n",
       "    .dataframe tbody tr th:only-of-type {\n",
       "        vertical-align: middle;\n",
       "    }\n",
       "\n",
       "    .dataframe tbody tr th {\n",
       "        vertical-align: top;\n",
       "    }\n",
       "\n",
       "    .dataframe thead th {\n",
       "        text-align: right;\n",
       "    }\n",
       "</style>\n",
       "<table border=\"1\" class=\"dataframe\">\n",
       "  <thead>\n",
       "    <tr style=\"text-align: right;\">\n",
       "      <th></th>\n",
       "      <th>Loan duration</th>\n",
       "      <th>owning a two wheeler</th>\n",
       "    </tr>\n",
       "  </thead>\n",
       "  <tbody>\n",
       "    <tr>\n",
       "      <th>0</th>\n",
       "      <td>36</td>\n",
       "      <td>yes</td>\n",
       "    </tr>\n",
       "    <tr>\n",
       "      <th>1</th>\n",
       "      <td>36</td>\n",
       "      <td>no</td>\n",
       "    </tr>\n",
       "    <tr>\n",
       "      <th>2</th>\n",
       "      <td>60</td>\n",
       "      <td>yes</td>\n",
       "    </tr>\n",
       "    <tr>\n",
       "      <th>3</th>\n",
       "      <td>36</td>\n",
       "      <td>no</td>\n",
       "    </tr>\n",
       "    <tr>\n",
       "      <th>4</th>\n",
       "      <td>36</td>\n",
       "      <td>yes</td>\n",
       "    </tr>\n",
       "    <tr>\n",
       "      <th>...</th>\n",
       "      <td>...</td>\n",
       "      <td>...</td>\n",
       "    </tr>\n",
       "    <tr>\n",
       "      <th>2181</th>\n",
       "      <td>36</td>\n",
       "      <td>no</td>\n",
       "    </tr>\n",
       "    <tr>\n",
       "      <th>2182</th>\n",
       "      <td>36</td>\n",
       "      <td>yes</td>\n",
       "    </tr>\n",
       "    <tr>\n",
       "      <th>2183</th>\n",
       "      <td>36</td>\n",
       "      <td>no</td>\n",
       "    </tr>\n",
       "    <tr>\n",
       "      <th>2184</th>\n",
       "      <td>36</td>\n",
       "      <td>yes</td>\n",
       "    </tr>\n",
       "    <tr>\n",
       "      <th>2185</th>\n",
       "      <td>36</td>\n",
       "      <td>no</td>\n",
       "    </tr>\n",
       "  </tbody>\n",
       "</table>\n",
       "<p>2185 rows × 2 columns</p>\n",
       "</div>"
      ],
      "text/plain": [
       "     Loan duration owning a two wheeler\n",
       "0              36                  yes \n",
       "1              36                    no\n",
       "2              60                  yes \n",
       "3              36                    no\n",
       "4              36                  yes \n",
       "...            ...                  ...\n",
       "2181           36                    no\n",
       "2182           36                  yes \n",
       "2183           36                    no\n",
       "2184           36                  yes \n",
       "2185           36                    no\n",
       "\n",
       "[2185 rows x 2 columns]"
      ]
     },
     "execution_count": 404,
     "metadata": {},
     "output_type": "execute_result"
    }
   ],
   "source": [
    "cat"
   ]
  },
  {
   "cell_type": "code",
   "execution_count": 405,
   "id": "36d48215",
   "metadata": {},
   "outputs": [
    {
     "data": {
      "application/javascript": [
       "\n",
       "        if (window._pyforest_update_imports_cell) { window._pyforest_update_imports_cell('import seaborn as sns\\nimport numpy as np\\nimport pandas as pd\\nimport matplotlib.pyplot as plt'); }\n",
       "    "
      ],
      "text/plain": [
       "<IPython.core.display.Javascript object>"
      ]
     },
     "metadata": {},
     "output_type": "display_data"
    }
   ],
   "source": [
    "cat=pd.get_dummies(data=cat,drop_first=True).astype(int)"
   ]
  },
  {
   "cell_type": "code",
   "execution_count": 406,
   "id": "5424006d",
   "metadata": {},
   "outputs": [
    {
     "data": {
      "text/html": [
       "<div>\n",
       "<style scoped>\n",
       "    .dataframe tbody tr th:only-of-type {\n",
       "        vertical-align: middle;\n",
       "    }\n",
       "\n",
       "    .dataframe tbody tr th {\n",
       "        vertical-align: top;\n",
       "    }\n",
       "\n",
       "    .dataframe thead th {\n",
       "        text-align: right;\n",
       "    }\n",
       "</style>\n",
       "<table border=\"1\" class=\"dataframe\">\n",
       "  <thead>\n",
       "    <tr style=\"text-align: right;\">\n",
       "      <th></th>\n",
       "      <th>Loan duration_60</th>\n",
       "      <th>owning a two wheeler_yes</th>\n",
       "    </tr>\n",
       "  </thead>\n",
       "  <tbody>\n",
       "    <tr>\n",
       "      <th>0</th>\n",
       "      <td>0</td>\n",
       "      <td>1</td>\n",
       "    </tr>\n",
       "    <tr>\n",
       "      <th>1</th>\n",
       "      <td>0</td>\n",
       "      <td>0</td>\n",
       "    </tr>\n",
       "    <tr>\n",
       "      <th>2</th>\n",
       "      <td>1</td>\n",
       "      <td>1</td>\n",
       "    </tr>\n",
       "    <tr>\n",
       "      <th>3</th>\n",
       "      <td>0</td>\n",
       "      <td>0</td>\n",
       "    </tr>\n",
       "    <tr>\n",
       "      <th>4</th>\n",
       "      <td>0</td>\n",
       "      <td>1</td>\n",
       "    </tr>\n",
       "    <tr>\n",
       "      <th>...</th>\n",
       "      <td>...</td>\n",
       "      <td>...</td>\n",
       "    </tr>\n",
       "    <tr>\n",
       "      <th>2181</th>\n",
       "      <td>0</td>\n",
       "      <td>0</td>\n",
       "    </tr>\n",
       "    <tr>\n",
       "      <th>2182</th>\n",
       "      <td>0</td>\n",
       "      <td>1</td>\n",
       "    </tr>\n",
       "    <tr>\n",
       "      <th>2183</th>\n",
       "      <td>0</td>\n",
       "      <td>0</td>\n",
       "    </tr>\n",
       "    <tr>\n",
       "      <th>2184</th>\n",
       "      <td>0</td>\n",
       "      <td>1</td>\n",
       "    </tr>\n",
       "    <tr>\n",
       "      <th>2185</th>\n",
       "      <td>0</td>\n",
       "      <td>0</td>\n",
       "    </tr>\n",
       "  </tbody>\n",
       "</table>\n",
       "<p>2185 rows × 2 columns</p>\n",
       "</div>"
      ],
      "text/plain": [
       "      Loan duration_60   owning a two wheeler_yes \n",
       "0                     0                          1\n",
       "1                     0                          0\n",
       "2                     1                          1\n",
       "3                     0                          0\n",
       "4                     0                          1\n",
       "...                 ...                        ...\n",
       "2181                  0                          0\n",
       "2182                  0                          1\n",
       "2183                  0                          0\n",
       "2184                  0                          1\n",
       "2185                  0                          0\n",
       "\n",
       "[2185 rows x 2 columns]"
      ]
     },
     "execution_count": 406,
     "metadata": {},
     "output_type": "execute_result"
    }
   ],
   "source": [
    "cat"
   ]
  },
  {
   "cell_type": "code",
   "execution_count": 407,
   "id": "d891311c",
   "metadata": {},
   "outputs": [
    {
     "data": {
      "text/html": [
       "<div>\n",
       "<style scoped>\n",
       "    .dataframe tbody tr th:only-of-type {\n",
       "        vertical-align: middle;\n",
       "    }\n",
       "\n",
       "    .dataframe tbody tr th {\n",
       "        vertical-align: top;\n",
       "    }\n",
       "\n",
       "    .dataframe thead th {\n",
       "        text-align: right;\n",
       "    }\n",
       "</style>\n",
       "<table border=\"1\" class=\"dataframe\">\n",
       "  <thead>\n",
       "    <tr style=\"text-align: right;\">\n",
       "      <th></th>\n",
       "      <th>cust.ID</th>\n",
       "      <th>Amount.Requested for loan</th>\n",
       "      <th>Amount.Funded.By.Investors to bank</th>\n",
       "      <th>Interest.Rate</th>\n",
       "      <th>Family_incomeIncome</th>\n",
       "      <th>Employment.Length</th>\n",
       "      <th>Debt To Income Ratio</th>\n",
       "      <th>credit_s</th>\n",
       "      <th>age</th>\n",
       "    </tr>\n",
       "  </thead>\n",
       "  <tbody>\n",
       "    <tr>\n",
       "      <th>0</th>\n",
       "      <td>84563.0</td>\n",
       "      <td>8000.0</td>\n",
       "      <td>8000.0</td>\n",
       "      <td>7.62</td>\n",
       "      <td>3500.00</td>\n",
       "      <td>10.0</td>\n",
       "      <td>0.00</td>\n",
       "      <td>767.0</td>\n",
       "      <td>32.0</td>\n",
       "    </tr>\n",
       "    <tr>\n",
       "      <th>1</th>\n",
       "      <td>78765.0</td>\n",
       "      <td>9000.0</td>\n",
       "      <td>9000.0</td>\n",
       "      <td>10.16</td>\n",
       "      <td>5166.67</td>\n",
       "      <td>10.0</td>\n",
       "      <td>13.76</td>\n",
       "      <td>712.0</td>\n",
       "      <td>32.5</td>\n",
       "    </tr>\n",
       "    <tr>\n",
       "      <th>2</th>\n",
       "      <td>24590.0</td>\n",
       "      <td>13000.0</td>\n",
       "      <td>12975.0</td>\n",
       "      <td>9.99</td>\n",
       "      <td>10500.00</td>\n",
       "      <td>10.0</td>\n",
       "      <td>8.77</td>\n",
       "      <td>802.0</td>\n",
       "      <td>33.0</td>\n",
       "    </tr>\n",
       "    <tr>\n",
       "      <th>3</th>\n",
       "      <td>9061.0</td>\n",
       "      <td>10000.0</td>\n",
       "      <td>10000.0</td>\n",
       "      <td>14.22</td>\n",
       "      <td>2541.67</td>\n",
       "      <td>8.0</td>\n",
       "      <td>12.24</td>\n",
       "      <td>682.0</td>\n",
       "      <td>33.5</td>\n",
       "    </tr>\n",
       "    <tr>\n",
       "      <th>4</th>\n",
       "      <td>47011.0</td>\n",
       "      <td>3600.0</td>\n",
       "      <td>3600.0</td>\n",
       "      <td>13.67</td>\n",
       "      <td>5113.00</td>\n",
       "      <td>10.0</td>\n",
       "      <td>16.41</td>\n",
       "      <td>692.0</td>\n",
       "      <td>34.0</td>\n",
       "    </tr>\n",
       "    <tr>\n",
       "      <th>...</th>\n",
       "      <td>...</td>\n",
       "      <td>...</td>\n",
       "      <td>...</td>\n",
       "      <td>...</td>\n",
       "      <td>...</td>\n",
       "      <td>...</td>\n",
       "      <td>...</td>\n",
       "      <td>...</td>\n",
       "      <td>...</td>\n",
       "    </tr>\n",
       "    <tr>\n",
       "      <th>2181</th>\n",
       "      <td>101795.0</td>\n",
       "      <td>10000.0</td>\n",
       "      <td>550.0</td>\n",
       "      <td>10.59</td>\n",
       "      <td>2083.33</td>\n",
       "      <td>0.5</td>\n",
       "      <td>10.22</td>\n",
       "      <td>687.0</td>\n",
       "      <td>50.0</td>\n",
       "    </tr>\n",
       "    <tr>\n",
       "      <th>2182</th>\n",
       "      <td>84805.0</td>\n",
       "      <td>13225.0</td>\n",
       "      <td>13225.0</td>\n",
       "      <td>15.31</td>\n",
       "      <td>5833.33</td>\n",
       "      <td>10.0</td>\n",
       "      <td>27.07</td>\n",
       "      <td>682.0</td>\n",
       "      <td>50.0</td>\n",
       "    </tr>\n",
       "    <tr>\n",
       "      <th>2183</th>\n",
       "      <td>101548.0</td>\n",
       "      <td>10000.0</td>\n",
       "      <td>525.0</td>\n",
       "      <td>14.70</td>\n",
       "      <td>5416.67</td>\n",
       "      <td>0.5</td>\n",
       "      <td>6.37</td>\n",
       "      <td>647.0</td>\n",
       "      <td>50.0</td>\n",
       "    </tr>\n",
       "    <tr>\n",
       "      <th>2184</th>\n",
       "      <td>3209.0</td>\n",
       "      <td>12000.0</td>\n",
       "      <td>11725.0</td>\n",
       "      <td>9.63</td>\n",
       "      <td>3000.00</td>\n",
       "      <td>0.5</td>\n",
       "      <td>15.00</td>\n",
       "      <td>752.0</td>\n",
       "      <td>50.0</td>\n",
       "    </tr>\n",
       "    <tr>\n",
       "      <th>2185</th>\n",
       "      <td>42828.0</td>\n",
       "      <td>16000.0</td>\n",
       "      <td>16000.0</td>\n",
       "      <td>8.90</td>\n",
       "      <td>5750.00</td>\n",
       "      <td>6.0</td>\n",
       "      <td>14.85</td>\n",
       "      <td>727.0</td>\n",
       "      <td>50.0</td>\n",
       "    </tr>\n",
       "  </tbody>\n",
       "</table>\n",
       "<p>2185 rows × 9 columns</p>\n",
       "</div>"
      ],
      "text/plain": [
       "       cust.ID  Amount.Requested for loan  Amount.Funded.By.Investors to bank  \\\n",
       "0      84563.0                     8000.0                              8000.0   \n",
       "1      78765.0                     9000.0                              9000.0   \n",
       "2      24590.0                    13000.0                             12975.0   \n",
       "3       9061.0                    10000.0                             10000.0   \n",
       "4      47011.0                     3600.0                              3600.0   \n",
       "...        ...                        ...                                 ...   \n",
       "2181  101795.0                    10000.0                               550.0   \n",
       "2182   84805.0                    13225.0                             13225.0   \n",
       "2183  101548.0                    10000.0                               525.0   \n",
       "2184    3209.0                    12000.0                             11725.0   \n",
       "2185   42828.0                    16000.0                             16000.0   \n",
       "\n",
       "      Interest.Rate  Family_incomeIncome  Employment.Length  \\\n",
       "0              7.62              3500.00               10.0   \n",
       "1             10.16              5166.67               10.0   \n",
       "2              9.99             10500.00               10.0   \n",
       "3             14.22              2541.67                8.0   \n",
       "4             13.67              5113.00               10.0   \n",
       "...             ...                  ...                ...   \n",
       "2181          10.59              2083.33                0.5   \n",
       "2182          15.31              5833.33               10.0   \n",
       "2183          14.70              5416.67                0.5   \n",
       "2184           9.63              3000.00                0.5   \n",
       "2185           8.90              5750.00                6.0   \n",
       "\n",
       "      Debt To Income Ratio  credit_s   age  \n",
       "0                     0.00     767.0  32.0  \n",
       "1                    13.76     712.0  32.5  \n",
       "2                     8.77     802.0  33.0  \n",
       "3                    12.24     682.0  33.5  \n",
       "4                    16.41     692.0  34.0  \n",
       "...                    ...       ...   ...  \n",
       "2181                 10.22     687.0  50.0  \n",
       "2182                 27.07     682.0  50.0  \n",
       "2183                  6.37     647.0  50.0  \n",
       "2184                 15.00     752.0  50.0  \n",
       "2185                 14.85     727.0  50.0  \n",
       "\n",
       "[2185 rows x 9 columns]"
      ]
     },
     "execution_count": 407,
     "metadata": {},
     "output_type": "execute_result"
    }
   ],
   "source": [
    "df.drop(['owning a two wheeler','Loan duration'],axis=1,inplace=True)\n",
    "df"
   ]
  },
  {
   "cell_type": "code",
   "execution_count": 408,
   "id": "ded252b7",
   "metadata": {},
   "outputs": [
    {
     "data": {
      "application/javascript": [
       "\n",
       "        if (window._pyforest_update_imports_cell) { window._pyforest_update_imports_cell('import seaborn as sns\\nimport numpy as np\\nimport pandas as pd\\nimport matplotlib.pyplot as plt'); }\n",
       "    "
      ],
      "text/plain": [
       "<IPython.core.display.Javascript object>"
      ]
     },
     "metadata": {},
     "output_type": "display_data"
    }
   ],
   "source": [
    "df=pd.concat([df,cat],axis=1)"
   ]
  },
  {
   "cell_type": "code",
   "execution_count": 409,
   "id": "b8229dae",
   "metadata": {},
   "outputs": [
    {
     "data": {
      "text/html": [
       "<div>\n",
       "<style scoped>\n",
       "    .dataframe tbody tr th:only-of-type {\n",
       "        vertical-align: middle;\n",
       "    }\n",
       "\n",
       "    .dataframe tbody tr th {\n",
       "        vertical-align: top;\n",
       "    }\n",
       "\n",
       "    .dataframe thead th {\n",
       "        text-align: right;\n",
       "    }\n",
       "</style>\n",
       "<table border=\"1\" class=\"dataframe\">\n",
       "  <thead>\n",
       "    <tr style=\"text-align: right;\">\n",
       "      <th></th>\n",
       "      <th>cust.ID</th>\n",
       "      <th>Amount.Requested for loan</th>\n",
       "      <th>Amount.Funded.By.Investors to bank</th>\n",
       "      <th>Interest.Rate</th>\n",
       "      <th>Family_incomeIncome</th>\n",
       "      <th>Employment.Length</th>\n",
       "      <th>Debt To Income Ratio</th>\n",
       "      <th>credit_s</th>\n",
       "      <th>age</th>\n",
       "      <th>Loan duration_60</th>\n",
       "      <th>owning a two wheeler_yes</th>\n",
       "    </tr>\n",
       "  </thead>\n",
       "  <tbody>\n",
       "    <tr>\n",
       "      <th>0</th>\n",
       "      <td>84563.0</td>\n",
       "      <td>8000.0</td>\n",
       "      <td>8000.0</td>\n",
       "      <td>7.62</td>\n",
       "      <td>3500.00</td>\n",
       "      <td>10.0</td>\n",
       "      <td>0.00</td>\n",
       "      <td>767.0</td>\n",
       "      <td>32.0</td>\n",
       "      <td>0</td>\n",
       "      <td>1</td>\n",
       "    </tr>\n",
       "    <tr>\n",
       "      <th>1</th>\n",
       "      <td>78765.0</td>\n",
       "      <td>9000.0</td>\n",
       "      <td>9000.0</td>\n",
       "      <td>10.16</td>\n",
       "      <td>5166.67</td>\n",
       "      <td>10.0</td>\n",
       "      <td>13.76</td>\n",
       "      <td>712.0</td>\n",
       "      <td>32.5</td>\n",
       "      <td>0</td>\n",
       "      <td>0</td>\n",
       "    </tr>\n",
       "    <tr>\n",
       "      <th>2</th>\n",
       "      <td>24590.0</td>\n",
       "      <td>13000.0</td>\n",
       "      <td>12975.0</td>\n",
       "      <td>9.99</td>\n",
       "      <td>10500.00</td>\n",
       "      <td>10.0</td>\n",
       "      <td>8.77</td>\n",
       "      <td>802.0</td>\n",
       "      <td>33.0</td>\n",
       "      <td>1</td>\n",
       "      <td>1</td>\n",
       "    </tr>\n",
       "    <tr>\n",
       "      <th>3</th>\n",
       "      <td>9061.0</td>\n",
       "      <td>10000.0</td>\n",
       "      <td>10000.0</td>\n",
       "      <td>14.22</td>\n",
       "      <td>2541.67</td>\n",
       "      <td>8.0</td>\n",
       "      <td>12.24</td>\n",
       "      <td>682.0</td>\n",
       "      <td>33.5</td>\n",
       "      <td>0</td>\n",
       "      <td>0</td>\n",
       "    </tr>\n",
       "    <tr>\n",
       "      <th>4</th>\n",
       "      <td>47011.0</td>\n",
       "      <td>3600.0</td>\n",
       "      <td>3600.0</td>\n",
       "      <td>13.67</td>\n",
       "      <td>5113.00</td>\n",
       "      <td>10.0</td>\n",
       "      <td>16.41</td>\n",
       "      <td>692.0</td>\n",
       "      <td>34.0</td>\n",
       "      <td>0</td>\n",
       "      <td>1</td>\n",
       "    </tr>\n",
       "    <tr>\n",
       "      <th>...</th>\n",
       "      <td>...</td>\n",
       "      <td>...</td>\n",
       "      <td>...</td>\n",
       "      <td>...</td>\n",
       "      <td>...</td>\n",
       "      <td>...</td>\n",
       "      <td>...</td>\n",
       "      <td>...</td>\n",
       "      <td>...</td>\n",
       "      <td>...</td>\n",
       "      <td>...</td>\n",
       "    </tr>\n",
       "    <tr>\n",
       "      <th>2181</th>\n",
       "      <td>101795.0</td>\n",
       "      <td>10000.0</td>\n",
       "      <td>550.0</td>\n",
       "      <td>10.59</td>\n",
       "      <td>2083.33</td>\n",
       "      <td>0.5</td>\n",
       "      <td>10.22</td>\n",
       "      <td>687.0</td>\n",
       "      <td>50.0</td>\n",
       "      <td>0</td>\n",
       "      <td>0</td>\n",
       "    </tr>\n",
       "    <tr>\n",
       "      <th>2182</th>\n",
       "      <td>84805.0</td>\n",
       "      <td>13225.0</td>\n",
       "      <td>13225.0</td>\n",
       "      <td>15.31</td>\n",
       "      <td>5833.33</td>\n",
       "      <td>10.0</td>\n",
       "      <td>27.07</td>\n",
       "      <td>682.0</td>\n",
       "      <td>50.0</td>\n",
       "      <td>0</td>\n",
       "      <td>1</td>\n",
       "    </tr>\n",
       "    <tr>\n",
       "      <th>2183</th>\n",
       "      <td>101548.0</td>\n",
       "      <td>10000.0</td>\n",
       "      <td>525.0</td>\n",
       "      <td>14.70</td>\n",
       "      <td>5416.67</td>\n",
       "      <td>0.5</td>\n",
       "      <td>6.37</td>\n",
       "      <td>647.0</td>\n",
       "      <td>50.0</td>\n",
       "      <td>0</td>\n",
       "      <td>0</td>\n",
       "    </tr>\n",
       "    <tr>\n",
       "      <th>2184</th>\n",
       "      <td>3209.0</td>\n",
       "      <td>12000.0</td>\n",
       "      <td>11725.0</td>\n",
       "      <td>9.63</td>\n",
       "      <td>3000.00</td>\n",
       "      <td>0.5</td>\n",
       "      <td>15.00</td>\n",
       "      <td>752.0</td>\n",
       "      <td>50.0</td>\n",
       "      <td>0</td>\n",
       "      <td>1</td>\n",
       "    </tr>\n",
       "    <tr>\n",
       "      <th>2185</th>\n",
       "      <td>42828.0</td>\n",
       "      <td>16000.0</td>\n",
       "      <td>16000.0</td>\n",
       "      <td>8.90</td>\n",
       "      <td>5750.00</td>\n",
       "      <td>6.0</td>\n",
       "      <td>14.85</td>\n",
       "      <td>727.0</td>\n",
       "      <td>50.0</td>\n",
       "      <td>0</td>\n",
       "      <td>0</td>\n",
       "    </tr>\n",
       "  </tbody>\n",
       "</table>\n",
       "<p>2185 rows × 11 columns</p>\n",
       "</div>"
      ],
      "text/plain": [
       "       cust.ID  Amount.Requested for loan  Amount.Funded.By.Investors to bank  \\\n",
       "0      84563.0                     8000.0                              8000.0   \n",
       "1      78765.0                     9000.0                              9000.0   \n",
       "2      24590.0                    13000.0                             12975.0   \n",
       "3       9061.0                    10000.0                             10000.0   \n",
       "4      47011.0                     3600.0                              3600.0   \n",
       "...        ...                        ...                                 ...   \n",
       "2181  101795.0                    10000.0                               550.0   \n",
       "2182   84805.0                    13225.0                             13225.0   \n",
       "2183  101548.0                    10000.0                               525.0   \n",
       "2184    3209.0                    12000.0                             11725.0   \n",
       "2185   42828.0                    16000.0                             16000.0   \n",
       "\n",
       "      Interest.Rate  Family_incomeIncome  Employment.Length  \\\n",
       "0              7.62              3500.00               10.0   \n",
       "1             10.16              5166.67               10.0   \n",
       "2              9.99             10500.00               10.0   \n",
       "3             14.22              2541.67                8.0   \n",
       "4             13.67              5113.00               10.0   \n",
       "...             ...                  ...                ...   \n",
       "2181          10.59              2083.33                0.5   \n",
       "2182          15.31              5833.33               10.0   \n",
       "2183          14.70              5416.67                0.5   \n",
       "2184           9.63              3000.00                0.5   \n",
       "2185           8.90              5750.00                6.0   \n",
       "\n",
       "      Debt To Income Ratio  credit_s   age  Loan duration_60   \\\n",
       "0                     0.00     767.0  32.0                  0   \n",
       "1                    13.76     712.0  32.5                  0   \n",
       "2                     8.77     802.0  33.0                  1   \n",
       "3                    12.24     682.0  33.5                  0   \n",
       "4                    16.41     692.0  34.0                  0   \n",
       "...                    ...       ...   ...                ...   \n",
       "2181                 10.22     687.0  50.0                  0   \n",
       "2182                 27.07     682.0  50.0                  0   \n",
       "2183                  6.37     647.0  50.0                  0   \n",
       "2184                 15.00     752.0  50.0                  0   \n",
       "2185                 14.85     727.0  50.0                  0   \n",
       "\n",
       "      owning a two wheeler_yes   \n",
       "0                             1  \n",
       "1                             0  \n",
       "2                             1  \n",
       "3                             0  \n",
       "4                             1  \n",
       "...                         ...  \n",
       "2181                          0  \n",
       "2182                          1  \n",
       "2183                          0  \n",
       "2184                          1  \n",
       "2185                          0  \n",
       "\n",
       "[2185 rows x 11 columns]"
      ]
     },
     "execution_count": 409,
     "metadata": {},
     "output_type": "execute_result"
    }
   ],
   "source": [
    "df"
   ]
  },
  {
   "cell_type": "code",
   "execution_count": null,
   "id": "6b2eb1d4",
   "metadata": {},
   "outputs": [],
   "source": []
  }
 ],
 "metadata": {
  "kernelspec": {
   "display_name": "Python 3 (ipykernel)",
   "language": "python",
   "name": "python3"
  },
  "language_info": {
   "codemirror_mode": {
    "name": "ipython",
    "version": 3
   },
   "file_extension": ".py",
   "mimetype": "text/x-python",
   "name": "python",
   "nbconvert_exporter": "python",
   "pygments_lexer": "ipython3",
   "version": "3.10.9"
  }
 },
 "nbformat": 4,
 "nbformat_minor": 5
}
