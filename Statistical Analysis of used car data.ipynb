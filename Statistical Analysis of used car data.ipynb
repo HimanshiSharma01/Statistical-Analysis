{
 "cells": [
  {
   "cell_type": "markdown",
   "id": "a1299a5b",
   "metadata": {},
   "source": [
    "### A Comprehensive Statistical Analysis of Used Car Data\n",
    "**The objective of this statistical analysis is to demonstrate the importance of using**\n",
    "\n",
    "- Descriptive statistics, Probability and Inferential statistics.\n",
    "- Explore the dataset and answer various research questions to draw meaningful conclusions from data and make informed decisions using Python.\n",
    "\n",
    "The findings of this analysis can yield valuable insights into the determinants that inform a pricing model capable of accurately forecasting the value of pre-owned vehicles. Such insights can be leveraged by businesses to formulate profitable strategies that leverage differential pricing methodologies.\n"
   ]
  },
  {
   "cell_type": "markdown",
   "id": "2425b3a4",
   "metadata": {},
   "source": [
    "The dataset contains 7906 rows, and 16 columns, representing various attributes of each car as follows:\n",
    "\n",
    "1. Sales_ID: Serial Number of \n",
    "2. Name: Name of the car which includes Brand name and Model name.\n",
    "3. Year: Manufacturing year of the car.\n",
    "4. Price: The price of the used car in INR Lakhs (1 Lakh = 100,000).\n",
    "5. Kilometers_driven: The total kilometers driven in the car by the previous owner(s) in KM.\n",
    "6. Fuel_Type: The type of fuel used by the car. (Petrol, Diesel, Electric, CNG, LPG).\n",
    "7. Seller_type: The type of seller who is selling the car (Individual or a Dealer).\n",
    "8. Transmission: The type of transmission used by the car. (Automatic / Manual).\n",
    "9. Owner: Type of ownership.\n",
    "10. Mileage: The standard mileage offered by the car company in kmpl or km/kg.\n",
    "11. Engine: The displacement volume of the engine in CC.\n",
    "12. Max_power: The maximum power of the engine in bhp.\n",
    "13. Seats: The number of seats in the car.\n",
    "14. City: The location in which the car is being sold or is available for purchase (Cities).\n",
    "15. Postal_code: The postal code in which the car is being sold or is available for purchase.\n",
    "16. Sales_status: Status of used car sold or not (Y or N)"
   ]
  },
  {
   "cell_type": "code",
   "execution_count": 1,
   "id": "4da4b404",
   "metadata": {},
   "outputs": [],
   "source": [
    "import pyforest\n",
    "import scipy.stats as st\n",
    "import warnings\n",
    "warnings.filterwarnings('ignore')\n",
    "\n",
    "from scipy.stats import chi2_contingency"
   ]
  },
  {
   "cell_type": "code",
   "execution_count": 2,
   "id": "3ccef734",
   "metadata": {},
   "outputs": [
    {
     "data": {
      "application/javascript": [
       "\n",
       "        if (window._pyforest_update_imports_cell) { window._pyforest_update_imports_cell('import pandas as pd'); }\n",
       "    "
      ],
      "text/plain": [
       "<IPython.core.display.Javascript object>"
      ]
     },
     "metadata": {},
     "output_type": "display_data"
    }
   ],
   "source": [
    "data=pd.read_csv('cars_dataset.csv')"
   ]
  },
  {
   "cell_type": "code",
   "execution_count": 6,
   "id": "f7680688",
   "metadata": {},
   "outputs": [
    {
     "data": {
      "text/html": [
       "<div>\n",
       "<style scoped>\n",
       "    .dataframe tbody tr th:only-of-type {\n",
       "        vertical-align: middle;\n",
       "    }\n",
       "\n",
       "    .dataframe tbody tr th {\n",
       "        vertical-align: top;\n",
       "    }\n",
       "\n",
       "    .dataframe thead th {\n",
       "        text-align: right;\n",
       "    }\n",
       "</style>\n",
       "<table border=\"1\" class=\"dataframe\">\n",
       "  <thead>\n",
       "    <tr style=\"text-align: right;\">\n",
       "      <th></th>\n",
       "      <th>Sales_ID</th>\n",
       "      <th>name</th>\n",
       "      <th>year</th>\n",
       "      <th>selling_price</th>\n",
       "      <th>km_driven</th>\n",
       "      <th>fuel</th>\n",
       "      <th>seller_type</th>\n",
       "      <th>transmission</th>\n",
       "      <th>owner</th>\n",
       "      <th>mileage</th>\n",
       "      <th>engine</th>\n",
       "      <th>max_power</th>\n",
       "      <th>seats</th>\n",
       "      <th>City</th>\n",
       "      <th>Postal_code</th>\n",
       "      <th>Sales_status</th>\n",
       "    </tr>\n",
       "  </thead>\n",
       "  <tbody>\n",
       "    <tr>\n",
       "      <th>0</th>\n",
       "      <td>1</td>\n",
       "      <td>Maruti Swift Dzire VDI</td>\n",
       "      <td>2014</td>\n",
       "      <td>450000</td>\n",
       "      <td>145500</td>\n",
       "      <td>Diesel</td>\n",
       "      <td>Individual</td>\n",
       "      <td>Manual</td>\n",
       "      <td>First Owner</td>\n",
       "      <td>23.4 kmpl</td>\n",
       "      <td>1248 CC</td>\n",
       "      <td>74 bhp</td>\n",
       "      <td>5</td>\n",
       "      <td>Mumbai</td>\n",
       "      <td>400001</td>\n",
       "      <td>Y</td>\n",
       "    </tr>\n",
       "    <tr>\n",
       "      <th>1</th>\n",
       "      <td>2</td>\n",
       "      <td>Skoda Rapid 1.5 TDI Ambition</td>\n",
       "      <td>2014</td>\n",
       "      <td>370000</td>\n",
       "      <td>120000</td>\n",
       "      <td>Diesel</td>\n",
       "      <td>Individual</td>\n",
       "      <td>Manual</td>\n",
       "      <td>Second Owner</td>\n",
       "      <td>21.14 kmpl</td>\n",
       "      <td>1498 CC</td>\n",
       "      <td>103.52 bhp</td>\n",
       "      <td>5</td>\n",
       "      <td>Ranchi</td>\n",
       "      <td>834008</td>\n",
       "      <td>Y</td>\n",
       "    </tr>\n",
       "    <tr>\n",
       "      <th>2</th>\n",
       "      <td>3</td>\n",
       "      <td>Honda City 2017-2020 EXi</td>\n",
       "      <td>2006</td>\n",
       "      <td>158000</td>\n",
       "      <td>140000</td>\n",
       "      <td>Petrol</td>\n",
       "      <td>Individual</td>\n",
       "      <td>Manual</td>\n",
       "      <td>Third Owner</td>\n",
       "      <td>17.7 kmpl</td>\n",
       "      <td>1497 CC</td>\n",
       "      <td>78 bhp</td>\n",
       "      <td>5</td>\n",
       "      <td>Noida</td>\n",
       "      <td>201301</td>\n",
       "      <td>Y</td>\n",
       "    </tr>\n",
       "    <tr>\n",
       "      <th>3</th>\n",
       "      <td>4</td>\n",
       "      <td>Hyundai i20 Sportz Diesel</td>\n",
       "      <td>2010</td>\n",
       "      <td>225000</td>\n",
       "      <td>127000</td>\n",
       "      <td>Diesel</td>\n",
       "      <td>Individual</td>\n",
       "      <td>Manual</td>\n",
       "      <td>First Owner</td>\n",
       "      <td>23.0 kmpl</td>\n",
       "      <td>1396 CC</td>\n",
       "      <td>90 bhp</td>\n",
       "      <td>5</td>\n",
       "      <td>Dehradun</td>\n",
       "      <td>248141</td>\n",
       "      <td>Y</td>\n",
       "    </tr>\n",
       "    <tr>\n",
       "      <th>4</th>\n",
       "      <td>5</td>\n",
       "      <td>Maruti Swift VXI BSIII</td>\n",
       "      <td>2007</td>\n",
       "      <td>130000</td>\n",
       "      <td>120000</td>\n",
       "      <td>Petrol</td>\n",
       "      <td>Individual</td>\n",
       "      <td>Manual</td>\n",
       "      <td>First Owner</td>\n",
       "      <td>16.1 kmpl</td>\n",
       "      <td>1298 CC</td>\n",
       "      <td>88.2 bhp</td>\n",
       "      <td>5</td>\n",
       "      <td>Chennai</td>\n",
       "      <td>600020</td>\n",
       "      <td>Y</td>\n",
       "    </tr>\n",
       "    <tr>\n",
       "      <th>...</th>\n",
       "      <td>...</td>\n",
       "      <td>...</td>\n",
       "      <td>...</td>\n",
       "      <td>...</td>\n",
       "      <td>...</td>\n",
       "      <td>...</td>\n",
       "      <td>...</td>\n",
       "      <td>...</td>\n",
       "      <td>...</td>\n",
       "      <td>...</td>\n",
       "      <td>...</td>\n",
       "      <td>...</td>\n",
       "      <td>...</td>\n",
       "      <td>...</td>\n",
       "      <td>...</td>\n",
       "      <td>...</td>\n",
       "    </tr>\n",
       "    <tr>\n",
       "      <th>7901</th>\n",
       "      <td>8124</td>\n",
       "      <td>Hyundai i20 Magna</td>\n",
       "      <td>2013</td>\n",
       "      <td>320000</td>\n",
       "      <td>110000</td>\n",
       "      <td>Petrol</td>\n",
       "      <td>Individual</td>\n",
       "      <td>Manual</td>\n",
       "      <td>First Owner</td>\n",
       "      <td>18.5 kmpl</td>\n",
       "      <td>1197 CC</td>\n",
       "      <td>82.85 bhp</td>\n",
       "      <td>5</td>\n",
       "      <td>Indore</td>\n",
       "      <td>453551</td>\n",
       "      <td>N</td>\n",
       "    </tr>\n",
       "    <tr>\n",
       "      <th>7902</th>\n",
       "      <td>8125</td>\n",
       "      <td>Hyundai Verna CRDi SX</td>\n",
       "      <td>2007</td>\n",
       "      <td>135000</td>\n",
       "      <td>119000</td>\n",
       "      <td>Diesel</td>\n",
       "      <td>Individual</td>\n",
       "      <td>Manual</td>\n",
       "      <td>Fourth &amp; Above Owner</td>\n",
       "      <td>16.8 kmpl</td>\n",
       "      <td>1493 CC</td>\n",
       "      <td>110 bhp</td>\n",
       "      <td>5</td>\n",
       "      <td>Dehradun</td>\n",
       "      <td>248141</td>\n",
       "      <td>N</td>\n",
       "    </tr>\n",
       "    <tr>\n",
       "      <th>7903</th>\n",
       "      <td>8126</td>\n",
       "      <td>Maruti Swift Dzire ZDi</td>\n",
       "      <td>2009</td>\n",
       "      <td>382000</td>\n",
       "      <td>120000</td>\n",
       "      <td>Diesel</td>\n",
       "      <td>Individual</td>\n",
       "      <td>Manual</td>\n",
       "      <td>First Owner</td>\n",
       "      <td>19.3 kmpl</td>\n",
       "      <td>1248 CC</td>\n",
       "      <td>73.9 bhp</td>\n",
       "      <td>5</td>\n",
       "      <td>Kolkata</td>\n",
       "      <td>700027</td>\n",
       "      <td>N</td>\n",
       "    </tr>\n",
       "    <tr>\n",
       "      <th>7904</th>\n",
       "      <td>8127</td>\n",
       "      <td>Tata Indigo CR4</td>\n",
       "      <td>2013</td>\n",
       "      <td>290000</td>\n",
       "      <td>25000</td>\n",
       "      <td>Diesel</td>\n",
       "      <td>Individual</td>\n",
       "      <td>Manual</td>\n",
       "      <td>First Owner</td>\n",
       "      <td>23.57 kmpl</td>\n",
       "      <td>1396 CC</td>\n",
       "      <td>70 bhp</td>\n",
       "      <td>5</td>\n",
       "      <td>Vellore</td>\n",
       "      <td>632001</td>\n",
       "      <td>N</td>\n",
       "    </tr>\n",
       "    <tr>\n",
       "      <th>7905</th>\n",
       "      <td>8128</td>\n",
       "      <td>Tata Indigo CR4</td>\n",
       "      <td>2013</td>\n",
       "      <td>290000</td>\n",
       "      <td>25000</td>\n",
       "      <td>Diesel</td>\n",
       "      <td>Individual</td>\n",
       "      <td>Manual</td>\n",
       "      <td>First Owner</td>\n",
       "      <td>23.57 kmpl</td>\n",
       "      <td>1396 CC</td>\n",
       "      <td>70 bhp</td>\n",
       "      <td>5</td>\n",
       "      <td>Dehradun</td>\n",
       "      <td>248141</td>\n",
       "      <td>N</td>\n",
       "    </tr>\n",
       "  </tbody>\n",
       "</table>\n",
       "<p>7906 rows × 16 columns</p>\n",
       "</div>"
      ],
      "text/plain": [
       "      Sales_ID                          name  year  selling_price  km_driven  \\\n",
       "0            1        Maruti Swift Dzire VDI  2014         450000     145500   \n",
       "1            2  Skoda Rapid 1.5 TDI Ambition  2014         370000     120000   \n",
       "2            3      Honda City 2017-2020 EXi  2006         158000     140000   \n",
       "3            4     Hyundai i20 Sportz Diesel  2010         225000     127000   \n",
       "4            5        Maruti Swift VXI BSIII  2007         130000     120000   \n",
       "...        ...                           ...   ...            ...        ...   \n",
       "7901      8124             Hyundai i20 Magna  2013         320000     110000   \n",
       "7902      8125         Hyundai Verna CRDi SX  2007         135000     119000   \n",
       "7903      8126        Maruti Swift Dzire ZDi  2009         382000     120000   \n",
       "7904      8127               Tata Indigo CR4  2013         290000      25000   \n",
       "7905      8128               Tata Indigo CR4  2013         290000      25000   \n",
       "\n",
       "        fuel seller_type transmission                 owner     mileage  \\\n",
       "0     Diesel  Individual       Manual           First Owner   23.4 kmpl   \n",
       "1     Diesel  Individual       Manual          Second Owner  21.14 kmpl   \n",
       "2     Petrol  Individual       Manual           Third Owner   17.7 kmpl   \n",
       "3     Diesel  Individual       Manual           First Owner   23.0 kmpl   \n",
       "4     Petrol  Individual       Manual           First Owner   16.1 kmpl   \n",
       "...      ...         ...          ...                   ...         ...   \n",
       "7901  Petrol  Individual       Manual           First Owner   18.5 kmpl   \n",
       "7902  Diesel  Individual       Manual  Fourth & Above Owner   16.8 kmpl   \n",
       "7903  Diesel  Individual       Manual           First Owner   19.3 kmpl   \n",
       "7904  Diesel  Individual       Manual           First Owner  23.57 kmpl   \n",
       "7905  Diesel  Individual       Manual           First Owner  23.57 kmpl   \n",
       "\n",
       "       engine   max_power  seats      City  Postal_code Sales_status  \n",
       "0     1248 CC      74 bhp      5    Mumbai       400001            Y  \n",
       "1     1498 CC  103.52 bhp      5    Ranchi       834008            Y  \n",
       "2     1497 CC      78 bhp      5     Noida       201301            Y  \n",
       "3     1396 CC      90 bhp      5  Dehradun       248141            Y  \n",
       "4     1298 CC    88.2 bhp      5   Chennai       600020            Y  \n",
       "...       ...         ...    ...       ...          ...          ...  \n",
       "7901  1197 CC   82.85 bhp      5    Indore       453551            N  \n",
       "7902  1493 CC     110 bhp      5  Dehradun       248141            N  \n",
       "7903  1248 CC    73.9 bhp      5   Kolkata       700027            N  \n",
       "7904  1396 CC      70 bhp      5   Vellore       632001            N  \n",
       "7905  1396 CC      70 bhp      5  Dehradun       248141            N  \n",
       "\n",
       "[7906 rows x 16 columns]"
      ]
     },
     "execution_count": 6,
     "metadata": {},
     "output_type": "execute_result"
    }
   ],
   "source": [
    "data"
   ]
  },
  {
   "cell_type": "code",
   "execution_count": 7,
   "id": "227251f9",
   "metadata": {},
   "outputs": [
    {
     "data": {
      "text/html": [
       "<div>\n",
       "<style scoped>\n",
       "    .dataframe tbody tr th:only-of-type {\n",
       "        vertical-align: middle;\n",
       "    }\n",
       "\n",
       "    .dataframe tbody tr th {\n",
       "        vertical-align: top;\n",
       "    }\n",
       "\n",
       "    .dataframe thead th {\n",
       "        text-align: right;\n",
       "    }\n",
       "</style>\n",
       "<table border=\"1\" class=\"dataframe\">\n",
       "  <thead>\n",
       "    <tr style=\"text-align: right;\">\n",
       "      <th></th>\n",
       "      <th>Sales_ID</th>\n",
       "      <th>name</th>\n",
       "      <th>year</th>\n",
       "      <th>selling_price</th>\n",
       "      <th>km_driven</th>\n",
       "      <th>fuel</th>\n",
       "      <th>seller_type</th>\n",
       "      <th>transmission</th>\n",
       "      <th>owner</th>\n",
       "      <th>mileage</th>\n",
       "      <th>engine</th>\n",
       "      <th>max_power</th>\n",
       "      <th>seats</th>\n",
       "      <th>City</th>\n",
       "      <th>Postal_code</th>\n",
       "      <th>Sales_status</th>\n",
       "    </tr>\n",
       "  </thead>\n",
       "  <tbody>\n",
       "    <tr>\n",
       "      <th>0</th>\n",
       "      <td>1</td>\n",
       "      <td>Maruti Swift Dzire VDI</td>\n",
       "      <td>2014</td>\n",
       "      <td>450000</td>\n",
       "      <td>145500</td>\n",
       "      <td>Diesel</td>\n",
       "      <td>Individual</td>\n",
       "      <td>Manual</td>\n",
       "      <td>First Owner</td>\n",
       "      <td>23.4 kmpl</td>\n",
       "      <td>1248 CC</td>\n",
       "      <td>74 bhp</td>\n",
       "      <td>5</td>\n",
       "      <td>Mumbai</td>\n",
       "      <td>400001</td>\n",
       "      <td>Y</td>\n",
       "    </tr>\n",
       "    <tr>\n",
       "      <th>1</th>\n",
       "      <td>2</td>\n",
       "      <td>Skoda Rapid 1.5 TDI Ambition</td>\n",
       "      <td>2014</td>\n",
       "      <td>370000</td>\n",
       "      <td>120000</td>\n",
       "      <td>Diesel</td>\n",
       "      <td>Individual</td>\n",
       "      <td>Manual</td>\n",
       "      <td>Second Owner</td>\n",
       "      <td>21.14 kmpl</td>\n",
       "      <td>1498 CC</td>\n",
       "      <td>103.52 bhp</td>\n",
       "      <td>5</td>\n",
       "      <td>Ranchi</td>\n",
       "      <td>834008</td>\n",
       "      <td>Y</td>\n",
       "    </tr>\n",
       "    <tr>\n",
       "      <th>2</th>\n",
       "      <td>3</td>\n",
       "      <td>Honda City 2017-2020 EXi</td>\n",
       "      <td>2006</td>\n",
       "      <td>158000</td>\n",
       "      <td>140000</td>\n",
       "      <td>Petrol</td>\n",
       "      <td>Individual</td>\n",
       "      <td>Manual</td>\n",
       "      <td>Third Owner</td>\n",
       "      <td>17.7 kmpl</td>\n",
       "      <td>1497 CC</td>\n",
       "      <td>78 bhp</td>\n",
       "      <td>5</td>\n",
       "      <td>Noida</td>\n",
       "      <td>201301</td>\n",
       "      <td>Y</td>\n",
       "    </tr>\n",
       "    <tr>\n",
       "      <th>3</th>\n",
       "      <td>4</td>\n",
       "      <td>Hyundai i20 Sportz Diesel</td>\n",
       "      <td>2010</td>\n",
       "      <td>225000</td>\n",
       "      <td>127000</td>\n",
       "      <td>Diesel</td>\n",
       "      <td>Individual</td>\n",
       "      <td>Manual</td>\n",
       "      <td>First Owner</td>\n",
       "      <td>23.0 kmpl</td>\n",
       "      <td>1396 CC</td>\n",
       "      <td>90 bhp</td>\n",
       "      <td>5</td>\n",
       "      <td>Dehradun</td>\n",
       "      <td>248141</td>\n",
       "      <td>Y</td>\n",
       "    </tr>\n",
       "    <tr>\n",
       "      <th>4</th>\n",
       "      <td>5</td>\n",
       "      <td>Maruti Swift VXI BSIII</td>\n",
       "      <td>2007</td>\n",
       "      <td>130000</td>\n",
       "      <td>120000</td>\n",
       "      <td>Petrol</td>\n",
       "      <td>Individual</td>\n",
       "      <td>Manual</td>\n",
       "      <td>First Owner</td>\n",
       "      <td>16.1 kmpl</td>\n",
       "      <td>1298 CC</td>\n",
       "      <td>88.2 bhp</td>\n",
       "      <td>5</td>\n",
       "      <td>Chennai</td>\n",
       "      <td>600020</td>\n",
       "      <td>Y</td>\n",
       "    </tr>\n",
       "  </tbody>\n",
       "</table>\n",
       "</div>"
      ],
      "text/plain": [
       "   Sales_ID                          name  year  selling_price  km_driven  \\\n",
       "0         1        Maruti Swift Dzire VDI  2014         450000     145500   \n",
       "1         2  Skoda Rapid 1.5 TDI Ambition  2014         370000     120000   \n",
       "2         3      Honda City 2017-2020 EXi  2006         158000     140000   \n",
       "3         4     Hyundai i20 Sportz Diesel  2010         225000     127000   \n",
       "4         5        Maruti Swift VXI BSIII  2007         130000     120000   \n",
       "\n",
       "     fuel seller_type transmission         owner     mileage   engine  \\\n",
       "0  Diesel  Individual       Manual   First Owner   23.4 kmpl  1248 CC   \n",
       "1  Diesel  Individual       Manual  Second Owner  21.14 kmpl  1498 CC   \n",
       "2  Petrol  Individual       Manual   Third Owner   17.7 kmpl  1497 CC   \n",
       "3  Diesel  Individual       Manual   First Owner   23.0 kmpl  1396 CC   \n",
       "4  Petrol  Individual       Manual   First Owner   16.1 kmpl  1298 CC   \n",
       "\n",
       "    max_power  seats      City  Postal_code Sales_status  \n",
       "0      74 bhp      5    Mumbai       400001            Y  \n",
       "1  103.52 bhp      5    Ranchi       834008            Y  \n",
       "2      78 bhp      5     Noida       201301            Y  \n",
       "3      90 bhp      5  Dehradun       248141            Y  \n",
       "4    88.2 bhp      5   Chennai       600020            Y  "
      ]
     },
     "execution_count": 7,
     "metadata": {},
     "output_type": "execute_result"
    }
   ],
   "source": [
    "data.head()"
   ]
  },
  {
   "cell_type": "markdown",
   "id": "b1e92a92",
   "metadata": {},
   "source": [
    "### Data Understanding"
   ]
  },
  {
   "cell_type": "code",
   "execution_count": 8,
   "id": "7684f6b7",
   "metadata": {},
   "outputs": [
    {
     "data": {
      "text/plain": [
       "(7906, 16)"
      ]
     },
     "execution_count": 8,
     "metadata": {},
     "output_type": "execute_result"
    }
   ],
   "source": [
    "data.shape"
   ]
  },
  {
   "cell_type": "code",
   "execution_count": 9,
   "id": "322fa873",
   "metadata": {},
   "outputs": [
    {
     "data": {
      "text/plain": [
       "['Sales_ID',\n",
       " 'name',\n",
       " 'year',\n",
       " 'selling_price',\n",
       " 'km_driven',\n",
       " 'fuel',\n",
       " 'seller_type',\n",
       " 'transmission',\n",
       " 'owner',\n",
       " 'mileage',\n",
       " 'engine',\n",
       " 'max_power',\n",
       " 'seats',\n",
       " 'City',\n",
       " 'Postal_code',\n",
       " 'Sales_status']"
      ]
     },
     "execution_count": 9,
     "metadata": {},
     "output_type": "execute_result"
    }
   ],
   "source": [
    "data.columns.tolist()"
   ]
  },
  {
   "cell_type": "code",
   "execution_count": 10,
   "id": "71f39c57",
   "metadata": {},
   "outputs": [
    {
     "data": {
      "text/plain": [
       "Sales_ID          int64\n",
       "name             object\n",
       "year              int64\n",
       "selling_price     int64\n",
       "km_driven         int64\n",
       "fuel             object\n",
       "seller_type      object\n",
       "transmission     object\n",
       "owner            object\n",
       "mileage          object\n",
       "engine           object\n",
       "max_power        object\n",
       "seats             int64\n",
       "City             object\n",
       "Postal_code       int64\n",
       "Sales_status     object\n",
       "dtype: object"
      ]
     },
     "execution_count": 10,
     "metadata": {},
     "output_type": "execute_result"
    }
   ],
   "source": [
    "data.dtypes"
   ]
  },
  {
   "cell_type": "code",
   "execution_count": 11,
   "id": "21fb94c9",
   "metadata": {},
   "outputs": [
    {
     "data": {
      "text/plain": [
       "Sales_ID         0\n",
       "name             0\n",
       "year             0\n",
       "selling_price    0\n",
       "km_driven        0\n",
       "fuel             0\n",
       "seller_type      0\n",
       "transmission     0\n",
       "owner            0\n",
       "mileage          0\n",
       "engine           0\n",
       "max_power        0\n",
       "seats            0\n",
       "City             0\n",
       "Postal_code      0\n",
       "Sales_status     0\n",
       "dtype: int64"
      ]
     },
     "execution_count": 11,
     "metadata": {},
     "output_type": "execute_result"
    }
   ],
   "source": [
    "data.isnull().sum()"
   ]
  },
  {
   "cell_type": "markdown",
   "id": "f7632ce0",
   "metadata": {},
   "source": [
    "There are no missing values in given data"
   ]
  },
  {
   "cell_type": "code",
   "execution_count": 12,
   "id": "8664db84",
   "metadata": {},
   "outputs": [
    {
     "data": {
      "text/plain": [
       "Sales_ID         7906\n",
       "name             1982\n",
       "year               27\n",
       "selling_price     670\n",
       "km_driven         898\n",
       "fuel                4\n",
       "seller_type         3\n",
       "transmission        2\n",
       "owner               5\n",
       "mileage           393\n",
       "engine            121\n",
       "max_power         320\n",
       "seats               9\n",
       "City               29\n",
       "Postal_code        32\n",
       "Sales_status        2\n",
       "dtype: int64"
      ]
     },
     "execution_count": 12,
     "metadata": {},
     "output_type": "execute_result"
    }
   ],
   "source": [
    "data.nunique()"
   ]
  },
  {
   "cell_type": "code",
   "execution_count": 13,
   "id": "dcb67e8a",
   "metadata": {},
   "outputs": [
    {
     "name": "stdout",
     "output_type": "stream",
     "text": [
      "<class 'pandas.core.frame.DataFrame'>\n",
      "RangeIndex: 7906 entries, 0 to 7905\n",
      "Data columns (total 16 columns):\n",
      " #   Column         Non-Null Count  Dtype \n",
      "---  ------         --------------  ----- \n",
      " 0   Sales_ID       7906 non-null   int64 \n",
      " 1   name           7906 non-null   object\n",
      " 2   year           7906 non-null   int64 \n",
      " 3   selling_price  7906 non-null   int64 \n",
      " 4   km_driven      7906 non-null   int64 \n",
      " 5   fuel           7906 non-null   object\n",
      " 6   seller_type    7906 non-null   object\n",
      " 7   transmission   7906 non-null   object\n",
      " 8   owner          7906 non-null   object\n",
      " 9   mileage        7906 non-null   object\n",
      " 10  engine         7906 non-null   object\n",
      " 11  max_power      7906 non-null   object\n",
      " 12  seats          7906 non-null   int64 \n",
      " 13  City           7906 non-null   object\n",
      " 14  Postal_code    7906 non-null   int64 \n",
      " 15  Sales_status   7906 non-null   object\n",
      "dtypes: int64(6), object(10)\n",
      "memory usage: 988.4+ KB\n"
     ]
    }
   ],
   "source": [
    "data.info()"
   ]
  },
  {
   "cell_type": "code",
   "execution_count": 14,
   "id": "e79eaec9",
   "metadata": {
    "scrolled": true
   },
   "outputs": [
    {
     "data": {
      "text/html": [
       "<div>\n",
       "<style scoped>\n",
       "    .dataframe tbody tr th:only-of-type {\n",
       "        vertical-align: middle;\n",
       "    }\n",
       "\n",
       "    .dataframe tbody tr th {\n",
       "        vertical-align: top;\n",
       "    }\n",
       "\n",
       "    .dataframe thead th {\n",
       "        text-align: right;\n",
       "    }\n",
       "</style>\n",
       "<table border=\"1\" class=\"dataframe\">\n",
       "  <thead>\n",
       "    <tr style=\"text-align: right;\">\n",
       "      <th></th>\n",
       "      <th>Sales_ID</th>\n",
       "      <th>year</th>\n",
       "      <th>selling_price</th>\n",
       "      <th>km_driven</th>\n",
       "      <th>seats</th>\n",
       "      <th>Postal_code</th>\n",
       "    </tr>\n",
       "  </thead>\n",
       "  <tbody>\n",
       "    <tr>\n",
       "      <th>count</th>\n",
       "      <td>7906.000000</td>\n",
       "      <td>7906.000000</td>\n",
       "      <td>7.906000e+03</td>\n",
       "      <td>7.906000e+03</td>\n",
       "      <td>7906.000000</td>\n",
       "      <td>7906.000000</td>\n",
       "    </tr>\n",
       "    <tr>\n",
       "      <th>mean</th>\n",
       "      <td>4070.106248</td>\n",
       "      <td>2013.983936</td>\n",
       "      <td>6.498137e+05</td>\n",
       "      <td>6.918866e+04</td>\n",
       "      <td>5.416393</td>\n",
       "      <td>503806.024285</td>\n",
       "    </tr>\n",
       "    <tr>\n",
       "      <th>std</th>\n",
       "      <td>2345.770159</td>\n",
       "      <td>3.863695</td>\n",
       "      <td>8.135827e+05</td>\n",
       "      <td>5.679230e+04</td>\n",
       "      <td>0.959208</td>\n",
       "      <td>205061.544757</td>\n",
       "    </tr>\n",
       "    <tr>\n",
       "      <th>min</th>\n",
       "      <td>1.000000</td>\n",
       "      <td>1994.000000</td>\n",
       "      <td>2.999900e+04</td>\n",
       "      <td>1.000000e+00</td>\n",
       "      <td>2.000000</td>\n",
       "      <td>110039.000000</td>\n",
       "    </tr>\n",
       "    <tr>\n",
       "      <th>25%</th>\n",
       "      <td>2037.250000</td>\n",
       "      <td>2012.000000</td>\n",
       "      <td>2.700000e+05</td>\n",
       "      <td>3.500000e+04</td>\n",
       "      <td>5.000000</td>\n",
       "      <td>391510.000000</td>\n",
       "    </tr>\n",
       "    <tr>\n",
       "      <th>50%</th>\n",
       "      <td>4076.500000</td>\n",
       "      <td>2015.000000</td>\n",
       "      <td>4.500000e+05</td>\n",
       "      <td>6.000000e+04</td>\n",
       "      <td>5.000000</td>\n",
       "      <td>524225.000000</td>\n",
       "    </tr>\n",
       "    <tr>\n",
       "      <th>75%</th>\n",
       "      <td>6102.000000</td>\n",
       "      <td>2017.000000</td>\n",
       "      <td>6.900000e+05</td>\n",
       "      <td>9.542500e+04</td>\n",
       "      <td>5.000000</td>\n",
       "      <td>680503.000000</td>\n",
       "    </tr>\n",
       "    <tr>\n",
       "      <th>max</th>\n",
       "      <td>8128.000000</td>\n",
       "      <td>2020.000000</td>\n",
       "      <td>1.000000e+07</td>\n",
       "      <td>2.360457e+06</td>\n",
       "      <td>14.000000</td>\n",
       "      <td>834008.000000</td>\n",
       "    </tr>\n",
       "  </tbody>\n",
       "</table>\n",
       "</div>"
      ],
      "text/plain": [
       "          Sales_ID         year  selling_price     km_driven        seats  \\\n",
       "count  7906.000000  7906.000000   7.906000e+03  7.906000e+03  7906.000000   \n",
       "mean   4070.106248  2013.983936   6.498137e+05  6.918866e+04     5.416393   \n",
       "std    2345.770159     3.863695   8.135827e+05  5.679230e+04     0.959208   \n",
       "min       1.000000  1994.000000   2.999900e+04  1.000000e+00     2.000000   \n",
       "25%    2037.250000  2012.000000   2.700000e+05  3.500000e+04     5.000000   \n",
       "50%    4076.500000  2015.000000   4.500000e+05  6.000000e+04     5.000000   \n",
       "75%    6102.000000  2017.000000   6.900000e+05  9.542500e+04     5.000000   \n",
       "max    8128.000000  2020.000000   1.000000e+07  2.360457e+06    14.000000   \n",
       "\n",
       "         Postal_code  \n",
       "count    7906.000000  \n",
       "mean   503806.024285  \n",
       "std    205061.544757  \n",
       "min    110039.000000  \n",
       "25%    391510.000000  \n",
       "50%    524225.000000  \n",
       "75%    680503.000000  \n",
       "max    834008.000000  "
      ]
     },
     "execution_count": 14,
     "metadata": {},
     "output_type": "execute_result"
    }
   ],
   "source": [
    "data.describe()"
   ]
  },
  {
   "cell_type": "code",
   "execution_count": 15,
   "id": "36da30e0",
   "metadata": {},
   "outputs": [
    {
     "data": {
      "text/html": [
       "<div>\n",
       "<style scoped>\n",
       "    .dataframe tbody tr th:only-of-type {\n",
       "        vertical-align: middle;\n",
       "    }\n",
       "\n",
       "    .dataframe tbody tr th {\n",
       "        vertical-align: top;\n",
       "    }\n",
       "\n",
       "    .dataframe thead th {\n",
       "        text-align: right;\n",
       "    }\n",
       "</style>\n",
       "<table border=\"1\" class=\"dataframe\">\n",
       "  <thead>\n",
       "    <tr style=\"text-align: right;\">\n",
       "      <th></th>\n",
       "      <th>name</th>\n",
       "      <th>fuel</th>\n",
       "      <th>seller_type</th>\n",
       "      <th>transmission</th>\n",
       "      <th>owner</th>\n",
       "      <th>mileage</th>\n",
       "      <th>engine</th>\n",
       "      <th>max_power</th>\n",
       "      <th>City</th>\n",
       "      <th>Sales_status</th>\n",
       "    </tr>\n",
       "  </thead>\n",
       "  <tbody>\n",
       "    <tr>\n",
       "      <th>count</th>\n",
       "      <td>7906</td>\n",
       "      <td>7906</td>\n",
       "      <td>7906</td>\n",
       "      <td>7906</td>\n",
       "      <td>7906</td>\n",
       "      <td>7906</td>\n",
       "      <td>7906</td>\n",
       "      <td>7906</td>\n",
       "      <td>7906</td>\n",
       "      <td>7906</td>\n",
       "    </tr>\n",
       "    <tr>\n",
       "      <th>unique</th>\n",
       "      <td>1982</td>\n",
       "      <td>4</td>\n",
       "      <td>3</td>\n",
       "      <td>2</td>\n",
       "      <td>5</td>\n",
       "      <td>393</td>\n",
       "      <td>121</td>\n",
       "      <td>320</td>\n",
       "      <td>29</td>\n",
       "      <td>2</td>\n",
       "    </tr>\n",
       "    <tr>\n",
       "      <th>top</th>\n",
       "      <td>Maruti Swift Dzire VDI</td>\n",
       "      <td>Diesel</td>\n",
       "      <td>Individual</td>\n",
       "      <td>Manual</td>\n",
       "      <td>First Owner</td>\n",
       "      <td>18.9 kmpl</td>\n",
       "      <td>1248 CC</td>\n",
       "      <td>74 bhp</td>\n",
       "      <td>Delhi</td>\n",
       "      <td>N</td>\n",
       "    </tr>\n",
       "    <tr>\n",
       "      <th>freq</th>\n",
       "      <td>129</td>\n",
       "      <td>4299</td>\n",
       "      <td>6563</td>\n",
       "      <td>6865</td>\n",
       "      <td>5215</td>\n",
       "      <td>225</td>\n",
       "      <td>1017</td>\n",
       "      <td>377</td>\n",
       "      <td>320</td>\n",
       "      <td>5906</td>\n",
       "    </tr>\n",
       "  </tbody>\n",
       "</table>\n",
       "</div>"
      ],
      "text/plain": [
       "                          name    fuel seller_type transmission        owner  \\\n",
       "count                     7906    7906        7906         7906         7906   \n",
       "unique                    1982       4           3            2            5   \n",
       "top     Maruti Swift Dzire VDI  Diesel  Individual       Manual  First Owner   \n",
       "freq                       129    4299        6563         6865         5215   \n",
       "\n",
       "          mileage   engine max_power   City Sales_status  \n",
       "count        7906     7906      7906   7906         7906  \n",
       "unique        393      121       320     29            2  \n",
       "top     18.9 kmpl  1248 CC    74 bhp  Delhi            N  \n",
       "freq          225     1017       377    320         5906  "
      ]
     },
     "execution_count": 15,
     "metadata": {},
     "output_type": "execute_result"
    }
   ],
   "source": [
    "data.describe(include='object')"
   ]
  },
  {
   "cell_type": "markdown",
   "id": "2d41be32",
   "metadata": {},
   "source": [
    "### Data Preprocessing"
   ]
  },
  {
   "cell_type": "code",
   "execution_count": 16,
   "id": "8d139ce5",
   "metadata": {},
   "outputs": [
    {
     "data": {
      "text/plain": [
       "mileage\n",
       "18.9 kmpl      225\n",
       "19.7 kmpl      173\n",
       "18.6 kmpl      164\n",
       "21.1 kmpl      157\n",
       "17.0 kmpl      133\n",
       "              ... \n",
       "16.34 kmpl       1\n",
       "19.69 kmpl       1\n",
       "20.88 km/kg      1\n",
       "17.8 km/kg       1\n",
       "16.51 kmpl       1\n",
       "Name: count, Length: 393, dtype: int64"
      ]
     },
     "execution_count": 16,
     "metadata": {},
     "output_type": "execute_result"
    }
   ],
   "source": [
    "data['mileage'].value_counts()"
   ]
  },
  {
   "cell_type": "code",
   "execution_count": 17,
   "id": "9953367e",
   "metadata": {},
   "outputs": [],
   "source": [
    "## Mileage- Remove kmpl and km/kg\n",
    "data['mileage']=data['mileage'].apply(lambda x:float(x.split()[0])\n",
    "    if 'kmpl' in x else float(x.split()[0])\n",
    "    if 'km/kg' in x else None)"
   ]
  },
  {
   "cell_type": "code",
   "execution_count": 18,
   "id": "1c5e319b",
   "metadata": {},
   "outputs": [
    {
     "data": {
      "text/plain": [
       "mileage\n",
       "18.90    225\n",
       "19.70    173\n",
       "18.60    164\n",
       "21.10    158\n",
       "17.00    133\n",
       "        ... \n",
       "17.42      1\n",
       "18.24      1\n",
       "10.71      1\n",
       "21.76      1\n",
       "16.51      1\n",
       "Name: count, Length: 381, dtype: int64"
      ]
     },
     "execution_count": 18,
     "metadata": {},
     "output_type": "execute_result"
    }
   ],
   "source": [
    "data['mileage'].value_counts()"
   ]
  },
  {
   "cell_type": "code",
   "execution_count": 19,
   "id": "e36c5c8f",
   "metadata": {},
   "outputs": [
    {
     "data": {
      "text/plain": [
       "engine\n",
       "1248 CC    1017\n",
       "1197 CC     832\n",
       "998 CC      453\n",
       "796 CC      443\n",
       "2179 CC     389\n",
       "           ... \n",
       "2835 CC       1\n",
       "1489 CC       1\n",
       "1422 CC       1\n",
       "2496 CC       1\n",
       "1950 CC       1\n",
       "Name: count, Length: 121, dtype: int64"
      ]
     },
     "execution_count": 19,
     "metadata": {},
     "output_type": "execute_result"
    }
   ],
   "source": [
    "data['engine'].value_counts()"
   ]
  },
  {
   "cell_type": "code",
   "execution_count": 20,
   "id": "fe33a4c1",
   "metadata": {},
   "outputs": [],
   "source": [
    "## engine- remove 'CC'\n",
    "for col in ['engine']:\n",
    "    data[col]=data[col].str.replace('CC','')"
   ]
  },
  {
   "cell_type": "code",
   "execution_count": 21,
   "id": "7d2a7188",
   "metadata": {},
   "outputs": [
    {
     "data": {
      "text/plain": [
       "engine\n",
       "1248     1017\n",
       "1197      832\n",
       "998       453\n",
       "796       443\n",
       "2179      389\n",
       "         ... \n",
       "2835        1\n",
       "1489        1\n",
       "1422        1\n",
       "2496        1\n",
       "1950        1\n",
       "Name: count, Length: 121, dtype: int64"
      ]
     },
     "execution_count": 21,
     "metadata": {},
     "output_type": "execute_result"
    }
   ],
   "source": [
    "data['engine'].value_counts()"
   ]
  },
  {
   "cell_type": "code",
   "execution_count": 22,
   "id": "d2f0eb2d",
   "metadata": {},
   "outputs": [
    {
     "data": {
      "text/plain": [
       "max_power\n",
       "74 bhp        377\n",
       "81.80 bhp     220\n",
       "88.5 bhp      204\n",
       "67 bhp        165\n",
       "46.3 bhp      162\n",
       "             ... \n",
       "57 bhp          1\n",
       "58.33 bhp       1\n",
       "68.4 bhp        1\n",
       "170.63 bhp      1\n",
       "135.1 bhp       1\n",
       "Name: count, Length: 320, dtype: int64"
      ]
     },
     "execution_count": 22,
     "metadata": {},
     "output_type": "execute_result"
    }
   ],
   "source": [
    "data['max_power'].value_counts()"
   ]
  },
  {
   "cell_type": "code",
   "execution_count": 23,
   "id": "3b4a089d",
   "metadata": {},
   "outputs": [],
   "source": [
    "## max_power- Remove bhp\n",
    "for col in ['max_power']:\n",
    "    data[col]=data[col].str.replace('bhp','')"
   ]
  },
  {
   "cell_type": "code",
   "execution_count": 24,
   "id": "ee83c0e7",
   "metadata": {},
   "outputs": [
    {
     "data": {
      "application/javascript": [
       "\n",
       "        if (window._pyforest_update_imports_cell) { window._pyforest_update_imports_cell('import pandas as pd'); }\n",
       "    "
      ],
      "text/plain": [
       "<IPython.core.display.Javascript object>"
      ]
     },
     "metadata": {},
     "output_type": "display_data"
    },
    {
     "data": {
      "application/javascript": [
       "\n",
       "        if (window._pyforest_update_imports_cell) { window._pyforest_update_imports_cell('import pandas as pd'); }\n",
       "    "
      ],
      "text/plain": [
       "<IPython.core.display.Javascript object>"
      ]
     },
     "metadata": {},
     "output_type": "display_data"
    },
    {
     "data": {
      "application/javascript": [
       "\n",
       "        if (window._pyforest_update_imports_cell) { window._pyforest_update_imports_cell('import pandas as pd'); }\n",
       "    "
      ],
      "text/plain": [
       "<IPython.core.display.Javascript object>"
      ]
     },
     "metadata": {},
     "output_type": "display_data"
    }
   ],
   "source": [
    "## Convert mileage, engine and max_power to numeric\n",
    "## As they look like numeric but are given as object datatype\n",
    "for col in ['mileage','engine','max_power']:\n",
    "    data[col]=pd.to_numeric(data[col],errors='coerce')"
   ]
  },
  {
   "cell_type": "code",
   "execution_count": 25,
   "id": "ebda6d4c",
   "metadata": {},
   "outputs": [],
   "source": [
    "# Sales_ID and Postal_code to object datatype\n",
    "data['Sales_ID']=data['Sales_ID'].astype(object)\n",
    "data['Postal_code'] = data['Postal_code'].astype(object)"
   ]
  },
  {
   "cell_type": "code",
   "execution_count": 26,
   "id": "288e89fe",
   "metadata": {},
   "outputs": [
    {
     "data": {
      "text/plain": [
       "Sales_ID          object\n",
       "name              object\n",
       "year               int64\n",
       "selling_price      int64\n",
       "km_driven          int64\n",
       "fuel              object\n",
       "seller_type       object\n",
       "transmission      object\n",
       "owner             object\n",
       "mileage          float64\n",
       "engine             int64\n",
       "max_power        float64\n",
       "seats              int64\n",
       "City              object\n",
       "Postal_code       object\n",
       "Sales_status      object\n",
       "dtype: object"
      ]
     },
     "execution_count": 26,
     "metadata": {},
     "output_type": "execute_result"
    }
   ],
   "source": [
    "data.dtypes"
   ]
  },
  {
   "cell_type": "code",
   "execution_count": 27,
   "id": "b3442031",
   "metadata": {
    "scrolled": true
   },
   "outputs": [
    {
     "data": {
      "application/javascript": [
       "\n",
       "        if (window._pyforest_update_imports_cell) { window._pyforest_update_imports_cell('import pandas as pd\\nimport matplotlib.pyplot as plt'); }\n",
       "    "
      ],
      "text/plain": [
       "<IPython.core.display.Javascript object>"
      ]
     },
     "metadata": {},
     "output_type": "display_data"
    },
    {
     "data": {
      "image/png": "[encoded data removed]",
      "text/plain": [
       "<Figure size 1000x1000 with 9 Axes>"
      ]
     },
     "metadata": {},
     "output_type": "display_data"
    }
   ],
   "source": [
    "data.hist(figsize=(10,10))\n",
    "plt.show()"
   ]
  },
  {
   "cell_type": "markdown",
   "id": "1773a2b9",
   "metadata": {},
   "source": [
    "### Q(1) \n",
    "### a) What are the characteristics of the cars listed in the used car dataset? \n",
    "- What is the average mileage and selling price of the cars? \n",
    "- What is the range of prices? What is the interquartile range of prices? \n",
    "- What is the most common fuel type and transmission type? \n",
    "- Is there a significant difference in the mean selling price for cars sold by individual sellers compared to those sold by dealers in the used car dataset?"
   ]
  },
  {
   "cell_type": "code",
   "execution_count": 28,
   "id": "3ee7bd81",
   "metadata": {},
   "outputs": [],
   "source": [
    "avg_mileage = data['mileage'].mean()\n",
    "avg_price = data['selling_price'].mean()\n",
    "price_range = data['selling_price'].max() - data['selling_price'].min()\n",
    "price_iqr = data['selling_price'].quantile(0.75) - data['selling_price'].quantile(0.25)\n"
   ]
  },
  {
   "cell_type": "code",
   "execution_count": 29,
   "id": "654ebbda",
   "metadata": {},
   "outputs": [
    {
     "name": "stdout",
     "output_type": "stream",
     "text": [
      "Average mileage- 19.4198608651657\n",
      "Average selling price of cars- 649813.720844928\n",
      "Range of selling price of cars- 9970001\n",
      "Interquartile Range of selling price of cars- 420000.0\n"
     ]
    }
   ],
   "source": [
    "print('Average mileage-',avg_mileage)\n",
    "print('Average selling price of cars-',avg_price)\n",
    "print('Range of selling price of cars-',price_range)\n",
    "print('Interquartile Range of selling price of cars-',price_iqr)\n"
   ]
  },
  {
   "cell_type": "code",
   "execution_count": 30,
   "id": "97a4d649",
   "metadata": {},
   "outputs": [
    {
     "name": "stdout",
     "output_type": "stream",
     "text": [
      "Most common Fuel type- Diesel\n",
      "Most common transmission type- Manual\n"
     ]
    }
   ],
   "source": [
    "most_common_fuel = data['fuel'].mode()[0]\n",
    "most_common_transmission = data['transmission'].mode()[0]\n",
    "\n",
    "print('Most common Fuel type-',most_common_fuel)\n",
    "print('Most common transmission type-',most_common_transmission)"
   ]
  },
  {
   "cell_type": "code",
   "execution_count": 31,
   "id": "e90e479f",
   "metadata": {},
   "outputs": [
    {
     "data": {
      "application/javascript": [
       "\n",
       "        if (window._pyforest_update_imports_cell) { window._pyforest_update_imports_cell('import pandas as pd\\nimport matplotlib.pyplot as plt'); }\n",
       "    "
      ],
      "text/plain": [
       "<IPython.core.display.Javascript object>"
      ]
     },
     "metadata": {},
     "output_type": "display_data"
    },
    {
     "data": {
      "application/javascript": [
       "\n",
       "        if (window._pyforest_update_imports_cell) { window._pyforest_update_imports_cell('import pandas as pd\\nimport matplotlib.pyplot as plt'); }\n",
       "    "
      ],
      "text/plain": [
       "<IPython.core.display.Javascript object>"
      ]
     },
     "metadata": {},
     "output_type": "display_data"
    },
    {
     "data": {
      "application/javascript": [
       "\n",
       "        if (window._pyforest_update_imports_cell) { window._pyforest_update_imports_cell('import pandas as pd\\nimport matplotlib.pyplot as plt'); }\n",
       "    "
      ],
      "text/plain": [
       "<IPython.core.display.Javascript object>"
      ]
     },
     "metadata": {},
     "output_type": "display_data"
    },
    {
     "data": {
      "image/png": "[encoded data removed]",
      "text/plain": [
       "<Figure size 800x800 with 2 Axes>"
      ]
     },
     "metadata": {},
     "output_type": "display_data"
    }
   ],
   "source": [
    "fig, axes= plt.subplots(nrows=1,ncols=2, figsize=(8,8))\n",
    "\n",
    "data['fuel'].value_counts().plot(kind='bar',ax=axes[0])\n",
    "axes[0].set_title('Distribution of Cars by Fuel Type')\n",
    "axes[0].set_xlabel('Fuel Type')\n",
    "axes[0].set_ylabel('Count')\n",
    "\n",
    "data['transmission'].value_counts().plot(kind='bar',ax=axes[1])\n",
    "axes[1].set_title('Distribution of Cars by Transmission Type')\n",
    "axes[1].set_xlabel('Transmission Type')\n",
    "axes[1].set_ylabel('Count')\n",
    "\n",
    "plt.tight_layout()\n",
    "\n",
    "# Display the plots\n",
    "plt.show()"
   ]
  },
  {
   "cell_type": "code",
   "execution_count": 32,
   "id": "9c4fa2f7",
   "metadata": {},
   "outputs": [
    {
     "data": {
      "text/plain": [
       "seller_type\n",
       "Dealer              1.459910e+06\n",
       "Individual          5.077058e+05\n",
       "Trustmark Dealer    8.018390e+05\n",
       "Name: selling_price, dtype: float64"
      ]
     },
     "execution_count": 32,
     "metadata": {},
     "output_type": "execute_result"
    }
   ],
   "source": [
    "mean_price_by_seller = data.groupby('seller_type')['selling_price'].mean()\n",
    "mean_price_by_seller"
   ]
  },
  {
   "cell_type": "markdown",
   "id": "80e423cb",
   "metadata": {},
   "source": [
    "H0: No significant difference in the mean selling price of cars sold by individual seller than those by dealer; Mu_individual= Mu_dealer\n",
    "\n",
    "H1: There is a significant difference in the mean selling price of cars sold by individual seller than those by dealer; Mu_individual != Mu_dealer"
   ]
  },
  {
   "cell_type": "code",
   "execution_count": 33,
   "id": "7c7b7669",
   "metadata": {},
   "outputs": [],
   "source": [
    "alpha=0.5\n",
    "individual_sellers = data[data['seller_type'] == 'Individual']\n",
    "dealers = data[data['seller_type'] == 'Dealer']"
   ]
  },
  {
   "cell_type": "code",
   "execution_count": 34,
   "id": "e696c527",
   "metadata": {},
   "outputs": [
    {
     "name": "stdout",
     "output_type": "stream",
     "text": [
      "1097.6496012201073 4.438895875472812e-225\n",
      "We can conclude that the population variances are different\n"
     ]
    }
   ],
   "source": [
    "statistic,pvalue=st.levene(individual_sellers['selling_price'],dealers['selling_price'])\n",
    "print(statistic,pvalue)\n",
    "if pvalue<alpha:\n",
    "    print(\"We can conclude that the population variances are different\")\n",
    "else:\n",
    "    print(\"Population variances are same\")"
   ]
  },
  {
   "cell_type": "code",
   "execution_count": 35,
   "id": "fb9e0da3",
   "metadata": {},
   "outputs": [
    {
     "name": "stdout",
     "output_type": "stream",
     "text": [
      "-19.93430886203481 4.173613427100124e-76\n"
     ]
    }
   ],
   "source": [
    "# Perform independent t-test to compare the means\n",
    "t_stat, p_value = st.ttest_ind(individual_sellers['selling_price'], dealers['selling_price'], equal_var=False)\n",
    "\n",
    "# Define the significance level\n",
    "alpha = 0.05\n",
    "\n",
    "print(t_stat,p_value)"
   ]
  },
  {
   "cell_type": "code",
   "execution_count": 36,
   "id": "258f00a5",
   "metadata": {},
   "outputs": [
    {
     "name": "stdout",
     "output_type": "stream",
     "text": [
      "There is a significant difference in the mean selling price for cars sold by individual sellers compared to those sold by dealers in the used car dataset.\n"
     ]
    }
   ],
   "source": [
    "if p_value < alpha:\n",
    "    print(\"There is a significant difference in the mean selling price for cars sold by individual sellers compared to those sold by dealers in the used car dataset.\")\n",
    "else:\n",
    "    print(\"There is no significant difference in the mean selling price for cars sold by individual sellers compared to those sold by dealers in the used car dataset.\")\n"
   ]
  },
  {
   "cell_type": "markdown",
   "id": "2dda8417",
   "metadata": {},
   "source": [
    "### Ques1 (b) \n",
    "- Based on the used car dataset, which transmission type is the most frequently used among the cars listed? \n",
    "- Can we determine the proportion of each transmission type and identify the one that occurs most frequently? \n",
    "- How does this information relate to potential buyers who may have a preference for a specific transmission type?"
   ]
  },
  {
   "cell_type": "code",
   "execution_count": 37,
   "id": "c493c066",
   "metadata": {},
   "outputs": [],
   "source": [
    "most_common_transmission_type = data['transmission'].value_counts().idxmax()\n",
    "transmission_type_proportion = data['transmission'].value_counts(normalize=True)"
   ]
  },
  {
   "cell_type": "code",
   "execution_count": 38,
   "id": "6620fa44",
   "metadata": {},
   "outputs": [
    {
     "name": "stdout",
     "output_type": "stream",
     "text": [
      "Most frequently used transmission type- Manual\n",
      "Proportion of each transmission type- transmission\n",
      "Manual       0.868328\n",
      "Automatic    0.131672\n",
      "Name: proportion, dtype: float64\n"
     ]
    }
   ],
   "source": [
    "print('Most frequently used transmission type-',most_common_transmission_type)\n",
    "print('Proportion of each transmission type-',transmission_type_proportion )"
   ]
  },
  {
   "cell_type": "markdown",
   "id": "e6582206",
   "metadata": {},
   "source": [
    " In this case, manual transmissions constitute approximately 86.83% of the dataset, while automatic transmissions make up around 13.17%. Thus, manual is most frequently used transmission type.\n",
    " \n",
    " Thus, buyers who prefer manual transmissions may find it easier to find a suitable car since the majority of the cars in the dataset have manual transmissions. Conversely, buyers looking for automatic transmissions may have fewer options available."
   ]
  },
  {
   "cell_type": "markdown",
   "id": "278f7927",
   "metadata": {},
   "source": [
    "### Ques1 (c) \n",
    "- How does the selling price of cars in the dataset vary with respect to factors such as the car's mileage, engine size, and year of manufacture? \n",
    "- Can we visualize this relationship to gain insights into how these variables affect the selling price of a car?"
   ]
  },
  {
   "cell_type": "code",
   "execution_count": 39,
   "id": "08b8a264",
   "metadata": {},
   "outputs": [
    {
     "name": "stdout",
     "output_type": "stream",
     "text": [
      "Correlation between selling_price and mileage: -0.12627994951355337\n",
      "Correlation between selling_price and engine: 0.4556818000356147\n",
      "Correlation between selling_price and year: 0.4123015581711652\n"
     ]
    }
   ],
   "source": [
    "corr1 = data['selling_price'].corr(data['mileage'])\n",
    "corr2 = data['selling_price'].corr(data['engine'])\n",
    "corr3 = data['selling_price'].corr(data['year'])\n",
    "\n",
    "# The correlation value\n",
    "print(\"Correlation between selling_price and mileage:\", corr1)\n",
    "print(\"Correlation between selling_price and engine:\", corr2)\n",
    "print(\"Correlation between selling_price and year:\", corr3)"
   ]
  },
  {
   "cell_type": "code",
   "execution_count": 40,
   "id": "e6df07f1",
   "metadata": {},
   "outputs": [
    {
     "data": {
      "application/javascript": [
       "\n",
       "        if (window._pyforest_update_imports_cell) { window._pyforest_update_imports_cell('import pandas as pd\\nimport seaborn as sns\\nimport matplotlib.pyplot as plt'); }\n",
       "    "
      ],
      "text/plain": [
       "<IPython.core.display.Javascript object>"
      ]
     },
     "metadata": {},
     "output_type": "display_data"
    },
    {
     "data": {
      "text/plain": [
       "<Axes: xlabel='mileage', ylabel='selling_price'>"
      ]
     },
     "execution_count": 40,
     "metadata": {},
     "output_type": "execute_result"
    },
    {
     "data": {
      "image/png": "[encoded data removed]",
      "text/plain": [
       "<Figure size 640x480 with 1 Axes>"
      ]
     },
     "metadata": {},
     "output_type": "display_data"
    }
   ],
   "source": [
    "sns.scatterplot(y='selling_price',x='mileage',data=data)"
   ]
  },
  {
   "cell_type": "markdown",
   "id": "3c7528aa",
   "metadata": {},
   "source": [
    "### Insight- Effect of car's mileage on selling price of car\n",
    "Weak negative correlation between the two variables. As the mileage of a car increases, the selling price tends to slightly decrease. Cars with more mileage have less selling price whereas, cars with less mileage are associated with higher selling prices. High mileage cars are generally perceived as having more wear and tear, which can lower their resale value. \n",
    "\n",
    "However, the correlation coefficient suggests that the relationship is not very strong, implying that other factors may have a more significant impact on the selling price."
   ]
  },
  {
   "cell_type": "code",
   "execution_count": 41,
   "id": "e9d22f70",
   "metadata": {},
   "outputs": [
    {
     "data": {
      "application/javascript": [
       "\n",
       "        if (window._pyforest_update_imports_cell) { window._pyforest_update_imports_cell('import pandas as pd\\nimport seaborn as sns\\nimport matplotlib.pyplot as plt'); }\n",
       "    "
      ],
      "text/plain": [
       "<IPython.core.display.Javascript object>"
      ]
     },
     "metadata": {},
     "output_type": "display_data"
    },
    {
     "data": {
      "text/plain": [
       "<Axes: xlabel='engine', ylabel='selling_price'>"
      ]
     },
     "execution_count": 41,
     "metadata": {},
     "output_type": "execute_result"
    },
    {
     "data": {
      "image/png": "[encoded data removed]",
      "text/plain": [
       "<Figure size 640x480 with 1 Axes>"
      ]
     },
     "metadata": {},
     "output_type": "display_data"
    }
   ],
   "source": [
    "sns.scatterplot(y='selling_price',x='engine',data=data)"
   ]
  },
  {
   "cell_type": "markdown",
   "id": "b6f9b5d3",
   "metadata": {},
   "source": [
    "### Insight- Effect of engine on selling price of car\n",
    "Moderate positive correlation between the two variables. As the engine size of a car increases, the selling price tends to increase as well. The positive correlation suggests that larger engine sizes are associated with higher selling prices, although it's important to consider other factors that may influence the price. Vehicles with larger engine CCs command higher selling prices, especially among buyers who prioritize performance."
   ]
  },
  {
   "cell_type": "code",
   "execution_count": 42,
   "id": "c9c4dfc9",
   "metadata": {},
   "outputs": [
    {
     "data": {
      "application/javascript": [
       "\n",
       "        if (window._pyforest_update_imports_cell) { window._pyforest_update_imports_cell('import pandas as pd\\nimport seaborn as sns\\nimport matplotlib.pyplot as plt'); }\n",
       "    "
      ],
      "text/plain": [
       "<IPython.core.display.Javascript object>"
      ]
     },
     "metadata": {},
     "output_type": "display_data"
    },
    {
     "data": {
      "text/plain": [
       "<Axes: xlabel='year', ylabel='selling_price'>"
      ]
     },
     "execution_count": 42,
     "metadata": {},
     "output_type": "execute_result"
    },
    {
     "data": {
      "image/png": "[encoded data removed]",
      "text/plain": [
       "<Figure size 640x480 with 1 Axes>"
      ]
     },
     "metadata": {},
     "output_type": "display_data"
    }
   ],
   "source": [
    "sns.scatterplot(y='selling_price',x='year',data=data)"
   ]
  },
  {
   "cell_type": "markdown",
   "id": "1dad4c69",
   "metadata": {},
   "source": [
    "### Insight- Effect of Manufacturing year have on selling price of car\n",
    "Moderate positive correlation between the two variables. As the year of manufacture increases (indicating a more recent car), the selling price tends to increase as well. Cars with manufacturing year from 2015 to 2020 command higher selling prices compared to older ones. This might be because newer cars are often perceived to be in better condition compared to older ones. They may have lower mileage, fewer mechanical issues, and less cosmetic wear and tear, leading to higher selling prices."
   ]
  },
  {
   "cell_type": "markdown",
   "id": "42a5f7bf",
   "metadata": {},
   "source": [
    "### Ques1 (d)\n",
    "- Does the covariance between the selling price of a used car and its mileage suggest a strong or weak relationship between the two variables? \n",
    "- How does this covariance relate to potential buyers who may want to consider the mileage of a car when making purchasing decisions?"
   ]
  },
  {
   "cell_type": "code",
   "execution_count": 43,
   "id": "10ff1818",
   "metadata": {},
   "outputs": [
    {
     "data": {
      "application/javascript": [
       "\n",
       "        if (window._pyforest_update_imports_cell) { window._pyforest_update_imports_cell('import pandas as pd\\nimport seaborn as sns\\nimport matplotlib.pyplot as plt\\nimport numpy as np'); }\n",
       "    "
      ],
      "text/plain": [
       "<IPython.core.display.Javascript object>"
      ]
     },
     "metadata": {},
     "output_type": "display_data"
    },
    {
     "data": {
      "text/plain": [
       "-414682.4053633232"
      ]
     },
     "execution_count": 43,
     "metadata": {},
     "output_type": "execute_result"
    }
   ],
   "source": [
    "covariance_price_mileage = np.cov(data['selling_price'], data['mileage'])[0][1]\n",
    "covariance_price_mileage"
   ]
  },
  {
   "cell_type": "markdown",
   "id": "25daf355",
   "metadata": {},
   "source": [
    "Since the covariance is negative, it suggests an inverse relationship between selling price and mileage. That is, as mileage increases, selling price tends to decrease, and vice versa. However, without knowing the units of measurement for selling price and mileage, we cannot determine the strength of the relationship solely based on covariance.\n",
    "\n",
    "To assess the strength of the relationship between selling price and mileage, we'll have to calculate correlation coefficient.\n",
    "\n",
    "For potential buyers who may want to consider the mileage of a car when making purchasing decisions, negative covariance implies that cars with higher mileage tend to sell for lower prices. Therefore, buyers who prioritize lower prices or are concerned about potential maintenance costs may prefer cars with lower mileage"
   ]
  },
  {
   "cell_type": "markdown",
   "id": "738cef38",
   "metadata": {},
   "source": [
    "### e) If a car has a selling price of over $10,000, what is the probability that it has an automatic transmission?"
   ]
  },
  {
   "cell_type": "code",
   "execution_count": 45,
   "id": "39203b83",
   "metadata": {},
   "outputs": [
    {
     "name": "stdout",
     "output_type": "stream",
     "text": [
      "Probability of Automatic Transmission for Price over $10,000: 0.13167214773589678\n"
     ]
    }
   ],
   "source": [
    "prob_automatic_over_10k = len(data[(data['selling_price'] > 10) & (data['transmission'] == 'Automatic')]) / len(data[data['selling_price'] > 10])\n",
    "print(\"Probability of Automatic Transmission for Price over $10,000:\", prob_automatic_over_10k)"
   ]
  },
  {
   "cell_type": "markdown",
   "id": "17c895dd",
   "metadata": {},
   "source": [
    "### Ques2 (a) \n",
    "- How does the median selling price of cars in the used car dataset vary across different fuel types and transmission types?\n",
    "- Can we group the data by fuel type and transmission type and calculate the median selling price for each group?"
   ]
  },
  {
   "cell_type": "code",
   "execution_count": 46,
   "id": "5a397d67",
   "metadata": {},
   "outputs": [
    {
     "name": "stdout",
     "output_type": "stream",
     "text": [
      "\n",
      "Median Selling Price for Fuel: fuel\n",
      "CNG       330000.0\n",
      "Diesel    550000.0\n",
      "LPG       200000.0\n",
      "Petrol    350000.0\n",
      "Name: selling_price, dtype: float64\n",
      "\n",
      "Median Selling Price for Transmission: transmission\n",
      "Automatic    1100000.0\n",
      "Manual        409999.0\n",
      "Name: selling_price, dtype: float64\n"
     ]
    }
   ],
   "source": [
    "median_price_fuel = data.groupby(['fuel'])['selling_price'].median()\n",
    "median_price_transmission = data.groupby(['transmission'])['selling_price'].median()\n",
    "\n",
    "\n",
    "print(\"\\nMedian Selling Price for Fuel:\" , median_price_fuel)\n",
    "print(\"\\nMedian Selling Price for Transmission:\", median_price_transmission)"
   ]
  },
  {
   "cell_type": "code",
   "execution_count": 47,
   "id": "610c42f5",
   "metadata": {},
   "outputs": [
    {
     "data": {
      "text/plain": [
       "fuel    transmission\n",
       "CNG     Manual           330000.0\n",
       "Diesel  Automatic       2475000.0\n",
       "        Manual           503000.0\n",
       "LPG     Manual           200000.0\n",
       "Petrol  Automatic        650000.0\n",
       "        Manual           310000.0\n",
       "Name: selling_price, dtype: float64"
      ]
     },
     "execution_count": 47,
     "metadata": {},
     "output_type": "execute_result"
    }
   ],
   "source": [
    "median_price_by_fuel_transmission = data.groupby(['fuel', 'transmission'])['selling_price'].median()\n",
    "median_price_by_fuel_transmission"
   ]
  },
  {
   "cell_type": "markdown",
   "id": "b432dad7",
   "metadata": {},
   "source": [
    "#### Insights:\n",
    "\n",
    "- Among the different fuel types, Diesel with Automatic transmission has the highest median selling price of 2,475,000.0. This combination may be preferred by buyers who value the efficiency and convenience of an automatic transmission along with the power and fuel economy of a diesel engine.\n",
    "- Diesel with Manual transmission has the second-highest median selling price of 503,000.0. This suggests that the combination of a diesel engine and manual transmission is also valued by buyers, likely due to the durability, fuel efficiency, and control offered by diesel engines.\n",
    "- Petrol with Automatic transmission has a median selling price of 650,000.0, indicating that this combination is also sought after. Automatic transmissions are generally preferred for their ease of use and smooth driving experience.\n",
    "- Petrol with Manual transmission has a lower median selling price of 310,000.0 compared to the automatic variant. Manual transmissions are often favored by enthusiasts or buyers looking for a more engaging driving experience, and they generally come at a lower price point.\n",
    "- CNG and LPG variants, both with manual transmission, have median selling prices of 330,000.0 and 200,000.0, respectively. These alternative fuel options may appeal to buyers seeking lower fuel costs and reduced emissions."
   ]
  },
  {
   "cell_type": "markdown",
   "id": "2a433a54",
   "metadata": {},
   "source": [
    "### Ques2 (b)\n",
    "- In the context of analyzing the used car market, can we determine if there is a significant difference in prices of cars based on the fuel type they use? \n",
    "- This information can help buyers make informed decisions when purchasing a used car and may also inform government policies aimed at promoting the use of certain types of fuel in vehicles. (frame hypothesis and draw inferences"
   ]
  },
  {
   "cell_type": "code",
   "execution_count": 48,
   "id": "252e8f23",
   "metadata": {},
   "outputs": [
    {
     "data": {
      "application/javascript": [
       "\n",
       "        if (window._pyforest_update_imports_cell) { window._pyforest_update_imports_cell('import pandas as pd\\nimport seaborn as sns\\nimport matplotlib.pyplot as plt\\nimport numpy as np'); }\n",
       "    "
      ],
      "text/plain": [
       "<IPython.core.display.Javascript object>"
      ]
     },
     "metadata": {},
     "output_type": "display_data"
    },
    {
     "data": {
      "application/javascript": [
       "\n",
       "        if (window._pyforest_update_imports_cell) { window._pyforest_update_imports_cell('import pandas as pd\\nimport seaborn as sns\\nimport matplotlib.pyplot as plt\\nimport numpy as np'); }\n",
       "    "
      ],
      "text/plain": [
       "<IPython.core.display.Javascript object>"
      ]
     },
     "metadata": {},
     "output_type": "display_data"
    },
    {
     "data": {
      "application/javascript": [
       "\n",
       "        if (window._pyforest_update_imports_cell) { window._pyforest_update_imports_cell('import pandas as pd\\nimport seaborn as sns\\nimport matplotlib.pyplot as plt\\nimport numpy as np'); }\n",
       "    "
      ],
      "text/plain": [
       "<IPython.core.display.Javascript object>"
      ]
     },
     "metadata": {},
     "output_type": "display_data"
    },
    {
     "data": {
      "image/png": "[encoded data removed]",
      "text/plain": [
       "<Figure size 640x480 with 1 Axes>"
      ]
     },
     "metadata": {},
     "output_type": "display_data"
    }
   ],
   "source": [
    "sns.barplot(x=data['fuel'],y=data['selling_price'])\n",
    "plt.title(\"Selling price and fuel type\")\n",
    "plt.show()"
   ]
  },
  {
   "cell_type": "code",
   "execution_count": 49,
   "id": "8c8538d1",
   "metadata": {},
   "outputs": [
    {
     "name": "stdout",
     "output_type": "stream",
     "text": [
      "T-statistic: -18.124727173371923\n",
      "P-value: 5.961371756123761e-72\n",
      "Reject the null hypothesis\n",
      "There is a significant difference in prices based on fuel type(petrol and diesel)\n"
     ]
    }
   ],
   "source": [
    "petrol_price = data.loc[data['fuel'] == 'Petrol', 'selling_price']\n",
    "diesel_price = data.loc[data['fuel'] == 'Diesel', 'selling_price']\n",
    "cng_price = data.loc[data['fuel'] == 'CNG', 'selling_price']\n",
    "lpg_price = data.loc[data['fuel'] == 'LPG', 'selling_price']\n",
    "\n",
    "\n",
    "# Perform an independent sample t-test\n",
    "t_statistic, p_value = st.ttest_ind(petrol_price, diesel_price)\n",
    "\n",
    "\n",
    "# The t-statistic and p-value\n",
    "print(\"T-statistic:\", t_statistic)\n",
    "print(\"P-value:\", p_value)\n",
    "\n",
    "# Define the significance level (alpha)\n",
    "alpha = 0.05\n",
    "\n",
    "\n",
    "# Compare the p-value with the significance level\n",
    "if p_value < alpha:\n",
    "    print(\"Reject the null hypothesis\")\n",
    "    print(\"There is a significant difference in prices based on fuel type(petrol and diesel)\")\n",
    "else:\n",
    "    print(\"Fail to reject the null hypothesis\")\n",
    "    print(\"There is no significant difference in prices based on fuel type(petrol and diesel)\")\n"
   ]
  },
  {
   "cell_type": "markdown",
   "id": "3629b35f",
   "metadata": {},
   "source": [
    "### Ques3 (a) \n",
    "- In the used car dataset, there are some mileage values that are represented in units other than miles, such as kilometers.\n",
    "- Convert these values into miles and check the mileage distribution. (Note: Convert mileage in kilometers to miles by multiplying by 0.621371.)"
   ]
  },
  {
   "cell_type": "code",
   "execution_count": 50,
   "id": "217c7c1f",
   "metadata": {},
   "outputs": [],
   "source": [
    "## Since all values are given in kilometers so we add new column as mileage_miles\n",
    "data['mileage'] = data['mileage'] * 0.621371"
   ]
  },
  {
   "cell_type": "code",
   "execution_count": 51,
   "id": "d6f2e402",
   "metadata": {},
   "outputs": [
    {
     "data": {
      "text/plain": [
       "0       14.540081\n",
       "1       13.135783\n",
       "2       10.998267\n",
       "3       14.291533\n",
       "4       10.004073\n",
       "          ...    \n",
       "7901    11.495363\n",
       "7902    10.439033\n",
       "7903    11.992460\n",
       "7904    14.645714\n",
       "7905    14.645714\n",
       "Name: mileage, Length: 7906, dtype: float64"
      ]
     },
     "execution_count": 51,
     "metadata": {},
     "output_type": "execute_result"
    }
   ],
   "source": [
    "data['mileage']"
   ]
  },
  {
   "cell_type": "code",
   "execution_count": 52,
   "id": "dc7b2848",
   "metadata": {},
   "outputs": [
    {
     "data": {
      "application/javascript": [
       "\n",
       "        if (window._pyforest_update_imports_cell) { window._pyforest_update_imports_cell('import pandas as pd\\nimport seaborn as sns\\nimport matplotlib.pyplot as plt\\nimport numpy as np'); }\n",
       "    "
      ],
      "text/plain": [
       "<IPython.core.display.Javascript object>"
      ]
     },
     "metadata": {},
     "output_type": "display_data"
    },
    {
     "data": {
      "text/plain": [
       "<Axes: xlabel='mileage', ylabel='Density'>"
      ]
     },
     "execution_count": 52,
     "metadata": {},
     "output_type": "execute_result"
    },
    {
     "data": {
      "image/png": "[encoded data removed]",
      "text/plain": [
       "<Figure size 640x480 with 1 Axes>"
      ]
     },
     "metadata": {},
     "output_type": "display_data"
    }
   ],
   "source": [
    "sns.distplot(data.mileage)"
   ]
  },
  {
   "cell_type": "markdown",
   "id": "9faeee23",
   "metadata": {},
   "source": [
    "####  Mileage distribution after convrting to miles looks approximately like normal distribution"
   ]
  },
  {
   "cell_type": "markdown",
   "id": "6b1ac125",
   "metadata": {},
   "source": [
    "### Ques3 (b) \n",
    "- You are a data analyst working for a car dealership company. Investigate whether there is a statistically significant difference in the distribution of the number of seats between cars with automatic and manual transmissions. Perform a hypothesis test to determine whether there is a significant difference in the number of seats for cars with automatic and manual transmissions"
   ]
  },
  {
   "cell_type": "markdown",
   "id": "f36843b9",
   "metadata": {},
   "source": [
    "#### Assumption: Data is normally distributed\n",
    "H0: There is no significant difference in the number of seats between cars with automatic and manual transmissions.\n",
    "\n",
    "H1: There is significant difference in the number of seats between cars with automatic and manual transmissions."
   ]
  },
  {
   "cell_type": "code",
   "execution_count": 53,
   "id": "2b892a37",
   "metadata": {},
   "outputs": [],
   "source": [
    "alpha=0.5\n",
    "seat_automatic=data[data.transmission=='Automatic']['seats']\n",
    "seat_manual=data[data.transmission=='Manual']['seats']"
   ]
  },
  {
   "cell_type": "markdown",
   "id": "89047ee8",
   "metadata": {},
   "source": [
    "Asuumptions:\n",
    "\n",
    "1.Test of Normality:\n",
    "\n",
    "Since the sample size are>30 --> as per CLT, the sampling distribution follows normal;\n",
    "\n",
    "2.Test of Variance Equality: Leven Test; alpha=0.05 We need to check wether the populations variance are equal or not?\n",
    "\n",
    "H0: pop1_var=Pop2_var;\n",
    "\n",
    "H1:pop1_var != pop2_var;"
   ]
  },
  {
   "cell_type": "code",
   "execution_count": 54,
   "id": "718d518b",
   "metadata": {},
   "outputs": [
    {
     "data": {
      "text/plain": [
       "LeveneResult(statistic=45.65848879649594, pvalue=1.5076146904294063e-11)"
      ]
     },
     "execution_count": 54,
     "metadata": {},
     "output_type": "execute_result"
    }
   ],
   "source": [
    "st.levene(seat_automatic,seat_manual)"
   ]
  },
  {
   "cell_type": "markdown",
   "id": "7304b82f",
   "metadata": {},
   "source": [
    "Inference: pvalue(0.000000000001)<alpha(0.05)---> reject H0; We can conclude that the population variances are different"
   ]
  },
  {
   "cell_type": "code",
   "execution_count": 55,
   "id": "4816cd0a",
   "metadata": {},
   "outputs": [
    {
     "data": {
      "text/plain": [
       "Ttest_indResult(statistic=-8.180937812361945, pvalue=5.4468421426690085e-16)"
      ]
     },
     "execution_count": 55,
     "metadata": {},
     "output_type": "execute_result"
    }
   ],
   "source": [
    "st.ttest_ind(seat_automatic,seat_manual,equal_var=False)"
   ]
  },
  {
   "cell_type": "markdown",
   "id": "d84f7dfc",
   "metadata": {},
   "source": [
    "### Inferences-\n",
    "Since the p-value(close to 0) is extremely small we reject the null hypothesis. Therefore, there is significant difference in the number of seats between cars with automatic and manual transmissions. \n",
    "\n",
    "The negative t-statistic indicates that, on average, cars with automatic transmissions have fewer seats compared to cars with manual transmissions.\n"
   ]
  },
  {
   "cell_type": "code",
   "execution_count": 56,
   "id": "38de310c",
   "metadata": {},
   "outputs": [
    {
     "data": {
      "application/javascript": [
       "\n",
       "        if (window._pyforest_update_imports_cell) { window._pyforest_update_imports_cell('import pandas as pd\\nimport seaborn as sns\\nimport matplotlib.pyplot as plt\\nimport numpy as np'); }\n",
       "    "
      ],
      "text/plain": [
       "<IPython.core.display.Javascript object>"
      ]
     },
     "metadata": {},
     "output_type": "display_data"
    },
    {
     "data": {
      "application/javascript": [
       "\n",
       "        if (window._pyforest_update_imports_cell) { window._pyforest_update_imports_cell('import pandas as pd\\nimport seaborn as sns\\nimport matplotlib.pyplot as plt\\nimport numpy as np'); }\n",
       "    "
      ],
      "text/plain": [
       "<IPython.core.display.Javascript object>"
      ]
     },
     "metadata": {},
     "output_type": "display_data"
    },
    {
     "data": {
      "application/javascript": [
       "\n",
       "        if (window._pyforest_update_imports_cell) { window._pyforest_update_imports_cell('import pandas as pd\\nimport seaborn as sns\\nimport matplotlib.pyplot as plt\\nimport numpy as np'); }\n",
       "    "
      ],
      "text/plain": [
       "<IPython.core.display.Javascript object>"
      ]
     },
     "metadata": {},
     "output_type": "display_data"
    },
    {
     "data": {
      "application/javascript": [
       "\n",
       "        if (window._pyforest_update_imports_cell) { window._pyforest_update_imports_cell('import pandas as pd\\nimport seaborn as sns\\nimport matplotlib.pyplot as plt\\nimport numpy as np'); }\n",
       "    "
      ],
      "text/plain": [
       "<IPython.core.display.Javascript object>"
      ]
     },
     "metadata": {},
     "output_type": "display_data"
    },
    {
     "data": {
      "application/javascript": [
       "\n",
       "        if (window._pyforest_update_imports_cell) { window._pyforest_update_imports_cell('import pandas as pd\\nimport seaborn as sns\\nimport matplotlib.pyplot as plt\\nimport numpy as np'); }\n",
       "    "
      ],
      "text/plain": [
       "<IPython.core.display.Javascript object>"
      ]
     },
     "metadata": {},
     "output_type": "display_data"
    },
    {
     "data": {
      "application/javascript": [
       "\n",
       "        if (window._pyforest_update_imports_cell) { window._pyforest_update_imports_cell('import pandas as pd\\nimport seaborn as sns\\nimport matplotlib.pyplot as plt\\nimport numpy as np'); }\n",
       "    "
      ],
      "text/plain": [
       "<IPython.core.display.Javascript object>"
      ]
     },
     "metadata": {},
     "output_type": "display_data"
    },
    {
     "data": {
      "application/javascript": [
       "\n",
       "        if (window._pyforest_update_imports_cell) { window._pyforest_update_imports_cell('import pandas as pd\\nimport seaborn as sns\\nimport matplotlib.pyplot as plt\\nimport numpy as np'); }\n",
       "    "
      ],
      "text/plain": [
       "<IPython.core.display.Javascript object>"
      ]
     },
     "metadata": {},
     "output_type": "display_data"
    },
    {
     "data": {
      "image/png": "[encoded data removed]",
      "text/plain": [
       "<Figure size 800x600 with 1 Axes>"
      ]
     },
     "metadata": {},
     "output_type": "display_data"
    }
   ],
   "source": [
    "plt.figure(figsize=(8, 6))\n",
    "plt.hist([seat_automatic, seat_manual], bins=10, label=['Automatic', 'Manual'])\n",
    "\n",
    "# Set plot labels and title\n",
    "plt.xlabel('Number of Seats')\n",
    "plt.ylabel('Frequency')\n",
    "plt.title('Distribution of Number of Seats by Transmission Type')\n",
    "\n",
    "plt.legend()\n",
    "\n",
    "plt.show()"
   ]
  },
  {
   "cell_type": "markdown",
   "id": "59adfad5",
   "metadata": {},
   "source": [
    "### Q(4) \n",
    "### a) Create a stacked histogram to analyze the distribution of mileage for cars based on their fuel type and transmission."
   ]
  },
  {
   "cell_type": "code",
   "execution_count": 57,
   "id": "a897f7fa",
   "metadata": {
    "scrolled": true
   },
   "outputs": [
    {
     "data": {
      "application/javascript": [
       "\n",
       "        if (window._pyforest_update_imports_cell) { window._pyforest_update_imports_cell('import pandas as pd\\nimport seaborn as sns\\nimport matplotlib.pyplot as plt\\nimport numpy as np'); }\n",
       "    "
      ],
      "text/plain": [
       "<IPython.core.display.Javascript object>"
      ]
     },
     "metadata": {},
     "output_type": "display_data"
    },
    {
     "data": {
      "application/javascript": [
       "\n",
       "        if (window._pyforest_update_imports_cell) { window._pyforest_update_imports_cell('import pandas as pd\\nimport seaborn as sns\\nimport matplotlib.pyplot as plt\\nimport numpy as np'); }\n",
       "    "
      ],
      "text/plain": [
       "<IPython.core.display.Javascript object>"
      ]
     },
     "metadata": {},
     "output_type": "display_data"
    },
    {
     "data": {
      "application/javascript": [
       "\n",
       "        if (window._pyforest_update_imports_cell) { window._pyforest_update_imports_cell('import pandas as pd\\nimport seaborn as sns\\nimport matplotlib.pyplot as plt\\nimport numpy as np'); }\n",
       "    "
      ],
      "text/plain": [
       "<IPython.core.display.Javascript object>"
      ]
     },
     "metadata": {},
     "output_type": "display_data"
    },
    {
     "data": {
      "application/javascript": [
       "\n",
       "        if (window._pyforest_update_imports_cell) { window._pyforest_update_imports_cell('import pandas as pd\\nimport seaborn as sns\\nimport matplotlib.pyplot as plt\\nimport numpy as np'); }\n",
       "    "
      ],
      "text/plain": [
       "<IPython.core.display.Javascript object>"
      ]
     },
     "metadata": {},
     "output_type": "display_data"
    },
    {
     "data": {
      "application/javascript": [
       "\n",
       "        if (window._pyforest_update_imports_cell) { window._pyforest_update_imports_cell('import pandas as pd\\nimport seaborn as sns\\nimport matplotlib.pyplot as plt\\nimport numpy as np'); }\n",
       "    "
      ],
      "text/plain": [
       "<IPython.core.display.Javascript object>"
      ]
     },
     "metadata": {},
     "output_type": "display_data"
    },
    {
     "data": {
      "application/javascript": [
       "\n",
       "        if (window._pyforest_update_imports_cell) { window._pyforest_update_imports_cell('import pandas as pd\\nimport seaborn as sns\\nimport matplotlib.pyplot as plt\\nimport numpy as np'); }\n",
       "    "
      ],
      "text/plain": [
       "<IPython.core.display.Javascript object>"
      ]
     },
     "metadata": {},
     "output_type": "display_data"
    },
    {
     "data": {
      "image/png": "[encoded data removed]",
      "text/plain": [
       "<Figure size 1000x600 with 1 Axes>"
      ]
     },
     "metadata": {},
     "output_type": "display_data"
    }
   ],
   "source": [
    "plt.figure(figsize=(10, 6))\n",
    "sns.histplot(data, x='km_driven', hue='fuel', multiple='stack', bins=20)\n",
    "plt.title('Distribution of Mileage for cars by Fuel Type and Transmission')\n",
    "plt.xlabel('Mileage (in KM)')\n",
    "plt.ylabel('Count')\n",
    "plt.show()"
   ]
  },
  {
   "cell_type": "code",
   "execution_count": 58,
   "id": "073178d2",
   "metadata": {},
   "outputs": [
    {
     "data": {
      "application/javascript": [
       "\n",
       "        if (window._pyforest_update_imports_cell) { window._pyforest_update_imports_cell('import pandas as pd\\nimport seaborn as sns\\nimport matplotlib.pyplot as plt\\nimport numpy as np'); }\n",
       "    "
      ],
      "text/plain": [
       "<IPython.core.display.Javascript object>"
      ]
     },
     "metadata": {},
     "output_type": "display_data"
    },
    {
     "data": {
      "application/javascript": [
       "\n",
       "        if (window._pyforest_update_imports_cell) { window._pyforest_update_imports_cell('import pandas as pd\\nimport seaborn as sns\\nimport matplotlib.pyplot as plt\\nimport numpy as np'); }\n",
       "    "
      ],
      "text/plain": [
       "<IPython.core.display.Javascript object>"
      ]
     },
     "metadata": {},
     "output_type": "display_data"
    },
    {
     "data": {
      "application/javascript": [
       "\n",
       "        if (window._pyforest_update_imports_cell) { window._pyforest_update_imports_cell('import pandas as pd\\nimport seaborn as sns\\nimport matplotlib.pyplot as plt\\nimport numpy as np'); }\n",
       "    "
      ],
      "text/plain": [
       "<IPython.core.display.Javascript object>"
      ]
     },
     "metadata": {},
     "output_type": "display_data"
    },
    {
     "data": {
      "application/javascript": [
       "\n",
       "        if (window._pyforest_update_imports_cell) { window._pyforest_update_imports_cell('import pandas as pd\\nimport seaborn as sns\\nimport matplotlib.pyplot as plt\\nimport numpy as np'); }\n",
       "    "
      ],
      "text/plain": [
       "<IPython.core.display.Javascript object>"
      ]
     },
     "metadata": {},
     "output_type": "display_data"
    },
    {
     "data": {
      "application/javascript": [
       "\n",
       "        if (window._pyforest_update_imports_cell) { window._pyforest_update_imports_cell('import pandas as pd\\nimport seaborn as sns\\nimport matplotlib.pyplot as plt\\nimport numpy as np'); }\n",
       "    "
      ],
      "text/plain": [
       "<IPython.core.display.Javascript object>"
      ]
     },
     "metadata": {},
     "output_type": "display_data"
    },
    {
     "data": {
      "application/javascript": [
       "\n",
       "        if (window._pyforest_update_imports_cell) { window._pyforest_update_imports_cell('import pandas as pd\\nimport seaborn as sns\\nimport matplotlib.pyplot as plt\\nimport numpy as np'); }\n",
       "    "
      ],
      "text/plain": [
       "<IPython.core.display.Javascript object>"
      ]
     },
     "metadata": {},
     "output_type": "display_data"
    },
    {
     "data": {
      "application/javascript": [
       "\n",
       "        if (window._pyforest_update_imports_cell) { window._pyforest_update_imports_cell('import pandas as pd\\nimport seaborn as sns\\nimport matplotlib.pyplot as plt\\nimport numpy as np'); }\n",
       "    "
      ],
      "text/plain": [
       "<IPython.core.display.Javascript object>"
      ]
     },
     "metadata": {},
     "output_type": "display_data"
    },
    {
     "data": {
      "application/javascript": [
       "\n",
       "        if (window._pyforest_update_imports_cell) { window._pyforest_update_imports_cell('import pandas as pd\\nimport seaborn as sns\\nimport matplotlib.pyplot as plt\\nimport numpy as np'); }\n",
       "    "
      ],
      "text/plain": [
       "<IPython.core.display.Javascript object>"
      ]
     },
     "metadata": {},
     "output_type": "display_data"
    },
    {
     "data": {
      "application/javascript": [
       "\n",
       "        if (window._pyforest_update_imports_cell) { window._pyforest_update_imports_cell('import pandas as pd\\nimport seaborn as sns\\nimport matplotlib.pyplot as plt\\nimport numpy as np'); }\n",
       "    "
      ],
      "text/plain": [
       "<IPython.core.display.Javascript object>"
      ]
     },
     "metadata": {},
     "output_type": "display_data"
    },
    {
     "data": {
      "application/javascript": [
       "\n",
       "        if (window._pyforest_update_imports_cell) { window._pyforest_update_imports_cell('import pandas as pd\\nimport seaborn as sns\\nimport matplotlib.pyplot as plt\\nimport numpy as np'); }\n",
       "    "
      ],
      "text/plain": [
       "<IPython.core.display.Javascript object>"
      ]
     },
     "metadata": {},
     "output_type": "display_data"
    },
    {
     "data": {
      "application/javascript": [
       "\n",
       "        if (window._pyforest_update_imports_cell) { window._pyforest_update_imports_cell('import pandas as pd\\nimport seaborn as sns\\nimport matplotlib.pyplot as plt\\nimport numpy as np'); }\n",
       "    "
      ],
      "text/plain": [
       "<IPython.core.display.Javascript object>"
      ]
     },
     "metadata": {},
     "output_type": "display_data"
    },
    {
     "data": {
      "application/javascript": [
       "\n",
       "        if (window._pyforest_update_imports_cell) { window._pyforest_update_imports_cell('import pandas as pd\\nimport seaborn as sns\\nimport matplotlib.pyplot as plt\\nimport numpy as np'); }\n",
       "    "
      ],
      "text/plain": [
       "<IPython.core.display.Javascript object>"
      ]
     },
     "metadata": {},
     "output_type": "display_data"
    },
    {
     "data": {
      "application/javascript": [
       "\n",
       "        if (window._pyforest_update_imports_cell) { window._pyforest_update_imports_cell('import pandas as pd\\nimport seaborn as sns\\nimport matplotlib.pyplot as plt\\nimport numpy as np'); }\n",
       "    "
      ],
      "text/plain": [
       "<IPython.core.display.Javascript object>"
      ]
     },
     "metadata": {},
     "output_type": "display_data"
    },
    {
     "data": {
      "application/javascript": [
       "\n",
       "        if (window._pyforest_update_imports_cell) { window._pyforest_update_imports_cell('import pandas as pd\\nimport seaborn as sns\\nimport matplotlib.pyplot as plt\\nimport numpy as np'); }\n",
       "    "
      ],
      "text/plain": [
       "<IPython.core.display.Javascript object>"
      ]
     },
     "metadata": {},
     "output_type": "display_data"
    },
    {
     "data": {
      "image/png": "[encoded data removed]",
      "text/plain": [
       "<Figure size 800x800 with 1 Axes>"
      ]
     },
     "metadata": {},
     "output_type": "display_data"
    }
   ],
   "source": [
    "petrol_manual = data[(data['fuel'] == 'Petrol') & (data['transmission'] == 'Manual')]\n",
    "petrol_auto = data[(data['fuel'] == 'Petrol') & (data['transmission'] == 'Automatic')]\n",
    "diesel_manual = data[(data['fuel'] == 'Diesel') & (data['transmission'] == 'Manual')]\n",
    "diesel_auto = data[(data['fuel'] == 'Diesel') & (data['transmission'] == 'Automatic')]\n",
    "cng_manual = data[(data['fuel'] == 'CNG') & (data['transmission'] == 'Manual')]\n",
    "cng_auto = data[(data['fuel'] == 'CNG') & (data['transmission'] == 'Automatic')]\n",
    "lpg_manual = data[(data['fuel'] == 'LPG') & (data['transmission'] == 'Manual')]\n",
    "lpg_auto = data[(data['fuel'] == 'LPG') & (data['transmission'] == 'Automatic')]\n",
    "# Set up the figure and axes\n",
    "fig, ax = plt.subplots(figsize=(8,8))\n",
    "\n",
    "# Create stacked histograms for each group\n",
    "plt.hist(petrol_manual['mileage'], bins=20, alpha=0.7, label='Petrol - Manual', color='blue', stacked=True)\n",
    "plt.hist(petrol_auto['mileage'], bins=20, alpha=0.7, label='Petrol - Automatic', color='green', stacked=True)\n",
    "plt.hist(diesel_manual['mileage'], bins=20, alpha=0.7, label='Diesel - Manual', color='orange', stacked=True)\n",
    "plt.hist(diesel_auto['mileage'], bins=20, alpha=0.7, label='Diesel - Automatic', color='red', stacked=True)\n",
    "plt.hist(cng_manual['mileage'], bins=20, alpha=0.7, label='CNG - Manual', color='yellow', stacked=True)\n",
    "plt.hist(cng_auto['mileage'], bins=20, alpha=0.7, label='CNG - Automatic', color='purple', stacked=True)\n",
    "plt.hist(lpg_manual['mileage'], bins=20, alpha=0.7, label='LPG - Manual', color='cyan', stacked=True)\n",
    "plt.hist(lpg_auto['mileage'], bins=20, alpha=0.7, label='LPG - Automatic', color='magenta', stacked=True)\n",
    "\n",
    "# Add labels and title\n",
    "plt.xlabel('Mileage')\n",
    "plt.ylabel('Frequency')\n",
    "plt.title('Distribution of Mileage by Fuel Type and Transmission')\n",
    "\n",
    "# Add legend\n",
    "plt.legend()\n",
    "\n",
    "# Show the plot\n",
    "plt.show()"
   ]
  },
  {
   "cell_type": "markdown",
   "id": "2759f582",
   "metadata": {},
   "source": [
    "### Ques4 (b)\n",
    "- As a data analyst in a car dealership company, you are analyzing the company's sales data to identify any significant differences in the selling prices of cars based on the fuel type. If there is a statistically significant difference in the selling price distribution for different fuel types, which fuel types have the highest and lowest selling prices? Your task is to perform an analysis of the data and report your findings to the management."
   ]
  },
  {
   "cell_type": "code",
   "execution_count": 59,
   "id": "ec27e7e3",
   "metadata": {},
   "outputs": [
    {
     "data": {
      "application/javascript": [
       "\n",
       "        if (window._pyforest_update_imports_cell) { window._pyforest_update_imports_cell('from scipy import stats\\nimport pandas as pd\\nimport matplotlib.pyplot as plt\\nimport seaborn as sns\\nimport numpy as np'); }\n",
       "    "
      ],
      "text/plain": [
       "<IPython.core.display.Javascript object>"
      ]
     },
     "metadata": {},
     "output_type": "display_data"
    },
    {
     "name": "stdout",
     "output_type": "stream",
     "text": [
      "F-Statistics of the ANOVA test is: 117.30554435257852\n",
      "\n",
      "p-value of the ANOVA test is: 2.52340474514499e-74\n"
     ]
    }
   ],
   "source": [
    "# Hypothesis testing for price difference based on fuel type\n",
    "# Assumption: Data is normally distributed\n",
    "## H0: There is no significant difference in the selling price distribution for different fuel types.\n",
    "## H1:there is a statistically significant difference in the selling price distribution for different fuel types.\n",
    "fuel_types=data['fuel'].unique()\n",
    "price_by_fuel = [data[data['fuel'] == fuel]['selling_price'] for fuel in fuel_types]\n",
    "f_stat_price_fuel, p_value_price_fuel = stats.f_oneway(*price_by_fuel)\n",
    "print(\"F-Statistics of the ANOVA test is:\",f_stat_price_fuel)\n",
    "print(\"\\np-value of the ANOVA test is:\",p_value_price_fuel)"
   ]
  },
  {
   "cell_type": "markdown",
   "id": "c78a8cda",
   "metadata": {},
   "source": [
    "### Inferences-\n",
    "Since the p-value is extremely small (much smaller than the commonly used significance level of 0.05), we reject the null hypothesis.  This indicates that there is a statistically significant difference in the selling price distribution for different fuel types."
   ]
  },
  {
   "cell_type": "code",
   "execution_count": 60,
   "id": "308dd644",
   "metadata": {},
   "outputs": [
    {
     "name": "stdout",
     "output_type": "stream",
     "text": [
      "Mean Selling Prices by Fuel Type:\n",
      "fuel\n",
      "CNG       317903.788462\n",
      "Diesel    802450.282624\n",
      "LPG       210885.714286\n",
      "Petrol    472665.203125\n",
      "Name: selling_price, dtype: float64\n"
     ]
    }
   ],
   "source": [
    "## To determine which fuel types have the highest and lowest selling prices\n",
    "# Calculate mean selling prices for each fuel type\n",
    "mean_price_by_fuel = data.groupby('fuel')['selling_price'].mean()\n",
    "\n",
    "# Print mean selling prices for each fuel type\n",
    "print(\"Mean Selling Prices by Fuel Type:\")\n",
    "print(mean_price_by_fuel)"
   ]
  },
  {
   "cell_type": "markdown",
   "id": "2f79b074",
   "metadata": {},
   "source": [
    "### Inferences-\n",
    "After calculating the mean selling prices for each fuel type, we can see that Diesel has highest selling price whereas LPG has lowest selling price"
   ]
  },
  {
   "cell_type": "markdown",
   "id": "0039c816",
   "metadata": {},
   "source": [
    "### Q(5) \n",
    "### a) How many cars are there in each make and model category in the used car dataset? Can we provide a distribution of the cars based on their make and model?"
   ]
  },
  {
   "cell_type": "code",
   "execution_count": 61,
   "id": "48c1b45a",
   "metadata": {},
   "outputs": [
    {
     "data": {
      "text/html": [
       "<div>\n",
       "<style scoped>\n",
       "    .dataframe tbody tr th:only-of-type {\n",
       "        vertical-align: middle;\n",
       "    }\n",
       "\n",
       "    .dataframe tbody tr th {\n",
       "        vertical-align: top;\n",
       "    }\n",
       "\n",
       "    .dataframe thead th {\n",
       "        text-align: right;\n",
       "    }\n",
       "</style>\n",
       "<table border=\"1\" class=\"dataframe\">\n",
       "  <thead>\n",
       "    <tr style=\"text-align: right;\">\n",
       "      <th></th>\n",
       "      <th>name</th>\n",
       "      <th>count</th>\n",
       "    </tr>\n",
       "  </thead>\n",
       "  <tbody>\n",
       "    <tr>\n",
       "      <th>0</th>\n",
       "      <td>Maruti Swift Dzire VDI</td>\n",
       "      <td>129</td>\n",
       "    </tr>\n",
       "    <tr>\n",
       "      <th>1</th>\n",
       "      <td>Maruti Alto 800 LXI</td>\n",
       "      <td>82</td>\n",
       "    </tr>\n",
       "    <tr>\n",
       "      <th>2</th>\n",
       "      <td>Maruti Alto LXi</td>\n",
       "      <td>71</td>\n",
       "    </tr>\n",
       "    <tr>\n",
       "      <th>3</th>\n",
       "      <td>BMW X4 M Sport X xDrive20d</td>\n",
       "      <td>62</td>\n",
       "    </tr>\n",
       "    <tr>\n",
       "      <th>4</th>\n",
       "      <td>Maruti Swift VDI</td>\n",
       "      <td>61</td>\n",
       "    </tr>\n",
       "    <tr>\n",
       "      <th>...</th>\n",
       "      <td>...</td>\n",
       "      <td>...</td>\n",
       "    </tr>\n",
       "    <tr>\n",
       "      <th>1977</th>\n",
       "      <td>Honda Jazz 1.2 S AT i VTEC</td>\n",
       "      <td>1</td>\n",
       "    </tr>\n",
       "    <tr>\n",
       "      <th>1978</th>\n",
       "      <td>Hyundai i20 Active 1.2 SX with AVN</td>\n",
       "      <td>1</td>\n",
       "    </tr>\n",
       "    <tr>\n",
       "      <th>1979</th>\n",
       "      <td>Ambassador CLASSIC 1500 DSL AC</td>\n",
       "      <td>1</td>\n",
       "    </tr>\n",
       "    <tr>\n",
       "      <th>1980</th>\n",
       "      <td>Tata Harrier XZ Dark Edition BSIV</td>\n",
       "      <td>1</td>\n",
       "    </tr>\n",
       "    <tr>\n",
       "      <th>1981</th>\n",
       "      <td>Toyota Innova 2.5 GX (Diesel) 8 Seater BS IV</td>\n",
       "      <td>1</td>\n",
       "    </tr>\n",
       "  </tbody>\n",
       "</table>\n",
       "<p>1982 rows × 2 columns</p>\n",
       "</div>"
      ],
      "text/plain": [
       "                                              name  count\n",
       "0                           Maruti Swift Dzire VDI    129\n",
       "1                              Maruti Alto 800 LXI     82\n",
       "2                                  Maruti Alto LXi     71\n",
       "3                       BMW X4 M Sport X xDrive20d     62\n",
       "4                                 Maruti Swift VDI     61\n",
       "...                                            ...    ...\n",
       "1977                    Honda Jazz 1.2 S AT i VTEC      1\n",
       "1978            Hyundai i20 Active 1.2 SX with AVN      1\n",
       "1979                Ambassador CLASSIC 1500 DSL AC      1\n",
       "1980             Tata Harrier XZ Dark Edition BSIV      1\n",
       "1981  Toyota Innova 2.5 GX (Diesel) 8 Seater BS IV      1\n",
       "\n",
       "[1982 rows x 2 columns]"
      ]
     },
     "execution_count": 61,
     "metadata": {},
     "output_type": "execute_result"
    }
   ],
   "source": [
    "car_distribution = data['name'].value_counts()\n",
    "car_distribution.reset_index()"
   ]
  },
  {
   "cell_type": "code",
   "execution_count": 62,
   "id": "fca6aa31",
   "metadata": {},
   "outputs": [
    {
     "data": {
      "text/plain": [
       "make\n",
       "Maruti           2367\n",
       "Hyundai          1360\n",
       "Mahindra          758\n",
       "Tata              719\n",
       "Honda             466\n",
       "Toyota            452\n",
       "Ford              388\n",
       "Chevrolet         230\n",
       "Renault           228\n",
       "Volkswagen        185\n",
       "BMW               118\n",
       "Skoda             104\n",
       "Nissan             81\n",
       "Jaguar             71\n",
       "Volvo              67\n",
       "Datsun             65\n",
       "Mercedes-Benz      54\n",
       "Fiat               41\n",
       "Audi               40\n",
       "Lexus              34\n",
       "Jeep               31\n",
       "Mitsubishi         14\n",
       "Force               6\n",
       "Land                6\n",
       "Isuzu               5\n",
       "Kia                 4\n",
       "Ambassador          4\n",
       "Daewoo              3\n",
       "MG                  3\n",
       "Ashok               1\n",
       "Opel                1\n",
       "Name: count, dtype: int64"
      ]
     },
     "execution_count": 62,
     "metadata": {},
     "output_type": "execute_result"
    }
   ],
   "source": [
    "data[['make','model']]=data['name'].str.split(' ',n=1,expand=True)\n",
    "data['make'].value_counts()"
   ]
  },
  {
   "cell_type": "code",
   "execution_count": 63,
   "id": "69a6fe3f",
   "metadata": {},
   "outputs": [
    {
     "data": {
      "application/javascript": [
       "\n",
       "        if (window._pyforest_update_imports_cell) { window._pyforest_update_imports_cell('from scipy import stats\\nimport pandas as pd\\nimport matplotlib.pyplot as plt\\nimport seaborn as sns\\nimport numpy as np'); }\n",
       "    "
      ],
      "text/plain": [
       "<IPython.core.display.Javascript object>"
      ]
     },
     "metadata": {},
     "output_type": "display_data"
    },
    {
     "data": {
      "application/javascript": [
       "\n",
       "        if (window._pyforest_update_imports_cell) { window._pyforest_update_imports_cell('from scipy import stats\\nimport pandas as pd\\nimport matplotlib.pyplot as plt\\nimport seaborn as sns\\nimport numpy as np'); }\n",
       "    "
      ],
      "text/plain": [
       "<IPython.core.display.Javascript object>"
      ]
     },
     "metadata": {},
     "output_type": "display_data"
    },
    {
     "data": {
      "application/javascript": [
       "\n",
       "        if (window._pyforest_update_imports_cell) { window._pyforest_update_imports_cell('from scipy import stats\\nimport pandas as pd\\nimport matplotlib.pyplot as plt\\nimport seaborn as sns\\nimport numpy as np'); }\n",
       "    "
      ],
      "text/plain": [
       "<IPython.core.display.Javascript object>"
      ]
     },
     "metadata": {},
     "output_type": "display_data"
    },
    {
     "data": {
      "application/javascript": [
       "\n",
       "        if (window._pyforest_update_imports_cell) { window._pyforest_update_imports_cell('from scipy import stats\\nimport pandas as pd\\nimport matplotlib.pyplot as plt\\nimport seaborn as sns\\nimport numpy as np'); }\n",
       "    "
      ],
      "text/plain": [
       "<IPython.core.display.Javascript object>"
      ]
     },
     "metadata": {},
     "output_type": "display_data"
    },
    {
     "data": {
      "application/javascript": [
       "\n",
       "        if (window._pyforest_update_imports_cell) { window._pyforest_update_imports_cell('from scipy import stats\\nimport pandas as pd\\nimport matplotlib.pyplot as plt\\nimport seaborn as sns\\nimport numpy as np'); }\n",
       "    "
      ],
      "text/plain": [
       "<IPython.core.display.Javascript object>"
      ]
     },
     "metadata": {},
     "output_type": "display_data"
    },
    {
     "data": {
      "application/javascript": [
       "\n",
       "        if (window._pyforest_update_imports_cell) { window._pyforest_update_imports_cell('from scipy import stats\\nimport pandas as pd\\nimport matplotlib.pyplot as plt\\nimport seaborn as sns\\nimport numpy as np'); }\n",
       "    "
      ],
      "text/plain": [
       "<IPython.core.display.Javascript object>"
      ]
     },
     "metadata": {},
     "output_type": "display_data"
    },
    {
     "data": {
      "image/png": "[encoded data removed]",
      "text/plain": [
       "<Figure size 1200x600 with 1 Axes>"
      ]
     },
     "metadata": {},
     "output_type": "display_data"
    }
   ],
   "source": [
    "make_distribution = data['make'].value_counts().head(20)\n",
    "\n",
    "plt.figure(figsize=(12, 6))\n",
    "make_distribution.plot(kind='bar')\n",
    "plt.xlabel('Make')\n",
    "plt.ylabel('Count')\n",
    "plt.title('Distribution of Cars by Make')\n",
    "plt.xticks(rotation=45)\n",
    "plt.show()"
   ]
  },
  {
   "cell_type": "code",
   "execution_count": 64,
   "id": "f542ae2b",
   "metadata": {},
   "outputs": [
    {
     "data": {
      "application/javascript": [
       "\n",
       "        if (window._pyforest_update_imports_cell) { window._pyforest_update_imports_cell('from scipy import stats\\nimport pandas as pd\\nimport matplotlib.pyplot as plt\\nimport seaborn as sns\\nimport numpy as np'); }\n",
       "    "
      ],
      "text/plain": [
       "<IPython.core.display.Javascript object>"
      ]
     },
     "metadata": {},
     "output_type": "display_data"
    },
    {
     "data": {
      "application/javascript": [
       "\n",
       "        if (window._pyforest_update_imports_cell) { window._pyforest_update_imports_cell('from scipy import stats\\nimport pandas as pd\\nimport matplotlib.pyplot as plt\\nimport seaborn as sns\\nimport numpy as np'); }\n",
       "    "
      ],
      "text/plain": [
       "<IPython.core.display.Javascript object>"
      ]
     },
     "metadata": {},
     "output_type": "display_data"
    },
    {
     "data": {
      "application/javascript": [
       "\n",
       "        if (window._pyforest_update_imports_cell) { window._pyforest_update_imports_cell('from scipy import stats\\nimport pandas as pd\\nimport matplotlib.pyplot as plt\\nimport seaborn as sns\\nimport numpy as np'); }\n",
       "    "
      ],
      "text/plain": [
       "<IPython.core.display.Javascript object>"
      ]
     },
     "metadata": {},
     "output_type": "display_data"
    },
    {
     "data": {
      "application/javascript": [
       "\n",
       "        if (window._pyforest_update_imports_cell) { window._pyforest_update_imports_cell('from scipy import stats\\nimport pandas as pd\\nimport matplotlib.pyplot as plt\\nimport seaborn as sns\\nimport numpy as np'); }\n",
       "    "
      ],
      "text/plain": [
       "<IPython.core.display.Javascript object>"
      ]
     },
     "metadata": {},
     "output_type": "display_data"
    },
    {
     "data": {
      "application/javascript": [
       "\n",
       "        if (window._pyforest_update_imports_cell) { window._pyforest_update_imports_cell('from scipy import stats\\nimport pandas as pd\\nimport matplotlib.pyplot as plt\\nimport seaborn as sns\\nimport numpy as np'); }\n",
       "    "
      ],
      "text/plain": [
       "<IPython.core.display.Javascript object>"
      ]
     },
     "metadata": {},
     "output_type": "display_data"
    },
    {
     "data": {
      "application/javascript": [
       "\n",
       "        if (window._pyforest_update_imports_cell) { window._pyforest_update_imports_cell('from scipy import stats\\nimport pandas as pd\\nimport matplotlib.pyplot as plt\\nimport seaborn as sns\\nimport numpy as np'); }\n",
       "    "
      ],
      "text/plain": [
       "<IPython.core.display.Javascript object>"
      ]
     },
     "metadata": {},
     "output_type": "display_data"
    },
    {
     "data": {
      "image/png": "[encoded data removed]",
      "text/plain": [
       "<Figure size 1200x600 with 1 Axes>"
      ]
     },
     "metadata": {},
     "output_type": "display_data"
    }
   ],
   "source": [
    "model_distribution = data['model'].value_counts().head(20)\n",
    "plt.figure(figsize=(12, 6))\n",
    "model_distribution.plot(kind='bar')\n",
    "plt.xlabel('Model')\n",
    "plt.ylabel('Count')\n",
    "plt.title('Distribution of Cars by Model')\n",
    "plt.xticks(rotation=45)\n",
    "plt.show()"
   ]
  },
  {
   "cell_type": "markdown",
   "id": "fc1da0d9",
   "metadata": {},
   "source": [
    "### b) Does the distribution of car models vary significantly across different owner types in the used car dataset?\n",
    "Note: Use appropriate test to determine if there is a significant relationship between car models and\n",
    "owner types"
   ]
  },
  {
   "cell_type": "code",
   "execution_count": 65,
   "id": "f43e18e2",
   "metadata": {},
   "outputs": [
    {
     "data": {
      "application/javascript": [
       "\n",
       "        if (window._pyforest_update_imports_cell) { window._pyforest_update_imports_cell('from scipy import stats\\nimport pandas as pd\\nimport matplotlib.pyplot as plt\\nimport seaborn as sns\\nimport numpy as np'); }\n",
       "    "
      ],
      "text/plain": [
       "<IPython.core.display.Javascript object>"
      ]
     },
     "metadata": {},
     "output_type": "display_data"
    },
    {
     "data": {
      "text/html": [
       "<div>\n",
       "<style scoped>\n",
       "    .dataframe tbody tr th:only-of-type {\n",
       "        vertical-align: middle;\n",
       "    }\n",
       "\n",
       "    .dataframe tbody tr th {\n",
       "        vertical-align: top;\n",
       "    }\n",
       "\n",
       "    .dataframe thead th {\n",
       "        text-align: right;\n",
       "    }\n",
       "</style>\n",
       "<table border=\"1\" class=\"dataframe\">\n",
       "  <thead>\n",
       "    <tr style=\"text-align: right;\">\n",
       "      <th>owner</th>\n",
       "      <th>First Owner</th>\n",
       "      <th>Fourth &amp; Above Owner</th>\n",
       "      <th>Second Owner</th>\n",
       "      <th>Test Drive Car</th>\n",
       "      <th>Third Owner</th>\n",
       "    </tr>\n",
       "    <tr>\n",
       "      <th>name</th>\n",
       "      <th></th>\n",
       "      <th></th>\n",
       "      <th></th>\n",
       "      <th></th>\n",
       "      <th></th>\n",
       "    </tr>\n",
       "  </thead>\n",
       "  <tbody>\n",
       "    <tr>\n",
       "      <th>Ambassador CLASSIC 1500 DSL AC</th>\n",
       "      <td>0</td>\n",
       "      <td>0</td>\n",
       "      <td>1</td>\n",
       "      <td>0</td>\n",
       "      <td>0</td>\n",
       "    </tr>\n",
       "    <tr>\n",
       "      <th>Ambassador Classic 2000 DSZ AC PS</th>\n",
       "      <td>0</td>\n",
       "      <td>0</td>\n",
       "      <td>1</td>\n",
       "      <td>0</td>\n",
       "      <td>0</td>\n",
       "    </tr>\n",
       "    <tr>\n",
       "      <th>Ambassador Grand 1500 DSZ BSIII</th>\n",
       "      <td>0</td>\n",
       "      <td>0</td>\n",
       "      <td>1</td>\n",
       "      <td>0</td>\n",
       "      <td>0</td>\n",
       "    </tr>\n",
       "    <tr>\n",
       "      <th>Ambassador Grand 2000 DSZ PW CL</th>\n",
       "      <td>0</td>\n",
       "      <td>0</td>\n",
       "      <td>0</td>\n",
       "      <td>0</td>\n",
       "      <td>1</td>\n",
       "    </tr>\n",
       "    <tr>\n",
       "      <th>Ashok Leyland Stile LE</th>\n",
       "      <td>0</td>\n",
       "      <td>0</td>\n",
       "      <td>1</td>\n",
       "      <td>0</td>\n",
       "      <td>0</td>\n",
       "    </tr>\n",
       "    <tr>\n",
       "      <th>...</th>\n",
       "      <td>...</td>\n",
       "      <td>...</td>\n",
       "      <td>...</td>\n",
       "      <td>...</td>\n",
       "      <td>...</td>\n",
       "    </tr>\n",
       "    <tr>\n",
       "      <th>Volvo V40 D3 R-Design</th>\n",
       "      <td>29</td>\n",
       "      <td>0</td>\n",
       "      <td>0</td>\n",
       "      <td>0</td>\n",
       "      <td>0</td>\n",
       "    </tr>\n",
       "    <tr>\n",
       "      <th>Volvo XC40 D4 Inscription BSIV</th>\n",
       "      <td>30</td>\n",
       "      <td>0</td>\n",
       "      <td>0</td>\n",
       "      <td>0</td>\n",
       "      <td>0</td>\n",
       "    </tr>\n",
       "    <tr>\n",
       "      <th>Volvo XC40 D4 R-Design</th>\n",
       "      <td>2</td>\n",
       "      <td>0</td>\n",
       "      <td>0</td>\n",
       "      <td>0</td>\n",
       "      <td>0</td>\n",
       "    </tr>\n",
       "    <tr>\n",
       "      <th>Volvo XC60 Inscription D5 BSIV</th>\n",
       "      <td>1</td>\n",
       "      <td>0</td>\n",
       "      <td>0</td>\n",
       "      <td>0</td>\n",
       "      <td>0</td>\n",
       "    </tr>\n",
       "    <tr>\n",
       "      <th>Volvo XC90 T8 Excellence BSIV</th>\n",
       "      <td>1</td>\n",
       "      <td>0</td>\n",
       "      <td>0</td>\n",
       "      <td>0</td>\n",
       "      <td>0</td>\n",
       "    </tr>\n",
       "  </tbody>\n",
       "</table>\n",
       "<p>1982 rows × 5 columns</p>\n",
       "</div>"
      ],
      "text/plain": [
       "owner                              First Owner  Fourth & Above Owner  \\\n",
       "name                                                                   \n",
       "Ambassador CLASSIC 1500 DSL AC               0                     0   \n",
       "Ambassador Classic 2000 DSZ AC PS            0                     0   \n",
       "Ambassador Grand 1500 DSZ BSIII              0                     0   \n",
       "Ambassador Grand 2000 DSZ PW CL              0                     0   \n",
       "Ashok Leyland Stile LE                       0                     0   \n",
       "...                                        ...                   ...   \n",
       "Volvo V40 D3 R-Design                       29                     0   \n",
       "Volvo XC40 D4 Inscription BSIV              30                     0   \n",
       "Volvo XC40 D4 R-Design                       2                     0   \n",
       "Volvo XC60 Inscription D5 BSIV               1                     0   \n",
       "Volvo XC90 T8 Excellence BSIV                1                     0   \n",
       "\n",
       "owner                              Second Owner  Test Drive Car  Third Owner  \n",
       "name                                                                          \n",
       "Ambassador CLASSIC 1500 DSL AC                1               0            0  \n",
       "Ambassador Classic 2000 DSZ AC PS             1               0            0  \n",
       "Ambassador Grand 1500 DSZ BSIII               1               0            0  \n",
       "Ambassador Grand 2000 DSZ PW CL               0               0            1  \n",
       "Ashok Leyland Stile LE                        1               0            0  \n",
       "...                                         ...             ...          ...  \n",
       "Volvo V40 D3 R-Design                         0               0            0  \n",
       "Volvo XC40 D4 Inscription BSIV                0               0            0  \n",
       "Volvo XC40 D4 R-Design                        0               0            0  \n",
       "Volvo XC60 Inscription D5 BSIV                0               0            0  \n",
       "Volvo XC90 T8 Excellence BSIV                 0               0            0  \n",
       "\n",
       "[1982 rows x 5 columns]"
      ]
     },
     "execution_count": 65,
     "metadata": {},
     "output_type": "execute_result"
    }
   ],
   "source": [
    "pd.crosstab(data.name, data.owner)"
   ]
  },
  {
   "cell_type": "code",
   "execution_count": 66,
   "id": "b7255b88",
   "metadata": {},
   "outputs": [],
   "source": [
    "# Chi-square test for relationship between car models and owner types\n",
    "# Null hypothesis: There is no significant relationship between car models and owner types\n",
    "# Alternative hypothesis: There is a significant relationship between car models and owner types"
   ]
  },
  {
   "cell_type": "code",
   "execution_count": 67,
   "id": "5e3687c9",
   "metadata": {},
   "outputs": [
    {
     "data": {
      "application/javascript": [
       "\n",
       "        if (window._pyforest_update_imports_cell) { window._pyforest_update_imports_cell('from scipy import stats\\nimport pandas as pd\\nimport matplotlib.pyplot as plt\\nimport seaborn as sns\\nimport numpy as np'); }\n",
       "    "
      ],
      "text/plain": [
       "<IPython.core.display.Javascript object>"
      ]
     },
     "metadata": {},
     "output_type": "display_data"
    },
    {
     "name": "stdout",
     "output_type": "stream",
     "text": [
      "Chi-square Statistic: 16109.76999495576\n",
      "P-value: 0.0\n"
     ]
    }
   ],
   "source": [
    "contingency_table = pd.crosstab(data['name'], data['owner'])\n",
    "\n",
    "# Perform chi-square test\n",
    "chi2_stat, p_value, dof, expected = chi2_contingency(contingency_table)\n",
    "\n",
    "print(\"Chi-square Statistic:\", chi2_stat)\n",
    "print(\"P-value:\", p_value)"
   ]
  },
  {
   "cell_type": "markdown",
   "id": "c2b55b18",
   "metadata": {},
   "source": [
    "### Inference-\n",
    "Since the p-value is extremely small (close to 0), much smaller than the commonly used significance level of 0.05, we reject the null hypothesis. This indicates that there is a statistically significant relationship between car models and owner types in the used car dataset.\n",
    "\n",
    "The chi-square statistic and the corresponding p-value suggest that there is a strong association between the car models and owner types. This means that the distribution of car models varies significantly across different owner types."
   ]
  },
  {
   "cell_type": "code",
   "execution_count": null,
   "id": "f307e7d0",
   "metadata": {},
   "outputs": [],
   "source": []
  },
  {
   "cell_type": "code",
   "execution_count": null,
   "id": "80eef4f9",
   "metadata": {},
   "outputs": [],
   "source": []
  },
  {
   "cell_type": "code",
   "execution_count": null,
   "id": "5854f0ab",
   "metadata": {},
   "outputs": [],
   "source": []
  },
  {
   "cell_type": "code",
   "execution_count": null,
   "id": "f389d71b",
   "metadata": {},
   "outputs": [],
   "source": []
  }
 ],
 "metadata": {
  "kernelspec": {
   "display_name": "Python 3 (ipykernel)",
   "language": "python",
   "name": "python3"
  },
  "language_info": {
   "codemirror_mode": {
    "name": "ipython",
    "version": 3
   },
   "file_extension": ".py",
   "mimetype": "text/x-python",
   "name": "python",
   "nbconvert_exporter": "python",
   "pygments_lexer": "ipython3",
   "version": "3.10.9"
  }
 },
 "nbformat": 4,
 "nbformat_minor": 5
}
